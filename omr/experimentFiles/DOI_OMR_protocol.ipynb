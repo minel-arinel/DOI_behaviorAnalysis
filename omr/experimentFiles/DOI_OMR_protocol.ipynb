{
 "cells": [
  {
   "cell_type": "code",
   "execution_count": null,
   "id": "250043bf",
   "metadata": {},
   "outputs": [],
   "source": [
    "import random"
   ]
  },
  {
   "cell_type": "code",
   "execution_count": null,
   "id": "b2363d80",
   "metadata": {},
   "outputs": [],
   "source": [
    "# Create pre-treatment OMR protocol with 10 trials for each direction\n",
    "# Stimuli are randomly selected as long as the same stimulus is not repeated consecutively\n",
    "\n",
    "stim_list = ['forward']*10 + ['backward']*10 + ['right']*10 + ['left']*10\n",
    "unused_stim = stim_list.copy()\n",
    "\n",
    "omr_stimuli = []\n",
    "while len(unused_stim) > 0:\n",
    "    used_stim = random.choice(unused_stim)\n",
    "    while used_stim == omr_stimuli[-1]:\n",
    "        used_stim = random.choice(unused_stim)\n",
    "    omr_stimuli.append(used_stim)\n",
    "    unused_stim.remove(used_stim)"
   ]
  },
  {
   "cell_type": "code",
   "execution_count": null,
   "id": "06b4c706",
   "metadata": {},
   "outputs": [],
   "source": [
    "# Create post-treatment OMR protocol with 30 trials for each direction\n",
    "# Stimuli are randomly selected as long as the same stimulus is not repeated consecutively\n",
    "\n",
    "stim_list = ['forward']*30 + ['backward']*30 + ['right']*30 + ['left']*30\n",
    "unused_stim = stim_list.copy()\n",
    "\n",
    "omr_stimuli = []\n",
    "while len(unused_stim) > 0:\n",
    "    used_stim = random.choice(unused_stim)\n",
    "    while used_stim == omr_stimuli[-1]:\n",
    "        used_stim = random.choice(unused_stim)\n",
    "    omr_stimuli.append(used_stim)\n",
    "    unused_stim.remove(used_stim)"
   ]
  },
  {
   "cell_type": "code",
   "execution_count": null,
   "id": "8de84d75",
   "metadata": {},
   "outputs": [],
   "source": [
    "# The output from the pre-treatment code is saved here to keep the protocol consistent across fish\n",
    "\n",
    "omr_stim = ['forward', 'right', 'left', 'forward', 'right', 'backward', 'left', 'backward', 'forward',\n",
    "                  'right', 'forward', 'backward', 'left', 'forward', 'backward', 'forward', 'left', 'right', 'forward',\n",
    "                  'backward', 'forward', 'left', 'backward', 'forward', 'right', 'left', 'backward', 'forward', 'left',\n",
    "                  'right', 'backward', 'right', 'left', 'backward', 'right', 'backward', 'right', 'left', 'right',\n",
    "                  'left']"
   ]
  },
  {
   "cell_type": "code",
   "execution_count": 48,
   "id": "9ece95a6",
   "metadata": {},
   "outputs": [],
   "source": [
    "# The output from the post-treatment code is saved here to keep the protocol consistent across fish\n",
    "\n",
    "omr_stim = ['left', 'right', 'backward', 'left', 'forward', 'right', 'left', 'forward', 'backward', 'left', 'right',\n",
    " 'left', 'right', 'backward', 'left', 'forward', 'right', 'left', 'backward', 'forward', 'backward', 'forward', 'left', 'backward',\n",
    " 'forward', 'backward', 'forward', 'left', 'right', 'left', 'right', 'backward', 'right', 'left', 'right', 'left', 'backward',\n",
    " 'left', 'right', 'left', 'forward', 'right', 'forward', 'backward', 'forward', 'backward', 'right', 'forward', 'left', 'backward',\n",
    " 'right', 'forward', 'right', 'forward', 'left', 'forward', 'right', 'left', 'forward', 'left', 'backward', 'left', 'forward',\n",
    " 'backward', 'forward', 'right', 'backward', 'right', 'forward', 'backward', 'forward', 'right', 'backward', 'forward', 'backward',\n",
    " 'left', 'backward', 'forward', 'backward', 'right', 'forward', 'backward', 'forward', 'backward', 'right', 'left', 'forward',\n",
    " 'left', 'right', 'forward', 'left', 'forward', 'right', 'backward', 'right', 'left', 'backward', 'left', 'forward', 'right',\n",
    " 'left', 'right', 'forward', 'backward', 'right', 'backward', 'right', 'backward', 'left', 'right', 'left', 'forward', 'right',\n",
    " 'left', 'right', 'forward', 'backward', 'left', 'backward', 'right']"
   ]
  }
 ],
 "metadata": {
  "kernelspec": {
   "display_name": "Python 3",
   "language": "python",
   "name": "python3"
  },
  "language_info": {
   "codemirror_mode": {
    "name": "ipython",
    "version": 3
   },
   "file_extension": ".py",
   "mimetype": "text/x-python",
   "name": "python",
   "nbconvert_exporter": "python",
   "pygments_lexer": "ipython3",
   "version": "3.8.5"
  }
 },
 "nbformat": 4,
 "nbformat_minor": 5
}
