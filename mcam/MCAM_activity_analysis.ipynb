{
 "cells": [
  {
   "cell_type": "code",
   "execution_count": 1,
   "metadata": {
    "collapsed": true
   },
   "outputs": [],
   "source": [
    "import matplotlib.pyplot as plt\n",
    "import numpy as np\n",
    "import os\n",
    "import pandas as pd"
   ]
  },
  {
   "cell_type": "code",
   "execution_count": 2,
   "outputs": [],
   "source": [
    "# Folder where the experiment folders are located\n",
    "data_folder = r'/Users/minelarinel/Documents/Duke University/Naumann Lab/DOI/Behavior/DOI_Experiments_MCAM'"
   ],
   "metadata": {
    "collapsed": false,
    "pycharm": {
     "name": "#%%\n"
    }
   }
  },
  {
   "cell_type": "markdown",
   "source": [
    "## Process and combine the individual datasets"
   ],
   "metadata": {
    "collapsed": false,
    "pycharm": {
     "name": "#%% md\n"
    }
   }
  },
  {
   "cell_type": "code",
   "execution_count": 29,
   "outputs": [],
   "source": [
    "total_dists = []  # list of dataframes\n",
    "\n",
    "# cols = ['distance_traveled', 'speed'] * 24\n",
    "# cols = ['time'] + cols\n",
    "\n",
    "with os.scandir(data_folder) as entries:\n",
    "    for entry in entries:\n",
    "        if os.path.isdir(entry.path) and entry.name.startswith('EK'):\n",
    "            b_csv_path = os.path.join(entry.path, 'baseline', 'Updated_Trimmed_Tracking', 'results', 'distance_traveled_key_metrics.csv')\n",
    "            b_df = pd.read_csv(b_csv_path, header=8)\n",
    "            total_dist = b_df.iloc[0, 1:].values\n",
    "            total_dists.append(total_dist)"
   ],
   "metadata": {
    "collapsed": false,
    "pycharm": {
     "name": "#%%\n"
    }
   }
  },
  {
   "cell_type": "code",
   "execution_count": 31,
   "outputs": [
    {
     "data": {
      "text/plain": "array([3.058022737503052, 2.0679564476013184, 2.368279218673706,\n       4.483320713043213, 4.25399112701416, 2.994264602661133,\n       3.703348159790039, 2.6395938396453857, 2.367569923400879,\n       2.486233949661255, 2.635164260864258, 3.1103100776672363,\n       2.1385140419006348, 2.947926521301269, 5.096944808959961,\n       2.907699584960937, 2.405505418777466, 4.0772552490234375,\n       2.788141965866089, 2.301112413406372, 2.7897298336029053,\n       3.765550136566162, 2.7119834423065186, 2.996327638626098,\n       1.875504732131958, 2.924000740051269, 3.703754425048828,\n       3.1901512145996094, 2.370060920715332, 3.3638756275177,\n       4.204057216644287, 5.465190887451172, 4.533875942230225,\n       4.265457630157471, 3.833876371383667, 3.5731921195983887,\n       4.69301176071167, 2.9574310779571533, 3.1178789138793945,\n       2.517230749130249, 2.5389537811279297, 2.139577627182007,\n       3.748011350631714, 2.3323724269866943, 1.9010664224624636,\n       3.004133939743042, 2.7685673236846924, 2.375107288360596,\n       2.0080013275146484, 4.393919944763184, 3.400366306304932,\n       2.0961647033691406, 3.3651864528656006, 3.8458480834960938,\n       2.228244543075561, 3.731848001480103, 2.857227563858032,\n       2.711207151412964, 2.540381908416748, 3.294365882873535,\n       3.181443214416504, 4.160015106201172, 3.0699479579925537,\n       5.194642066955566, 1.7414830923080444, 2.5612504482269287,\n       1.8837977647781368, 2.166562795639038, 2.189251661300659,\n       3.183367967605591, 3.3974480628967285, 2.923255920410156,\n       2.3607280254364014, 2.3953120708465576, 2.4321351051330566,\n       2.9461264610290527, 2.3450846672058105, 2.6993417739868164,\n       2.041135311126709, 2.311448574066162, 3.317711353302002,\n       2.679335832595825, 1.9015591144561768, 2.515652656555176,\n       1.788875937461853, 2.908389091491699, 3.186403751373291,\n       2.2626986503601074, 2.167899370193481, 2.548999547958374,\n       1.3181424140930176, 2.0919997692108154, 2.032964944839477,\n       1.4018709659576416, 1.7361539602279663, 2.2212486267089844,\n       3.610618114471436, 3.1210412979125977, 2.9535908699035645,\n       3.297981739044189, 2.5790786743164062, 4.94344425201416,\n       3.0220282077789307, 3.2858986854553223, 3.2731165885925293,\n       3.014585018157959, 2.2995593547821045, 4.244546413421631,\n       4.403116703033447, 2.5623927116394043, 3.9788410663604736,\n       4.533268451690674, 4.100241184234619, 3.71695613861084,\n       3.8398032188415527, 3.010410785675049, 3.554642677307129,\n       3.5319223403930664, 2.604013681411743, 2.834259033203125,\n       2.6179986000061035, 2.704086780548096, 3.5654635429382324,\n       3.0563135147094727, 3.1140124797821045, 1.745784878730774,\n       2.465059995651245, 2.580551147460937, 3.651620388031006,\n       3.491262674331665, 3.421144962310791, 1.6552886962890625,\n       1.6313728094100952, 2.4380173683166504, 3.0082831382751465,\n       2.7263104915618896, 2.3757987022399902, 2.6782896518707275,\n       1.5452415943145752, 2.7204909324646, 2.339373111724853,\n       2.1339073181152344, 2.610018014907837, 2.1891794204711914],\n      dtype=object)"
     },
     "execution_count": 31,
     "metadata": {},
     "output_type": "execute_result"
    }
   ],
   "source": [
    "total_dists = np.concatenate(total_dists)\n",
    "total_dists"
   ],
   "metadata": {
    "collapsed": false,
    "pycharm": {
     "name": "#%%\n"
    }
   }
  },
  {
   "cell_type": "code",
   "execution_count": 47,
   "outputs": [
    {
     "data": {
      "text/plain": "<Figure size 720x360 with 1 Axes>",
      "image/png": "[encoded data removed]"
     },
     "metadata": {
      "needs_background": "light"
     },
     "output_type": "display_data"
    }
   ],
   "source": [
    "fig = plt.figure(figsize=(10, 5))\n",
    "plt.hist(total_dists, bins=40)\n",
    "plt.xlabel('Total distance traveled (m)')\n",
    "plt.ylabel('Count')\n",
    "plt.show()"
   ],
   "metadata": {
    "collapsed": false,
    "pycharm": {
     "name": "#%%\n"
    }
   }
  },
  {
   "cell_type": "code",
   "execution_count": 48,
   "outputs": [
    {
     "data": {
      "text/plain": "2.811994433403015"
     },
     "execution_count": 48,
     "metadata": {},
     "output_type": "execute_result"
    }
   ],
   "source": [
    "np.median(total_dists)"
   ],
   "metadata": {
    "collapsed": false,
    "pycharm": {
     "name": "#%%\n"
    }
   }
  },
  {
   "cell_type": "code",
   "execution_count": 50,
   "outputs": [
    {
     "data": {
      "text/plain": "array([3.058022737503052, 4.483320713043213, 4.25399112701416,\n       2.994264602661133, 3.703348159790039, 3.1103100776672363,\n       2.947926521301269, 5.096944808959961, 2.907699584960937,\n       4.0772552490234375, 3.765550136566162, 2.996327638626098,\n       2.924000740051269, 3.703754425048828, 3.1901512145996094,\n       3.3638756275177, 4.204057216644287, 5.465190887451172,\n       4.533875942230225, 4.265457630157471, 3.833876371383667,\n       3.5731921195983887, 4.69301176071167, 2.9574310779571533,\n       3.1178789138793945, 3.748011350631714, 3.004133939743042,\n       4.393919944763184, 3.400366306304932, 3.3651864528656006,\n       3.8458480834960938, 3.731848001480103, 2.857227563858032,\n       3.294365882873535, 3.181443214416504, 4.160015106201172,\n       3.0699479579925537, 5.194642066955566, 3.183367967605591,\n       3.3974480628967285, 2.923255920410156, 2.9461264610290527,\n       3.317711353302002, 2.908389091491699, 3.186403751373291,\n       3.610618114471436, 3.1210412979125977, 2.9535908699035645,\n       3.297981739044189, 4.94344425201416, 3.0220282077789307,\n       3.2858986854553223, 3.2731165885925293, 3.014585018157959,\n       4.244546413421631, 4.403116703033447, 3.9788410663604736,\n       4.533268451690674, 4.100241184234619, 3.71695613861084,\n       3.8398032188415527, 3.010410785675049, 3.554642677307129,\n       3.5319223403930664, 2.834259033203125, 3.5654635429382324,\n       3.0563135147094727, 3.1140124797821045, 3.651620388031006,\n       3.491262674331665, 3.421144962310791, 3.0082831382751465],\n      dtype=object)"
     },
     "execution_count": 50,
     "metadata": {},
     "output_type": "execute_result"
    }
   ],
   "source": [
    "total_dists[np.where(total_dists >= np.median(total_dists))]"
   ],
   "metadata": {
    "collapsed": false,
    "pycharm": {
     "name": "#%%\n"
    }
   }
  },
  {
   "cell_type": "code",
   "execution_count": null,
   "outputs": [],
   "source": [],
   "metadata": {
    "collapsed": false,
    "pycharm": {
     "name": "#%%\n"
    }
   }
  }
 ],
 "metadata": {
  "kernelspec": {
   "display_name": "Python 3",
   "language": "python",
   "name": "python3"
  },
  "language_info": {
   "codemirror_mode": {
    "name": "ipython",
    "version": 2
   },
   "file_extension": ".py",
   "mimetype": "text/x-python",
   "name": "python",
   "nbconvert_exporter": "python",
   "pygments_lexer": "ipython2",
   "version": "2.7.6"
  }
 },
 "nbformat": 4,
 "nbformat_minor": 0
}