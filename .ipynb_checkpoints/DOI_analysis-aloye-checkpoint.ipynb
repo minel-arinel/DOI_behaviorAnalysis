{
 "cells": [
  {
   "cell_type": "code",
   "execution_count": 1,
   "metadata": {},
   "outputs": [
    {
     "name": "stdout",
     "output_type": "stream",
     "text": [
      "no caiman available\n",
      "no pandastim available\n"
     ]
    }
   ],
   "source": [
    "%reload_ext autoreload\n",
    "%autoreload 2\n",
    "from DOI_analysis_functions import *"
   ]
  },
  {
   "cell_type": "code",
   "execution_count": 2,
   "metadata": {},
   "outputs": [],
   "source": [
    "pd.set_option('display.max_columns', None)"
   ]
  },
  {
   "cell_type": "markdown",
   "metadata": {},
   "source": [
    "### Data Folder for Lab Computer"
   ]
  },
  {
   "cell_type": "code",
   "execution_count": null,
   "metadata": {},
   "outputs": [],
   "source": [
    "data_folder = r\"D:\\behavior\\data\"\n",
    "exp_folder = \"EK_6dpf_DOI_50ugml_20230206\""
   ]
  },
  {
   "cell_type": "markdown",
   "metadata": {},
   "source": [
    "### Data Folder for Aloye's Personal Computer"
   ]
  },
  {
   "cell_type": "code",
   "execution_count": null,
   "metadata": {},
   "outputs": [],
   "source": [
    "data_folder = \"/Volumes/NAUMANN LAB/behavior/data\"\n",
    "exp_folder = \"EK_6dpf_DOI_50ugml_20230206\""
   ]
  },
  {
   "cell_type": "markdown",
   "metadata": {},
   "source": [
    "## For new experiments"
   ]
  },
  {
   "cell_type": "code",
   "execution_count": null,
   "metadata": {},
   "outputs": [],
   "source": [
    "# Set the folder directory to where the rig files are located\n",
    "parent_folder = os.path.join(data_folder, exp_folder)"
   ]
  },
  {
   "cell_type": "code",
   "execution_count": null,
   "metadata": {
    "scrolled": false
   },
   "outputs": [],
   "source": [
    "create_newdf(parent_folder)"
   ]
  },
  {
   "cell_type": "code",
   "execution_count": null,
   "metadata": {
    "scrolled": true
   },
   "outputs": [],
   "source": [
    "create_newboutdf(parent_folder)"
   ]
  },
  {
   "cell_type": "code",
   "execution_count": null,
   "metadata": {},
   "outputs": [],
   "source": [
    "# Re-run the OMR experiments\n",
    "\n",
    "exps = [\"EK_8dpf_DOI_50ugml_20230201\", \"EK_8dpf_DOI_0ugml_20230201\"]\n",
    "for exp in exps:\n",
    "    parent_folder = os.path.join(data_folder, exp)\n",
    "#     create_newdf(parent_folder)\n",
    "    create_newboutdf(parent_folder)"
   ]
  },
  {
   "cell_type": "code",
   "execution_count": null,
   "metadata": {
    "scrolled": true
   },
   "outputs": [],
   "source": [
    "# Re-run the locomotor experiments\n",
    "\n",
    "exps = ['EK_6dpf_DOI_0ugml_20211111', 'EK_6dpf_DOI_0ugml_2_20211111', 'EK_7dpf_DOI_10ugml_20211112', \n",
    "        'EK_7dpf_DOI_10ugml_2_20211112', 'EK_9dpf_DOI_50ugml_20211114', 'EK_9dpf_DOI_50ugml_2_20211114', \n",
    "        'EK_10dpf_DOI_75ugml_20211115', 'EK_10dpf_DOI_75ugml_2_20211115', 'EK_11dpf_DOI_100ugml_2_20211116', \n",
    "        'EK_6dpf_DOI_75ugml_20211117', 'EK_6dpf_DOI_75ugml_2_20211117', 'EK_7dpf_DOI_100ugml_20211118', \n",
    "        'EK_7dpf_DOI_100ugml_2_20211118', 'EK_8dpf_DOI_0ugml_20211119', 'EK_8dpf_DOI_0ugml_2_20211119', \n",
    "        'EK_11dpf_DOI_50ugml_2_20211122', 'EK_11dpf_DOI_25ugml_20211122', 'EK_6dpf_DOI_25ugml_20211129', \n",
    "        'EK_6dpf_DOI_25ugml_2_20211129', 'EK_6dpf_DOI_50ugml_20211129', 'EK_7dpf_DOI_50ugml_20211130', \n",
    "        'EK_7dpf_DOI_50ugml_2_20211130', 'EK_8dpf_DOI_25ugml_20211201', 'EK_8dpf_DOI_25ugml_2_20211201', \n",
    "        'EK_8dpf_DOI_75ugml_20211201', 'EK_9dpf_DOI_100ugml_20211202', 'EK_9dpf_DOI_100ugml_2_20211202', \n",
    "        'EK_9dpf_DOI_100ugml_3_20211202', 'EK_10dpf_DOI_25ugml_20211203', 'EK_10dpf_DOI_25ugml_2_20211203', \n",
    "        'EK_6dpf_DOI_50ugml_20211208', 'EK_6dpf_DOI_10ugml_20211208', 'EK_7dpf_DOI_10ugml_20211209', \n",
    "        'EK_7dpf_DOI_10ugml_2_20211209', 'EK_7dpf_DOI_10ugml_3_20211209', 'EK_8dpf_DOI_75ugml_20211210', \n",
    "        'EK_8dpf_DOI_0ugml_20211210', 'EK_6dpf_DOI_10ugml_20211215', 'EK_6dpf_DOI_100ugml_20211215', \n",
    "        'EK_7dpf_DOI_100ugml_20211216', 'EK_8dpf_DOI_25ugml_20211217', 'EK_9dpf_DOI_10ugml_20211218', \n",
    "        'EK_9dpf_DOI_10ugml_2_20211218', 'EK_10dpf_DOI_0ugml_20211219', 'EK_10dpf_DOI_0ugml_2_20211219']\n",
    "for exp in exps:\n",
    "    parent_folder = fr\"C:\\Users\\minel\\iCloudDrive\\Documents\\Duke University\\Naumann Lab\\DOI\\Behavior\\locomotor_behavior\\{exp}\"\n",
    "    create_newdf(parent_folder)\n",
    "    create_newboutdf(parent_folder)"
   ]
  },
  {
   "cell_type": "markdown",
   "metadata": {},
   "source": [
    "## Eliminate bad fish"
   ]
  },
  {
   "cell_type": "code",
   "execution_count": null,
   "metadata": {
    "scrolled": false
   },
   "outputs": [],
   "source": [
    "try:\n",
    "    selected_fish = pd.read_hdf(os.path.join(data_folder, 'selected_fish.h5'))\n",
    "    selected_dict = selected_fish.to_dict()\n",
    "    selected_dict\n",
    "except FileNotFoundError:\n",
    "    selected_dict = {\n",
    "        \"0ugml\" : {8:[]},\n",
    "        \"50ugml\" : {8 :[]},\n",
    "        \"100ugml\" : {8:[]}\n",
    "    }"
   ]
  },
  {
   "cell_type": "code",
   "execution_count": null,
   "metadata": {},
   "outputs": [],
   "source": [
    "parent_folder = os.path.join(data_folder, exp_folder)"
   ]
  },
  {
   "cell_type": "code",
   "execution_count": null,
   "metadata": {},
   "outputs": [],
   "source": [
    "# Read the exp dataframes\n",
    "lvl = 'exp'\n",
    "conc = parent_folder[parent_folder.rfind('DOI')+4 : parent_folder.rfind('ugml')+4]\n",
    "age = int(parent_folder[:parent_folder.rfind('dpf')][parent_folder[:parent_folder.rfind('dpf')].rfind('_')+1:])\n",
    "df_path = os.path.join(parent_folder, parent_folder[parent_folder.rfind('\\\\')+1:] + '_finaldf.h5')\n",
    "df = pd.read_hdf(df_path)\n",
    "bout_path = os.path.join(parent_folder, parent_folder[parent_folder.rfind('\\\\')+1:] + '_finalboutdf.h5')\n",
    "boutdf = pd.read_hdf(bout_path)"
   ]
  },
  {
   "cell_type": "code",
   "execution_count": null,
   "metadata": {},
   "outputs": [],
   "source": [
    "df"
   ]
  },
  {
   "cell_type": "code",
   "execution_count": null,
   "metadata": {},
   "outputs": [],
   "source": [
    "boutcount_df = measurepertime(boutdf, measure='boutcount', time='min')\n",
    "boutcount_df"
   ]
  },
  {
   "cell_type": "code",
   "execution_count": null,
   "metadata": {},
   "outputs": [],
   "source": [
    "# for x in boutcount_df[442]['baseline'].values:\n",
    "#     print(x)\n",
    "# vals.e\n",
    "data_top = boutcount_df.head() \n",
    "lst = list(data_top.index)\n",
    "print(lst)"
   ]
  },
  {
   "cell_type": "code",
   "execution_count": null,
   "metadata": {},
   "outputs": [],
   "source": [
    "fish_criteria_checker = barplot_perfish(parent_folder, boutcount_df, level=lvl)\n",
    "good_fish = fish_criteria_checker[0]\n",
    "inactive_fish = fish_criteria_checker[1]\n",
    "if len(good_fish) > 0:\n",
    "    if age not in selected_dict[conc].keys():\n",
    "        selected_dict[conc][age] = []\n",
    "    try:\n",
    "        if np.isnan(selected_dict[conc][age]):\n",
    "            selected_dict[conc][age] = []\n",
    "            \n",
    "    except ValueError:\n",
    "        pass\n",
    "    [selected_dict[conc][age].append(fish) for fish in good_fish if fish not in selected_dict[conc][age]]\n",
    "    pd.DataFrame(selected_dict).to_hdf(os.path.join(data_folder, 'selected_fish.h5'), key='selected_fish', mode='w')"
   ]
  },
  {
   "cell_type": "code",
   "execution_count": null,
   "metadata": {},
   "outputs": [],
   "source": [
    "print(good_fish)\n",
    "print(inactive_fish)"
   ]
  },
  {
   "cell_type": "code",
   "execution_count": null,
   "metadata": {},
   "outputs": [],
   "source": [
    "stim_lst = ['habituation', 'forward', 'right', 'left', 'backward']\n",
    "for stim in stim_lst:\n",
    "    print(stim)"
   ]
  },
  {
   "cell_type": "code",
   "execution_count": null,
   "metadata": {},
   "outputs": [],
   "source": [
    "boutcount_df.loc['habituation']"
   ]
  },
  {
   "cell_type": "code",
   "execution_count": null,
   "metadata": {},
   "outputs": [],
   "source": [
    "selected_dict"
   ]
  },
  {
   "cell_type": "code",
   "execution_count": null,
   "metadata": {},
   "outputs": [],
   "source": [
    "lineplot_perfish(parent_folder, boutdf, level=lvl, measure='distance')"
   ]
  },
  {
   "cell_type": "code",
   "execution_count": null,
   "metadata": {},
   "outputs": [],
   "source": [
    "lineplot_perfish(parent_folder, boutdf, level=lvl, measure='dist_from_center')"
   ]
  },
  {
   "cell_type": "code",
   "execution_count": null,
   "metadata": {},
   "outputs": [],
   "source": [
    "histplot(parent_folder, boutdf, level=lvl, measure='bout_duration')"
   ]
  },
  {
   "cell_type": "code",
   "execution_count": null,
   "metadata": {
    "scrolled": false
   },
   "outputs": [],
   "source": [
    "histplot_perfish(parent_folder, boutdf, level=lvl, measure='bout_angle')"
   ]
  },
  {
   "cell_type": "code",
   "execution_count": null,
   "metadata": {},
   "outputs": [],
   "source": [
    "scatterplot_perfish(parent_folder, df, level=lvl, stim_name='right')"
   ]
  },
  {
   "cell_type": "code",
   "execution_count": null,
   "metadata": {},
   "outputs": [],
   "source": [
    "scatterplot_perfish(parent_folder, df, level=lvl, stim_name='left')"
   ]
  },
  {
   "cell_type": "code",
   "execution_count": null,
   "metadata": {},
   "outputs": [],
   "source": [
    "# Re-run the OMR experiments\n",
    "\n",
    "exps = ['EK_8dpf_DOI_50ugml_20230201']\n",
    "for exp in exps:\n",
    "    parent_folder = os.path.join(data_folder, exp_folder)\n",
    "    scatterplot_perfish(parent_folder, df, level=lvl, stim_name='right')\n",
    "    scatterplot_perfish(parent_folder, df, level=lvl, stim_name='left')"
   ]
  },
  {
   "cell_type": "code",
   "execution_count": null,
   "metadata": {},
   "outputs": [],
   "source": [
    "# Re-run the locomotor experiments\n",
    "DOI_concs = ['0ugml', '10ugml', '25ugml', '50ugml', '75ugml', '100ugml']\n",
    "lvl = 'exp'\n",
    "selected_dict = {_conc: {} for _conc in DOI_concs}\n",
    "exps = ['EK_6dpf_DOI_0ugml_20211111', 'EK_6dpf_DOI_0ugml_2_20211111', 'EK_7dpf_DOI_10ugml_20211112', \n",
    "        'EK_7dpf_DOI_10ugml_2_20211112', 'EK_9dpf_DOI_50ugml_20211114', 'EK_9dpf_DOI_50ugml_2_20211114', \n",
    "        'EK_10dpf_DOI_75ugml_20211115', 'EK_10dpf_DOI_75ugml_2_20211115', 'EK_11dpf_DOI_100ugml_2_20211116', \n",
    "        'EK_6dpf_DOI_75ugml_20211117', 'EK_6dpf_DOI_75ugml_2_20211117', 'EK_7dpf_DOI_100ugml_20211118', \n",
    "        'EK_7dpf_DOI_100ugml_2_20211118', 'EK_8dpf_DOI_0ugml_20211119', 'EK_8dpf_DOI_0ugml_2_20211119', \n",
    "        'EK_11dpf_DOI_50ugml_2_20211122', 'EK_11dpf_DOI_25ugml_20211122', 'EK_6dpf_DOI_25ugml_20211129', \n",
    "        'EK_6dpf_DOI_25ugml_2_20211129', 'EK_6dpf_DOI_50ugml_20211129', 'EK_7dpf_DOI_50ugml_20211130', \n",
    "        'EK_7dpf_DOI_50ugml_2_20211130', 'EK_8dpf_DOI_25ugml_20211201', 'EK_8dpf_DOI_25ugml_2_20211201', \n",
    "        'EK_8dpf_DOI_75ugml_20211201', 'EK_9dpf_DOI_100ugml_20211202', 'EK_9dpf_DOI_100ugml_2_20211202', \n",
    "        'EK_9dpf_DOI_100ugml_3_20211202', 'EK_10dpf_DOI_25ugml_20211203', 'EK_10dpf_DOI_25ugml_2_20211203', \n",
    "        'EK_6dpf_DOI_50ugml_20211208', 'EK_6dpf_DOI_10ugml_20211208', 'EK_7dpf_DOI_10ugml_20211209', \n",
    "        'EK_7dpf_DOI_10ugml_2_20211209', 'EK_7dpf_DOI_10ugml_3_20211209', 'EK_8dpf_DOI_75ugml_20211210', \n",
    "        'EK_8dpf_DOI_0ugml_20211210', 'EK_6dpf_DOI_10ugml_20211215', 'EK_6dpf_DOI_100ugml_20211215', \n",
    "        'EK_7dpf_DOI_100ugml_20211216', 'EK_8dpf_DOI_25ugml_20211217', 'EK_9dpf_DOI_10ugml_20211218', \n",
    "        'EK_9dpf_DOI_10ugml_2_20211218', 'EK_10dpf_DOI_0ugml_20211219', 'EK_10dpf_DOI_0ugml_2_20211219']\n",
    "for exp in exps:\n",
    "    parent_folder = fr\"C:\\Users\\minel\\iCloudDrive\\Documents\\Duke University\\Naumann Lab\\DOI\\Behavior\\locomotor_behavior\\{exp}\"\n",
    "    conc = parent_folder[parent_folder.rfind('DOI')+4 : parent_folder.rfind('ugml')+4]\n",
    "    age = int(parent_folder[:parent_folder.rfind('dpf')][parent_folder[:parent_folder.rfind('dpf')].rfind('_')+1:])\n",
    "#     df_path = os.path.join(parent_folder, parent_folder[parent_folder.rfind('\\\\')+1:] + '_finaldf.h5')\n",
    "#     df = pd.read_hdf(df_path)\n",
    "    bout_path = os.path.join(parent_folder, parent_folder[parent_folder.rfind('\\\\')+1:] + '_finalboutdf.h5')\n",
    "    boutdf = pd.read_hdf(bout_path)\n",
    "    boutcount_df = measurepertime(boutdf, measure='boutcount', time='min')\n",
    "    good_fish = barplot_perfish(parent_folder, boutcount_df, level=lvl)\n",
    "    if len(good_fish) > 0:\n",
    "        if age not in selected_dict[conc].keys():\n",
    "            selected_dict[conc][age] = []\n",
    "        [selected_dict[conc][age].append(fish) for fish in good_fish if fish not in selected_dict[conc][age]]\n",
    "        pd.DataFrame(selected_dict).to_hdf(os.path.join(data_folder, 'selected_fish.h5'), key='selected_fish', mode='w')\n",
    "#     lineplot_perfish(parent_folder, boutdf, level=lvl, measure='distance')\n",
    "#     lineplot_perfish(parent_folder, boutdf, level=lvl, measure='dist_from_center')\n",
    "#     histplot(parent_folder, boutdf, level=lvl, measure='bout_duration')\n",
    "#     histplot_perfish(parent_folder, boutdf, level=lvl, measure='bout_angle')\n",
    "#     scatterplot_perfish(parent_folder, df, level=lvl, stim_name='right')\n",
    "#     scatterplot_perfish(parent_folder, df, level=lvl, stim_name='left')"
   ]
  },
  {
   "cell_type": "markdown",
   "metadata": {},
   "source": [
    "## For combining selected fish with previous experiments"
   ]
  },
  {
   "cell_type": "code",
   "execution_count": null,
   "metadata": {},
   "outputs": [],
   "source": [
    "selected_fish"
   ]
  },
  {
   "cell_type": "code",
   "execution_count": null,
   "metadata": {
    "scrolled": true
   },
   "outputs": [],
   "source": [
    "# DOI_concs = ['0ugml', '10ugml', '25ugml', '50ugml', '75ugml', '100ugml']\n",
    "DOI_concs = ['0ugml','50ugml', '100ugml']\n",
    "# selected_dict = {_conc: {} for _conc in DOI_concs}\n",
    "selected_fish = pd.read_hdf(os.path.join(data_folder, 'selected_fish.h5'))\n",
    "selected_dict = selected_fish.to_dict()\n",
    "selected_dict"
   ]
  },
  {
   "cell_type": "code",
   "execution_count": null,
   "metadata": {},
   "outputs": [],
   "source": [
    "for _conc in DOI_concs:\n",
    "    try:\n",
    "        if all(np.isnan(list(selected_dict[_conc].values()))):\n",
    "            print('No fish for ' + _conc)\n",
    "            continue\n",
    "    except:\n",
    "        \n",
    "        good_fish = [_fish for _list in list(selected_dict[_conc].values()) if type(_list) == list for _fish in _list]\n",
    "        create_concdf(data_folder, _conc, good_fish)\n",
    "        print('concdf created for ' + _conc)"
   ]
  },
  {
   "cell_type": "code",
   "execution_count": null,
   "metadata": {},
   "outputs": [],
   "source": [
    "'''DOI_conc = '100ugml'\n",
    "good_fish = [114, 115, 116, 117, 119, 120, 185, 186, 188, 189, 190, 192, 193, 194, 195, 196, 237, 238, 239, 240, 241, 242, 243, \n",
    "             244] # for 100 ug/ml\n",
    "create_concdf(data_folder, DOI_conc, good_fish)\n",
    "\n",
    "DOI_conc = '75ugml'\n",
    "good_fish = [89, 90, 92, 93, 94, 95, 96, 105, 107, 108, 109, 111, 112, 181, 182, 183, 184, 225, 226, 227, 228] # for 75 ug/ml\n",
    "create_concdf(data_folder, DOI_conc, good_fish)\n",
    "\n",
    "DOI_conc = '50ugml'\n",
    "good_fish = [81, 82, 83, 85, 86, 87, 88, 161, 162, 163, 164, 165, 167, 168, 169, 170, 171, 172, 205, 206, 207] # for 50 ug/ml\n",
    "create_concdf(data_folder, DOI_conc, good_fish)\n",
    "\n",
    "DOI_conc = '25ugml'\n",
    "good_fish = [153, 155, 156, 157, 158, 159, 160, 173, 174, 175, 176, 178, 179, 180, 197, 198, 199, 200, 201, 203, 204, 245, 246, \n",
    "             247, 248] # for 25 ug/ml\n",
    "create_concdf(data_folder, DOI_conc, good_fish)\n",
    "\n",
    "DOI_conc = '10ugml'\n",
    "good_fish = [73, 74, 75, 77, 78, 79, 210, 211, 217, 218, 219, 220, 221, 222, 223, 224, 233, 234, 235, 252, 253, 254, 255, 256] # for 10 ug/ml\n",
    "create_concdf(data_folder, DOI_conc, good_fish)\n",
    "\n",
    "DOI_conc = '0ugml'\n",
    "good_fish = [66, 67, 68, 69, 70, 71, 72, 122, 123, 124, 125, 126, 127, 128, 229, 230, 231, 232, 257, 258, 259, 261, 262, 264] # for 0 ug/ml (egg water)\n",
    "create_concdf(data_folder, DOI_conc, good_fish)'''"
   ]
  },
  {
   "cell_type": "markdown",
   "metadata": {},
   "source": [
    "## Within concentration data analysis"
   ]
  },
  {
   "cell_type": "code",
   "execution_count": null,
   "metadata": {},
   "outputs": [],
   "source": [
    "DOI_conc = '50ugml'"
   ]
  },
  {
   "cell_type": "code",
   "execution_count": null,
   "metadata": {},
   "outputs": [],
   "source": [
    "# df_path = os.path.join(data_folder, f'{DOI_conc}_DOI_selected_finaldf.h5')\n",
    "# df = pd.read_hdf(df_path)\n",
    "bout_path = os.path.join(data_folder, f'{DOI_conc}_DOI_selected_finalboutdf.h5')\n",
    "boutdf = pd.read_hdf(bout_path)"
   ]
  },
  {
   "cell_type": "code",
   "execution_count": null,
   "metadata": {},
   "outputs": [],
   "source": [
    "lineplot_perconc(data_folder, boutdf, measure='distance')"
   ]
  },
  {
   "cell_type": "code",
   "execution_count": null,
   "metadata": {},
   "outputs": [],
   "source": [
    "lineplot_perconc_baselinenorm(data_folder, boutdf, measure='distance')"
   ]
  },
  {
   "cell_type": "code",
   "execution_count": null,
   "metadata": {},
   "outputs": [],
   "source": [
    "lineplot_perconc(data_folder, boutdf, measure='dist_from_center')"
   ]
  },
  {
   "cell_type": "code",
   "execution_count": null,
   "metadata": {},
   "outputs": [],
   "source": [
    "lineplot_perconc_baselinenorm(data_folder, boutdf, measure='dist_from_center')"
   ]
  },
  {
   "cell_type": "code",
   "execution_count": null,
   "metadata": {
    "scrolled": false
   },
   "outputs": [],
   "source": [
    "histplot_perconc(data_folder, boutdf, 'bout_angle')"
   ]
  },
  {
   "cell_type": "code",
   "execution_count": null,
   "metadata": {},
   "outputs": [],
   "source": [
    "histplot_perconc(data_folder, boutdf, 'bout_duration')"
   ]
  },
  {
   "cell_type": "markdown",
   "metadata": {},
   "source": [
    "## Between concentration data analysis"
   ]
  },
  {
   "cell_type": "code",
   "execution_count": null,
   "metadata": {},
   "outputs": [],
   "source": [
    "create_alldf(data_folder)"
   ]
  },
  {
   "cell_type": "code",
   "execution_count": null,
   "metadata": {},
   "outputs": [],
   "source": [
    "alldf = pd.read_hdf(os.path.join(data_folder, 'alldf.h5'))"
   ]
  },
  {
   "cell_type": "code",
   "execution_count": null,
   "metadata": {},
   "outputs": [],
   "source": [
    "alldf"
   ]
  },
  {
   "cell_type": "code",
   "execution_count": null,
   "metadata": {},
   "outputs": [],
   "source": [
    "plot_all_distovertime(data_folder, alldf)"
   ]
  },
  {
   "cell_type": "code",
   "execution_count": null,
   "metadata": {},
   "outputs": [],
   "source": [
    "bin_sums = plot_all_distovertime_normalized(data_folder, alldf)"
   ]
  },
  {
   "cell_type": "code",
   "execution_count": null,
   "metadata": {},
   "outputs": [],
   "source": [
    "labels = [int(i) for i in alldf.concentration.unique()]\n",
    "labels.sort()\n",
    "bin_anova(bin_sums, labels)"
   ]
  },
  {
   "cell_type": "code",
   "execution_count": null,
   "metadata": {},
   "outputs": [],
   "source": [
    "plt_avgperconc(data_folder, alldf, 'dist')"
   ]
  },
  {
   "cell_type": "code",
   "execution_count": null,
   "metadata": {},
   "outputs": [],
   "source": [
    "plt_avgperconc(data_folder, alldf, 'boutcount')"
   ]
  },
  {
   "cell_type": "code",
   "execution_count": null,
   "metadata": {},
   "outputs": [],
   "source": [
    "plt_avgperconc(data_folder, alldf, 'thigmotaxis_dist')"
   ]
  },
  {
   "cell_type": "code",
   "execution_count": null,
   "metadata": {},
   "outputs": [],
   "source": [
    "plt_avgperconc(data_folder, alldf, 'thigmotaxis_time')"
   ]
  },
  {
   "cell_type": "code",
   "execution_count": null,
   "metadata": {},
   "outputs": [],
   "source": []
  },
  {
   "cell_type": "code",
   "execution_count": null,
   "metadata": {},
   "outputs": [],
   "source": []
  },
  {
   "cell_type": "code",
   "execution_count": null,
   "metadata": {},
   "outputs": [],
   "source": [
    "stimulus = 'left'\n",
    "stimdf = dataframe[dataframe.stim_name==stimulus]\n",
    "hist, std, bins = Hist(dataframe, boutframe, stims=[stimulus])\n",
    "\n",
    "fig, ax = plt.subplots(1,4, figsize=(16,6))\n",
    "\n",
    "ax[0].set_title(f'Cumulative Theta {stimulus}')\n",
    "ax[1].set_title(f'Cumulative Theta {stimulus}')\n",
    "\n",
    "for stim_ind in stimdf.stim_index.unique():\n",
    "    ind_df = stimdf[stimdf.stim_index==stim_ind]\n",
    "    try:\n",
    "        ax[0].plot(ind_df.stim_time.values, ind_df.cum_theta.values)\n",
    "    except:\n",
    "        pass\n",
    "\n",
    "try:\n",
    "    ax[1].plot(bins[1:], gaussian_filter(hist, sigma=1))\n",
    "except:\n",
    "    pass\n",
    "\n",
    "stimulus = 'right'\n",
    "stimdf = dataframe[dataframe.stim_name==stimulus]\n",
    "hist, std, bins = Hist(dataframe, boutframe, stims=[stimulus])\n",
    "\n",
    "for stim_ind in stimdf.stim_index.unique():\n",
    "    ind_df = stimdf[stimdf.stim_index==stim_ind]\n",
    "    try:\n",
    "        ax[2].plot(ind_df.stim_time.values, ind_df.cum_theta.values)\n",
    "    except:\n",
    "        pass\n",
    "\n",
    "try:\n",
    "    ax[3].plot(bins[1:], gaussian_filter(hist, sigma=1))\n",
    "except:\n",
    "    pass\n",
    "\n",
    "ax[2].set_title(f'Bout Frequency {stimulus}')\n",
    "ax[3].set_title(f'Bout Frequency {stimulus}')\n",
    "\n",
    "ax[0].set_xlim(0,15)\n",
    "ax[0].set_ylim(-10,10)\n",
    "ax[2].set_xlim(0,15)\n",
    "ax[2].set_ylim(-10,10)\n",
    "\n",
    "ax[1].set_ylim(-5,100)\n",
    "ax[3].set_ylim(-5,100)\n",
    "\n",
    "fig.suptitle(f'fish: {3},  rig: {5}')\n",
    "plt.show()"
   ]
  },
  {
   "cell_type": "code",
   "execution_count": null,
   "metadata": {},
   "outputs": [],
   "source": []
  }
 ],
 "metadata": {
  "kernelspec": {
   "display_name": "Python 3",
   "language": "python",
   "name": "python3"
  },
  "language_info": {
   "codemirror_mode": {
    "name": "ipython",
    "version": 3
   },
   "file_extension": ".py",
   "mimetype": "text/x-python",
   "name": "python",
   "nbconvert_exporter": "python",
   "pygments_lexer": "ipython3",
   "version": "3.7.4"
  }
 },
 "nbformat": 4,
 "nbformat_minor": 4
}
