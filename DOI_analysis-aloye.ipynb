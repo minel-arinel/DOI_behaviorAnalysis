{
 "cells": [
  {
   "cell_type": "code",
   "execution_count": 1,
   "metadata": {},
   "outputs": [
    {
     "name": "stdout",
     "output_type": "stream",
     "text": [
      "no caiman available\n",
      "no pandastim available\n"
     ]
    }
   ],
   "source": [
    "%reload_ext autoreload\n",
    "%autoreload 2\n",
    "from DOI_analysis_functions import *"
   ]
  },
  {
   "cell_type": "code",
   "execution_count": 2,
   "metadata": {},
   "outputs": [],
   "source": [
    "pd.set_option('display.max_columns', None)"
   ]
  },
  {
   "cell_type": "code",
   "execution_count": 3,
   "metadata": {},
   "outputs": [],
   "source": [
    "data_folder = r\"D:\\behavior\\data\" # For lab computer\n",
    "# data_folder = \"/Volumes/NAUMANN LAB/behavior/data\" # For personal Macbook\n",
    "exp_folder = \"EK_6dpf_DOI_50ugml_20230206\""
   ]
  },
  {
   "cell_type": "markdown",
   "metadata": {},
   "source": [
    "## For new experiments"
   ]
  },
  {
   "cell_type": "code",
   "execution_count": null,
   "metadata": {},
   "outputs": [],
   "source": [
    "# Set the folder directory to where the rig files are located\n",
    "parent_folder = os.path.join(data_folder, exp_folder)"
   ]
  },
  {
   "cell_type": "code",
   "execution_count": null,
   "metadata": {
    "scrolled": false
   },
   "outputs": [],
   "source": [
    "create_newdf(parent_folder)"
   ]
  },
  {
   "cell_type": "code",
   "execution_count": null,
   "metadata": {
    "scrolled": true
   },
   "outputs": [],
   "source": [
    "create_newboutdf(parent_folder)"
   ]
  },
  {
   "cell_type": "code",
   "execution_count": null,
   "metadata": {},
   "outputs": [],
   "source": [
    "# Re-run the OMR experiments\n",
    "\n",
    "exps = [\"EK_8dpf_DOI_50ugml_20230201\", \"EK_8dpf_DOI_0ugml_20230201\"]\n",
    "for exp in exps:\n",
    "    parent_folder = os.path.join(data_folder, exp)\n",
    "#     create_newdf(parent_folder)\n",
    "    create_newboutdf(parent_folder)"
   ]
  },
  {
   "cell_type": "code",
   "execution_count": null,
   "metadata": {
    "scrolled": true
   },
   "outputs": [],
   "source": [
    "# Re-run the locomotor experiments\n",
    "\n",
    "exps = ['EK_6dpf_DOI_0ugml_20211111', 'EK_6dpf_DOI_0ugml_2_20211111', 'EK_7dpf_DOI_10ugml_20211112', \n",
    "        'EK_7dpf_DOI_10ugml_2_20211112', 'EK_9dpf_DOI_50ugml_20211114', 'EK_9dpf_DOI_50ugml_2_20211114', \n",
    "        'EK_10dpf_DOI_75ugml_20211115', 'EK_10dpf_DOI_75ugml_2_20211115', 'EK_11dpf_DOI_100ugml_2_20211116', \n",
    "        'EK_6dpf_DOI_75ugml_20211117', 'EK_6dpf_DOI_75ugml_2_20211117', 'EK_7dpf_DOI_100ugml_20211118', \n",
    "        'EK_7dpf_DOI_100ugml_2_20211118', 'EK_8dpf_DOI_0ugml_20211119', 'EK_8dpf_DOI_0ugml_2_20211119', \n",
    "        'EK_11dpf_DOI_50ugml_2_20211122', 'EK_11dpf_DOI_25ugml_20211122', 'EK_6dpf_DOI_25ugml_20211129', \n",
    "        'EK_6dpf_DOI_25ugml_2_20211129', 'EK_6dpf_DOI_50ugml_20211129', 'EK_7dpf_DOI_50ugml_20211130', \n",
    "        'EK_7dpf_DOI_50ugml_2_20211130', 'EK_8dpf_DOI_25ugml_20211201', 'EK_8dpf_DOI_25ugml_2_20211201', \n",
    "        'EK_8dpf_DOI_75ugml_20211201', 'EK_9dpf_DOI_100ugml_20211202', 'EK_9dpf_DOI_100ugml_2_20211202', \n",
    "        'EK_9dpf_DOI_100ugml_3_20211202', 'EK_10dpf_DOI_25ugml_20211203', 'EK_10dpf_DOI_25ugml_2_20211203', \n",
    "        'EK_6dpf_DOI_50ugml_20211208', 'EK_6dpf_DOI_10ugml_20211208', 'EK_7dpf_DOI_10ugml_20211209', \n",
    "        'EK_7dpf_DOI_10ugml_2_20211209', 'EK_7dpf_DOI_10ugml_3_20211209', 'EK_8dpf_DOI_75ugml_20211210', \n",
    "        'EK_8dpf_DOI_0ugml_20211210', 'EK_6dpf_DOI_10ugml_20211215', 'EK_6dpf_DOI_100ugml_20211215', \n",
    "        'EK_7dpf_DOI_100ugml_20211216', 'EK_8dpf_DOI_25ugml_20211217', 'EK_9dpf_DOI_10ugml_20211218', \n",
    "        'EK_9dpf_DOI_10ugml_2_20211218', 'EK_10dpf_DOI_0ugml_20211219', 'EK_10dpf_DOI_0ugml_2_20211219']\n",
    "for exp in exps:\n",
    "    parent_folder = fr\"C:\\Users\\minel\\iCloudDrive\\Documents\\Duke University\\Naumann Lab\\DOI\\Behavior\\locomotor_behavior\\{exp}\"\n",
    "    create_newdf(parent_folder)\n",
    "    create_newboutdf(parent_folder)"
   ]
  },
  {
   "cell_type": "markdown",
   "metadata": {},
   "source": [
    "## Eliminate bad fish"
   ]
  },
  {
   "cell_type": "code",
   "execution_count": 4,
   "metadata": {
    "scrolled": false
   },
   "outputs": [],
   "source": [
    "try:\n",
    "    selected_fish = pd.read_hdf(os.path.join(data_folder, 'selected_fish.h5'))\n",
    "    selected_dict = selected_fish.to_dict()\n",
    "    selected_dict\n",
    "except FileNotFoundError:\n",
    "    selected_dict = {\n",
    "        \"0ugml\" : {8:[]},\n",
    "        \"50ugml\" : {8 :[]},\n",
    "        \"100ugml\" : {8:[]}\n",
    "    }"
   ]
  },
  {
   "cell_type": "code",
   "execution_count": 5,
   "metadata": {},
   "outputs": [],
   "source": [
    "parent_folder = os.path.join(data_folder, exp_folder)"
   ]
  },
  {
   "cell_type": "code",
   "execution_count": 6,
   "metadata": {},
   "outputs": [],
   "source": [
    "# Read the exp dataframes\n",
    "lvl = 'exp'\n",
    "conc = parent_folder[parent_folder.rfind('DOI')+4 : parent_folder.rfind('ugml')+4]\n",
    "age = int(parent_folder[:parent_folder.rfind('dpf')][parent_folder[:parent_folder.rfind('dpf')].rfind('_')+1:])\n",
    "df_path = os.path.join(parent_folder, parent_folder[parent_folder.rfind('\\\\')+1:] + '_finaldf.h5')\n",
    "df = pd.read_hdf(df_path)\n",
    "bout_path = os.path.join(parent_folder, parent_folder[parent_folder.rfind('\\\\')+1:] + '_finalboutdf.h5')\n",
    "boutdf = pd.read_hdf(bout_path)"
   ]
  },
  {
   "cell_type": "code",
   "execution_count": 7,
   "metadata": {},
   "outputs": [
    {
     "data": {
      "text/html": [
       "<div>\n",
       "<style scoped>\n",
       "    .dataframe tbody tr th:only-of-type {\n",
       "        vertical-align: middle;\n",
       "    }\n",
       "\n",
       "    .dataframe tbody tr th {\n",
       "        vertical-align: top;\n",
       "    }\n",
       "\n",
       "    .dataframe thead th {\n",
       "        text-align: right;\n",
       "    }\n",
       "</style>\n",
       "<table border=\"1\" class=\"dataframe\">\n",
       "  <thead>\n",
       "    <tr style=\"text-align: right;\">\n",
       "      <th></th>\n",
       "      <th>f0_x</th>\n",
       "      <th>f0_vx</th>\n",
       "      <th>f0_y</th>\n",
       "      <th>f0_vy</th>\n",
       "      <th>f0_theta</th>\n",
       "      <th>f0_vtheta</th>\n",
       "      <th>f0_theta_00</th>\n",
       "      <th>f0_theta_01</th>\n",
       "      <th>f0_theta_02</th>\n",
       "      <th>f0_theta_03</th>\n",
       "      <th>biggest_area</th>\n",
       "      <th>t</th>\n",
       "      <th>stim_index</th>\n",
       "      <th>motion</th>\n",
       "      <th>stim_type</th>\n",
       "      <th>angle</th>\n",
       "      <th>stim_name</th>\n",
       "      <th>stat_time</th>\n",
       "      <th>duration</th>\n",
       "      <th>fish_id</th>\n",
       "      <th>bout</th>\n",
       "      <th>stim_time</th>\n",
       "      <th>condition</th>\n",
       "    </tr>\n",
       "  </thead>\n",
       "  <tbody>\n",
       "    <tr>\n",
       "      <td>0</td>\n",
       "      <td>646.383423</td>\n",
       "      <td>-0.001168</td>\n",
       "      <td>783.321838</td>\n",
       "      <td>-0.026464</td>\n",
       "      <td>-1.917537</td>\n",
       "      <td>-0.001022</td>\n",
       "      <td>-0.021804</td>\n",
       "      <td>-0.032874</td>\n",
       "      <td>-0.055949</td>\n",
       "      <td>-0.000573</td>\n",
       "      <td>850.0</td>\n",
       "      <td>0.000000</td>\n",
       "      <td>0.0</td>\n",
       "      <td>1.0</td>\n",
       "      <td>s</td>\n",
       "      <td>0</td>\n",
       "      <td>habituation</td>\n",
       "      <td>0</td>\n",
       "      <td>300.0</td>\n",
       "      <td>445</td>\n",
       "      <td>NaN</td>\n",
       "      <td>0.000000</td>\n",
       "      <td>baseline</td>\n",
       "    </tr>\n",
       "    <tr>\n",
       "      <td>1</td>\n",
       "      <td>646.408813</td>\n",
       "      <td>0.011629</td>\n",
       "      <td>783.335815</td>\n",
       "      <td>-0.006975</td>\n",
       "      <td>-1.898915</td>\n",
       "      <td>0.008443</td>\n",
       "      <td>-0.009505</td>\n",
       "      <td>-0.054151</td>\n",
       "      <td>-0.047215</td>\n",
       "      <td>-0.062799</td>\n",
       "      <td>850.0</td>\n",
       "      <td>0.006980</td>\n",
       "      <td>0.0</td>\n",
       "      <td>1.0</td>\n",
       "      <td>s</td>\n",
       "      <td>0</td>\n",
       "      <td>habituation</td>\n",
       "      <td>0</td>\n",
       "      <td>300.0</td>\n",
       "      <td>445</td>\n",
       "      <td>NaN</td>\n",
       "      <td>0.006670</td>\n",
       "      <td>baseline</td>\n",
       "    </tr>\n",
       "    <tr>\n",
       "      <td>2</td>\n",
       "      <td>646.397705</td>\n",
       "      <td>0.000681</td>\n",
       "      <td>783.343445</td>\n",
       "      <td>0.000077</td>\n",
       "      <td>-1.910622</td>\n",
       "      <td>-0.001267</td>\n",
       "      <td>-0.020952</td>\n",
       "      <td>-0.028964</td>\n",
       "      <td>0.019027</td>\n",
       "      <td>0.047285</td>\n",
       "      <td>850.0</td>\n",
       "      <td>0.013963</td>\n",
       "      <td>0.0</td>\n",
       "      <td>1.0</td>\n",
       "      <td>s</td>\n",
       "      <td>0</td>\n",
       "      <td>habituation</td>\n",
       "      <td>0</td>\n",
       "      <td>300.0</td>\n",
       "      <td>445</td>\n",
       "      <td>NaN</td>\n",
       "      <td>0.013340</td>\n",
       "      <td>baseline</td>\n",
       "    </tr>\n",
       "    <tr>\n",
       "      <td>3</td>\n",
       "      <td>646.404236</td>\n",
       "      <td>0.003494</td>\n",
       "      <td>783.352112</td>\n",
       "      <td>0.004188</td>\n",
       "      <td>-1.915493</td>\n",
       "      <td>-0.003003</td>\n",
       "      <td>-0.023136</td>\n",
       "      <td>-0.029025</td>\n",
       "      <td>0.014585</td>\n",
       "      <td>0.036085</td>\n",
       "      <td>850.0</td>\n",
       "      <td>0.020944</td>\n",
       "      <td>0.0</td>\n",
       "      <td>1.0</td>\n",
       "      <td>s</td>\n",
       "      <td>0</td>\n",
       "      <td>habituation</td>\n",
       "      <td>0</td>\n",
       "      <td>300.0</td>\n",
       "      <td>445</td>\n",
       "      <td>NaN</td>\n",
       "      <td>0.020011</td>\n",
       "      <td>baseline</td>\n",
       "    </tr>\n",
       "    <tr>\n",
       "      <td>4</td>\n",
       "      <td>646.402161</td>\n",
       "      <td>0.000820</td>\n",
       "      <td>783.305603</td>\n",
       "      <td>-0.020222</td>\n",
       "      <td>-1.918122</td>\n",
       "      <td>-0.002823</td>\n",
       "      <td>-0.020804</td>\n",
       "      <td>-0.027986</td>\n",
       "      <td>-0.025769</td>\n",
       "      <td>0.024438</td>\n",
       "      <td>850.0</td>\n",
       "      <td>0.026928</td>\n",
       "      <td>0.0</td>\n",
       "      <td>1.0</td>\n",
       "      <td>s</td>\n",
       "      <td>0</td>\n",
       "      <td>habituation</td>\n",
       "      <td>0</td>\n",
       "      <td>300.0</td>\n",
       "      <td>445</td>\n",
       "      <td>NaN</td>\n",
       "      <td>0.026681</td>\n",
       "      <td>baseline</td>\n",
       "    </tr>\n",
       "    <tr>\n",
       "      <td>...</td>\n",
       "      <td>...</td>\n",
       "      <td>...</td>\n",
       "      <td>...</td>\n",
       "      <td>...</td>\n",
       "      <td>...</td>\n",
       "      <td>...</td>\n",
       "      <td>...</td>\n",
       "      <td>...</td>\n",
       "      <td>...</td>\n",
       "      <td>...</td>\n",
       "      <td>...</td>\n",
       "      <td>...</td>\n",
       "      <td>...</td>\n",
       "      <td>...</td>\n",
       "      <td>...</td>\n",
       "      <td>...</td>\n",
       "      <td>...</td>\n",
       "      <td>...</td>\n",
       "      <td>...</td>\n",
       "      <td>...</td>\n",
       "      <td>...</td>\n",
       "      <td>...</td>\n",
       "      <td>...</td>\n",
       "    </tr>\n",
       "    <tr>\n",
       "      <td>1205315</td>\n",
       "      <td>67.356430</td>\n",
       "      <td>-0.009953</td>\n",
       "      <td>578.926941</td>\n",
       "      <td>0.401204</td>\n",
       "      <td>-1.541663</td>\n",
       "      <td>-0.000701</td>\n",
       "      <td>0.004318</td>\n",
       "      <td>0.036449</td>\n",
       "      <td>0.064401</td>\n",
       "      <td>0.097511</td>\n",
       "      <td>2725.0</td>\n",
       "      <td>3569.326904</td>\n",
       "      <td>108.0</td>\n",
       "      <td>1.0</td>\n",
       "      <td>s</td>\n",
       "      <td>270</td>\n",
       "      <td>right</td>\n",
       "      <td>3</td>\n",
       "      <td>33.0</td>\n",
       "      <td>443</td>\n",
       "      <td>4219.0</td>\n",
       "      <td>32.970878</td>\n",
       "      <td>drugtreated</td>\n",
       "    </tr>\n",
       "    <tr>\n",
       "      <td>1205316</td>\n",
       "      <td>67.400589</td>\n",
       "      <td>0.016110</td>\n",
       "      <td>577.752869</td>\n",
       "      <td>-0.357875</td>\n",
       "      <td>-1.540088</td>\n",
       "      <td>0.000395</td>\n",
       "      <td>0.012346</td>\n",
       "      <td>0.033064</td>\n",
       "      <td>0.068268</td>\n",
       "      <td>0.093117</td>\n",
       "      <td>2725.0</td>\n",
       "      <td>3569.334961</td>\n",
       "      <td>108.0</td>\n",
       "      <td>1.0</td>\n",
       "      <td>s</td>\n",
       "      <td>270</td>\n",
       "      <td>right</td>\n",
       "      <td>3</td>\n",
       "      <td>33.0</td>\n",
       "      <td>443</td>\n",
       "      <td>4219.0</td>\n",
       "      <td>32.977548</td>\n",
       "      <td>drugtreated</td>\n",
       "    </tr>\n",
       "    <tr>\n",
       "      <td>1205317</td>\n",
       "      <td>67.442513</td>\n",
       "      <td>0.028544</td>\n",
       "      <td>575.854004</td>\n",
       "      <td>-1.100413</td>\n",
       "      <td>-1.540091</td>\n",
       "      <td>0.000204</td>\n",
       "      <td>0.015373</td>\n",
       "      <td>0.040482</td>\n",
       "      <td>0.072986</td>\n",
       "      <td>0.094626</td>\n",
       "      <td>2950.0</td>\n",
       "      <td>3569.342041</td>\n",
       "      <td>108.0</td>\n",
       "      <td>1.0</td>\n",
       "      <td>s</td>\n",
       "      <td>270</td>\n",
       "      <td>right</td>\n",
       "      <td>3</td>\n",
       "      <td>33.0</td>\n",
       "      <td>443</td>\n",
       "      <td>4219.0</td>\n",
       "      <td>32.984218</td>\n",
       "      <td>drugtreated</td>\n",
       "    </tr>\n",
       "    <tr>\n",
       "      <td>1205318</td>\n",
       "      <td>67.439697</td>\n",
       "      <td>0.013438</td>\n",
       "      <td>578.827576</td>\n",
       "      <td>0.862694</td>\n",
       "      <td>-1.545974</td>\n",
       "      <td>-0.002729</td>\n",
       "      <td>0.007737</td>\n",
       "      <td>0.039105</td>\n",
       "      <td>0.069105</td>\n",
       "      <td>0.097345</td>\n",
       "      <td>2725.0</td>\n",
       "      <td>3569.348145</td>\n",
       "      <td>108.0</td>\n",
       "      <td>1.0</td>\n",
       "      <td>s</td>\n",
       "      <td>270</td>\n",
       "      <td>right</td>\n",
       "      <td>3</td>\n",
       "      <td>33.0</td>\n",
       "      <td>443</td>\n",
       "      <td>4219.0</td>\n",
       "      <td>32.990888</td>\n",
       "      <td>drugtreated</td>\n",
       "    </tr>\n",
       "    <tr>\n",
       "      <td>1205319</td>\n",
       "      <td>67.429230</td>\n",
       "      <td>0.001926</td>\n",
       "      <td>577.616150</td>\n",
       "      <td>-0.136763</td>\n",
       "      <td>-1.541664</td>\n",
       "      <td>0.000663</td>\n",
       "      <td>0.011666</td>\n",
       "      <td>0.034493</td>\n",
       "      <td>0.067577</td>\n",
       "      <td>0.095859</td>\n",
       "      <td>2725.0</td>\n",
       "      <td>3569.354248</td>\n",
       "      <td>108.0</td>\n",
       "      <td>1.0</td>\n",
       "      <td>s</td>\n",
       "      <td>270</td>\n",
       "      <td>right</td>\n",
       "      <td>3</td>\n",
       "      <td>33.0</td>\n",
       "      <td>443</td>\n",
       "      <td>4219.0</td>\n",
       "      <td>32.997559</td>\n",
       "      <td>drugtreated</td>\n",
       "    </tr>\n",
       "  </tbody>\n",
       "</table>\n",
       "<p>1205320 rows × 23 columns</p>\n",
       "</div>"
      ],
      "text/plain": [
       "               f0_x     f0_vx        f0_y     f0_vy  f0_theta  f0_vtheta  \\\n",
       "0        646.383423 -0.001168  783.321838 -0.026464 -1.917537  -0.001022   \n",
       "1        646.408813  0.011629  783.335815 -0.006975 -1.898915   0.008443   \n",
       "2        646.397705  0.000681  783.343445  0.000077 -1.910622  -0.001267   \n",
       "3        646.404236  0.003494  783.352112  0.004188 -1.915493  -0.003003   \n",
       "4        646.402161  0.000820  783.305603 -0.020222 -1.918122  -0.002823   \n",
       "...             ...       ...         ...       ...       ...        ...   \n",
       "1205315   67.356430 -0.009953  578.926941  0.401204 -1.541663  -0.000701   \n",
       "1205316   67.400589  0.016110  577.752869 -0.357875 -1.540088   0.000395   \n",
       "1205317   67.442513  0.028544  575.854004 -1.100413 -1.540091   0.000204   \n",
       "1205318   67.439697  0.013438  578.827576  0.862694 -1.545974  -0.002729   \n",
       "1205319   67.429230  0.001926  577.616150 -0.136763 -1.541664   0.000663   \n",
       "\n",
       "         f0_theta_00  f0_theta_01  f0_theta_02  f0_theta_03  biggest_area  \\\n",
       "0          -0.021804    -0.032874    -0.055949    -0.000573         850.0   \n",
       "1          -0.009505    -0.054151    -0.047215    -0.062799         850.0   \n",
       "2          -0.020952    -0.028964     0.019027     0.047285         850.0   \n",
       "3          -0.023136    -0.029025     0.014585     0.036085         850.0   \n",
       "4          -0.020804    -0.027986    -0.025769     0.024438         850.0   \n",
       "...              ...          ...          ...          ...           ...   \n",
       "1205315     0.004318     0.036449     0.064401     0.097511        2725.0   \n",
       "1205316     0.012346     0.033064     0.068268     0.093117        2725.0   \n",
       "1205317     0.015373     0.040482     0.072986     0.094626        2950.0   \n",
       "1205318     0.007737     0.039105     0.069105     0.097345        2725.0   \n",
       "1205319     0.011666     0.034493     0.067577     0.095859        2725.0   \n",
       "\n",
       "                   t  stim_index  motion stim_type  angle    stim_name  \\\n",
       "0           0.000000         0.0     1.0         s      0  habituation   \n",
       "1           0.006980         0.0     1.0         s      0  habituation   \n",
       "2           0.013963         0.0     1.0         s      0  habituation   \n",
       "3           0.020944         0.0     1.0         s      0  habituation   \n",
       "4           0.026928         0.0     1.0         s      0  habituation   \n",
       "...              ...         ...     ...       ...    ...          ...   \n",
       "1205315  3569.326904       108.0     1.0         s    270        right   \n",
       "1205316  3569.334961       108.0     1.0         s    270        right   \n",
       "1205317  3569.342041       108.0     1.0         s    270        right   \n",
       "1205318  3569.348145       108.0     1.0         s    270        right   \n",
       "1205319  3569.354248       108.0     1.0         s    270        right   \n",
       "\n",
       "         stat_time  duration  fish_id    bout  stim_time    condition  \n",
       "0                0     300.0      445     NaN   0.000000     baseline  \n",
       "1                0     300.0      445     NaN   0.006670     baseline  \n",
       "2                0     300.0      445     NaN   0.013340     baseline  \n",
       "3                0     300.0      445     NaN   0.020011     baseline  \n",
       "4                0     300.0      445     NaN   0.026681     baseline  \n",
       "...            ...       ...      ...     ...        ...          ...  \n",
       "1205315          3      33.0      443  4219.0  32.970878  drugtreated  \n",
       "1205316          3      33.0      443  4219.0  32.977548  drugtreated  \n",
       "1205317          3      33.0      443  4219.0  32.984218  drugtreated  \n",
       "1205318          3      33.0      443  4219.0  32.990888  drugtreated  \n",
       "1205319          3      33.0      443  4219.0  32.997559  drugtreated  \n",
       "\n",
       "[1205320 rows x 23 columns]"
      ]
     },
     "execution_count": 7,
     "metadata": {},
     "output_type": "execute_result"
    }
   ],
   "source": [
    "df"
   ]
  },
  {
   "cell_type": "code",
   "execution_count": 8,
   "metadata": {},
   "outputs": [
    {
     "data": {
      "text/html": [
       "<div>\n",
       "<style scoped>\n",
       "    .dataframe tbody tr th:only-of-type {\n",
       "        vertical-align: middle;\n",
       "    }\n",
       "\n",
       "    .dataframe tbody tr th {\n",
       "        vertical-align: top;\n",
       "    }\n",
       "\n",
       "    .dataframe thead tr th {\n",
       "        text-align: left;\n",
       "    }\n",
       "</style>\n",
       "<table border=\"1\" class=\"dataframe\">\n",
       "  <thead>\n",
       "    <tr>\n",
       "      <th></th>\n",
       "      <th colspan=\"2\" halign=\"left\">443</th>\n",
       "      <th colspan=\"2\" halign=\"left\">445</th>\n",
       "    </tr>\n",
       "    <tr>\n",
       "      <th></th>\n",
       "      <th>baseline</th>\n",
       "      <th>drugtreated</th>\n",
       "      <th>baseline</th>\n",
       "      <th>drugtreated</th>\n",
       "    </tr>\n",
       "  </thead>\n",
       "  <tbody>\n",
       "    <tr>\n",
       "      <td>habituation</td>\n",
       "      <td>9.000000</td>\n",
       "      <td>0.000000</td>\n",
       "      <td>5.400000</td>\n",
       "      <td>0.000000</td>\n",
       "    </tr>\n",
       "    <tr>\n",
       "      <td>forward</td>\n",
       "      <td>32.323232</td>\n",
       "      <td>85.454545</td>\n",
       "      <td>11.818182</td>\n",
       "      <td>5.454545</td>\n",
       "    </tr>\n",
       "    <tr>\n",
       "      <td>right</td>\n",
       "      <td>23.181818</td>\n",
       "      <td>95.636364</td>\n",
       "      <td>1.818182</td>\n",
       "      <td>8.787879</td>\n",
       "    </tr>\n",
       "    <tr>\n",
       "      <td>left</td>\n",
       "      <td>29.090909</td>\n",
       "      <td>105.064935</td>\n",
       "      <td>1.818182</td>\n",
       "      <td>30.303030</td>\n",
       "    </tr>\n",
       "    <tr>\n",
       "      <td>backward</td>\n",
       "      <td>28.787879</td>\n",
       "      <td>96.545455</td>\n",
       "      <td>5.454545</td>\n",
       "      <td>9.870130</td>\n",
       "    </tr>\n",
       "  </tbody>\n",
       "</table>\n",
       "</div>"
      ],
      "text/plain": [
       "                   443                    445            \n",
       "              baseline drugtreated   baseline drugtreated\n",
       "habituation   9.000000    0.000000   5.400000    0.000000\n",
       "forward      32.323232   85.454545  11.818182    5.454545\n",
       "right        23.181818   95.636364   1.818182    8.787879\n",
       "left         29.090909  105.064935   1.818182   30.303030\n",
       "backward     28.787879   96.545455   5.454545    9.870130"
      ]
     },
     "execution_count": 8,
     "metadata": {},
     "output_type": "execute_result"
    }
   ],
   "source": [
    "boutcount_df = measurepertime(boutdf, measure='boutcount', time='min')\n",
    "boutcount_df"
   ]
  },
  {
   "cell_type": "code",
   "execution_count": 9,
   "metadata": {},
   "outputs": [
    {
     "name": "stdout",
     "output_type": "stream",
     "text": [
      "['habituation', 'forward', 'right', 'left', 'backward']\n"
     ]
    }
   ],
   "source": [
    "# for x in boutcount_df[442]['baseline'].values:\n",
    "#     print(x)\n",
    "# vals.e\n",
    "data_top = boutcount_df.head() \n",
    "lst = list(data_top.index)\n",
    "print(lst)"
   ]
  },
  {
   "cell_type": "code",
   "execution_count": 10,
   "metadata": {},
   "outputs": [
    {
     "name": "stderr",
     "output_type": "stream",
     "text": [
      "C:\\ProgramData\\Anaconda3\\lib\\site-packages\\pandas\\core\\generic.py:2530: PerformanceWarning: \n",
      "your performance may suffer as PyTables will pickle object types that it cannot\n",
      "map directly to c-types [inferred_type->mixed,key->block0_values] [items->['0ugml', '50ugml', '100ugml']]\n",
      "\n",
      "  pytables.to_hdf(path_or_buf, key, self, **kwargs)\n"
     ]
    },
    {
     "data": {
      "image/png": "[encoded data removed]",
      "text/plain": [
       "<Figure size 1080x360 with 1 Axes>"
      ]
     },
     "metadata": {
      "needs_background": "light"
     },
     "output_type": "display_data"
    }
   ],
   "source": [
    "fish_criteria_checker = barplot_perfish(parent_folder, boutcount_df, level=lvl)\n",
    "good_fish = fish_criteria_checker[0]\n",
    "inactive_fish = fish_criteria_checker[1]\n",
    "if len(good_fish) > 0:\n",
    "    if age not in selected_dict[conc].keys():\n",
    "        selected_dict[conc][age] = []\n",
    "    try:\n",
    "        if np.isnan(selected_dict[conc][age]):\n",
    "            selected_dict[conc][age] = []\n",
    "            \n",
    "    except ValueError:\n",
    "        pass\n",
    "    [selected_dict[conc][age].append(fish) for fish in good_fish if fish not in selected_dict[conc][age]]\n",
    "    pd.DataFrame(selected_dict).to_hdf(os.path.join(data_folder, 'selected_fish.h5'), key='selected_fish', mode='w')"
   ]
  },
  {
   "cell_type": "code",
   "execution_count": 11,
   "metadata": {},
   "outputs": [
    {
     "name": "stdout",
     "output_type": "stream",
     "text": [
      "[443, 443]\n",
      "[445, 445]\n"
     ]
    }
   ],
   "source": [
    "print(good_fish)\n",
    "print(inactive_fish)"
   ]
  },
  {
   "cell_type": "code",
   "execution_count": null,
   "metadata": {},
   "outputs": [],
   "source": [
    "selected_dict"
   ]
  },
  {
   "cell_type": "code",
   "execution_count": null,
   "metadata": {},
   "outputs": [],
   "source": [
    "lineplot_perfish(parent_folder, boutdf, level=lvl, measure='distance')"
   ]
  },
  {
   "cell_type": "code",
   "execution_count": null,
   "metadata": {},
   "outputs": [],
   "source": [
    "lineplot_perfish(parent_folder, boutdf, level=lvl, measure='dist_from_center')"
   ]
  },
  {
   "cell_type": "code",
   "execution_count": null,
   "metadata": {},
   "outputs": [],
   "source": [
    "histplot(parent_folder, boutdf, level=lvl, measure='bout_duration')"
   ]
  },
  {
   "cell_type": "code",
   "execution_count": null,
   "metadata": {
    "scrolled": false
   },
   "outputs": [],
   "source": [
    "histplot_perfish(parent_folder, boutdf, level=lvl, measure='bout_angle')"
   ]
  },
  {
   "cell_type": "code",
   "execution_count": null,
   "metadata": {},
   "outputs": [],
   "source": [
    "scatterplot_perfish(parent_folder, df, level=lvl, stim_name='right')"
   ]
  },
  {
   "cell_type": "code",
   "execution_count": null,
   "metadata": {},
   "outputs": [],
   "source": [
    "scatterplot_perfish(parent_folder, df, level=lvl, stim_name='left')"
   ]
  },
  {
   "cell_type": "code",
   "execution_count": null,
   "metadata": {},
   "outputs": [],
   "source": [
    "# Re-run the OMR experiments\n",
    "\n",
    "exps = ['EK_8dpf_DOI_50ugml_20230201']\n",
    "for exp in exps:\n",
    "    parent_folder = os.path.join(data_folder, exp_folder)\n",
    "    scatterplot_perfish(parent_folder, df, level=lvl, stim_name='right')\n",
    "    scatterplot_perfish(parent_folder, df, level=lvl, stim_name='left')"
   ]
  },
  {
   "cell_type": "code",
   "execution_count": null,
   "metadata": {},
   "outputs": [],
   "source": [
    "# Re-run the locomotor experiments\n",
    "DOI_concs = ['0ugml', '10ugml', '25ugml', '50ugml', '75ugml', '100ugml']\n",
    "lvl = 'exp'\n",
    "selected_dict = {_conc: {} for _conc in DOI_concs}\n",
    "exps = ['EK_6dpf_DOI_0ugml_20211111', 'EK_6dpf_DOI_0ugml_2_20211111', 'EK_7dpf_DOI_10ugml_20211112', \n",
    "        'EK_7dpf_DOI_10ugml_2_20211112', 'EK_9dpf_DOI_50ugml_20211114', 'EK_9dpf_DOI_50ugml_2_20211114', \n",
    "        'EK_10dpf_DOI_75ugml_20211115', 'EK_10dpf_DOI_75ugml_2_20211115', 'EK_11dpf_DOI_100ugml_2_20211116', \n",
    "        'EK_6dpf_DOI_75ugml_20211117', 'EK_6dpf_DOI_75ugml_2_20211117', 'EK_7dpf_DOI_100ugml_20211118', \n",
    "        'EK_7dpf_DOI_100ugml_2_20211118', 'EK_8dpf_DOI_0ugml_20211119', 'EK_8dpf_DOI_0ugml_2_20211119', \n",
    "        'EK_11dpf_DOI_50ugml_2_20211122', 'EK_11dpf_DOI_25ugml_20211122', 'EK_6dpf_DOI_25ugml_20211129', \n",
    "        'EK_6dpf_DOI_25ugml_2_20211129', 'EK_6dpf_DOI_50ugml_20211129', 'EK_7dpf_DOI_50ugml_20211130', \n",
    "        'EK_7dpf_DOI_50ugml_2_20211130', 'EK_8dpf_DOI_25ugml_20211201', 'EK_8dpf_DOI_25ugml_2_20211201', \n",
    "        'EK_8dpf_DOI_75ugml_20211201', 'EK_9dpf_DOI_100ugml_20211202', 'EK_9dpf_DOI_100ugml_2_20211202', \n",
    "        'EK_9dpf_DOI_100ugml_3_20211202', 'EK_10dpf_DOI_25ugml_20211203', 'EK_10dpf_DOI_25ugml_2_20211203', \n",
    "        'EK_6dpf_DOI_50ugml_20211208', 'EK_6dpf_DOI_10ugml_20211208', 'EK_7dpf_DOI_10ugml_20211209', \n",
    "        'EK_7dpf_DOI_10ugml_2_20211209', 'EK_7dpf_DOI_10ugml_3_20211209', 'EK_8dpf_DOI_75ugml_20211210', \n",
    "        'EK_8dpf_DOI_0ugml_20211210', 'EK_6dpf_DOI_10ugml_20211215', 'EK_6dpf_DOI_100ugml_20211215', \n",
    "        'EK_7dpf_DOI_100ugml_20211216', 'EK_8dpf_DOI_25ugml_20211217', 'EK_9dpf_DOI_10ugml_20211218', \n",
    "        'EK_9dpf_DOI_10ugml_2_20211218', 'EK_10dpf_DOI_0ugml_20211219', 'EK_10dpf_DOI_0ugml_2_20211219']\n",
    "for exp in exps:\n",
    "    parent_folder = fr\"C:\\Users\\minel\\iCloudDrive\\Documents\\Duke University\\Naumann Lab\\DOI\\Behavior\\locomotor_behavior\\{exp}\"\n",
    "    conc = parent_folder[parent_folder.rfind('DOI')+4 : parent_folder.rfind('ugml')+4]\n",
    "    age = int(parent_folder[:parent_folder.rfind('dpf')][parent_folder[:parent_folder.rfind('dpf')].rfind('_')+1:])\n",
    "#     df_path = os.path.join(parent_folder, parent_folder[parent_folder.rfind('\\\\')+1:] + '_finaldf.h5')\n",
    "#     df = pd.read_hdf(df_path)\n",
    "    bout_path = os.path.join(parent_folder, parent_folder[parent_folder.rfind('\\\\')+1:] + '_finalboutdf.h5')\n",
    "    boutdf = pd.read_hdf(bout_path)\n",
    "    boutcount_df = measurepertime(boutdf, measure='boutcount', time='min')\n",
    "    good_fish = barplot_perfish(parent_folder, boutcount_df, level=lvl)\n",
    "    if len(good_fish) > 0:\n",
    "        if age not in selected_dict[conc].keys():\n",
    "            selected_dict[conc][age] = []\n",
    "        [selected_dict[conc][age].append(fish) for fish in good_fish if fish not in selected_dict[conc][age]]\n",
    "        pd.DataFrame(selected_dict).to_hdf(os.path.join(data_folder, 'selected_fish.h5'), key='selected_fish', mode='w')\n",
    "#     lineplot_perfish(parent_folder, boutdf, level=lvl, measure='distance')\n",
    "#     lineplot_perfish(parent_folder, boutdf, level=lvl, measure='dist_from_center')\n",
    "#     histplot(parent_folder, boutdf, level=lvl, measure='bout_duration')\n",
    "#     histplot_perfish(parent_folder, boutdf, level=lvl, measure='bout_angle')\n",
    "#     scatterplot_perfish(parent_folder, df, level=lvl, stim_name='right')\n",
    "#     scatterplot_perfish(parent_folder, df, level=lvl, stim_name='left')"
   ]
  },
  {
   "cell_type": "markdown",
   "metadata": {},
   "source": [
    "## For combining selected fish with previous experiments"
   ]
  },
  {
   "cell_type": "code",
   "execution_count": null,
   "metadata": {},
   "outputs": [],
   "source": [
    "selected_fish"
   ]
  },
  {
   "cell_type": "code",
   "execution_count": null,
   "metadata": {
    "scrolled": true
   },
   "outputs": [],
   "source": [
    "# DOI_concs = ['0ugml', '10ugml', '25ugml', '50ugml', '75ugml', '100ugml']\n",
    "DOI_concs = ['0ugml','50ugml', '100ugml']\n",
    "# selected_dict = {_conc: {} for _conc in DOI_concs}\n",
    "selected_fish = pd.read_hdf(os.path.join(data_folder, 'selected_fish.h5'))\n",
    "selected_dict = selected_fish.to_dict()\n",
    "selected_dict"
   ]
  },
  {
   "cell_type": "code",
   "execution_count": null,
   "metadata": {},
   "outputs": [],
   "source": [
    "for _conc in DOI_concs:\n",
    "    try:\n",
    "        if all(np.isnan(list(selected_dict[_conc].values()))):\n",
    "            print('No fish for ' + _conc)\n",
    "            continue\n",
    "    except:\n",
    "        \n",
    "        good_fish = [_fish for _list in list(selected_dict[_conc].values()) if type(_list) == list for _fish in _list]\n",
    "        create_concdf(data_folder, _conc, good_fish)\n",
    "        print('concdf created for ' + _conc)"
   ]
  },
  {
   "cell_type": "code",
   "execution_count": null,
   "metadata": {},
   "outputs": [],
   "source": [
    "'''DOI_conc = '100ugml'\n",
    "good_fish = [114, 115, 116, 117, 119, 120, 185, 186, 188, 189, 190, 192, 193, 194, 195, 196, 237, 238, 239, 240, 241, 242, 243, \n",
    "             244] # for 100 ug/ml\n",
    "create_concdf(data_folder, DOI_conc, good_fish)\n",
    "\n",
    "DOI_conc = '75ugml'\n",
    "good_fish = [89, 90, 92, 93, 94, 95, 96, 105, 107, 108, 109, 111, 112, 181, 182, 183, 184, 225, 226, 227, 228] # for 75 ug/ml\n",
    "create_concdf(data_folder, DOI_conc, good_fish)\n",
    "\n",
    "DOI_conc = '50ugml'\n",
    "good_fish = [81, 82, 83, 85, 86, 87, 88, 161, 162, 163, 164, 165, 167, 168, 169, 170, 171, 172, 205, 206, 207] # for 50 ug/ml\n",
    "create_concdf(data_folder, DOI_conc, good_fish)\n",
    "\n",
    "DOI_conc = '25ugml'\n",
    "good_fish = [153, 155, 156, 157, 158, 159, 160, 173, 174, 175, 176, 178, 179, 180, 197, 198, 199, 200, 201, 203, 204, 245, 246, \n",
    "             247, 248] # for 25 ug/ml\n",
    "create_concdf(data_folder, DOI_conc, good_fish)\n",
    "\n",
    "DOI_conc = '10ugml'\n",
    "good_fish = [73, 74, 75, 77, 78, 79, 210, 211, 217, 218, 219, 220, 221, 222, 223, 224, 233, 234, 235, 252, 253, 254, 255, 256] # for 10 ug/ml\n",
    "create_concdf(data_folder, DOI_conc, good_fish)\n",
    "\n",
    "DOI_conc = '0ugml'\n",
    "good_fish = [66, 67, 68, 69, 70, 71, 72, 122, 123, 124, 125, 126, 127, 128, 229, 230, 231, 232, 257, 258, 259, 261, 262, 264] # for 0 ug/ml (egg water)\n",
    "create_concdf(data_folder, DOI_conc, good_fish)'''"
   ]
  },
  {
   "cell_type": "markdown",
   "metadata": {},
   "source": [
    "## Within concentration data analysis"
   ]
  },
  {
   "cell_type": "code",
   "execution_count": null,
   "metadata": {},
   "outputs": [],
   "source": [
    "DOI_conc = '50ugml'"
   ]
  },
  {
   "cell_type": "code",
   "execution_count": null,
   "metadata": {},
   "outputs": [],
   "source": [
    "# df_path = os.path.join(data_folder, f'{DOI_conc}_DOI_selected_finaldf.h5')\n",
    "# df = pd.read_hdf(df_path)\n",
    "bout_path = os.path.join(data_folder, f'{DOI_conc}_DOI_selected_finalboutdf.h5')\n",
    "boutdf = pd.read_hdf(bout_path)"
   ]
  },
  {
   "cell_type": "code",
   "execution_count": null,
   "metadata": {},
   "outputs": [],
   "source": [
    "lineplot_perconc(data_folder, boutdf, measure='distance')"
   ]
  },
  {
   "cell_type": "code",
   "execution_count": null,
   "metadata": {},
   "outputs": [],
   "source": [
    "lineplot_perconc_baselinenorm(data_folder, boutdf, measure='distance')"
   ]
  },
  {
   "cell_type": "code",
   "execution_count": null,
   "metadata": {},
   "outputs": [],
   "source": [
    "lineplot_perconc(data_folder, boutdf, measure='dist_from_center')"
   ]
  },
  {
   "cell_type": "code",
   "execution_count": null,
   "metadata": {},
   "outputs": [],
   "source": [
    "lineplot_perconc_baselinenorm(data_folder, boutdf, measure='dist_from_center')"
   ]
  },
  {
   "cell_type": "code",
   "execution_count": null,
   "metadata": {
    "scrolled": false
   },
   "outputs": [],
   "source": [
    "histplot_perconc(data_folder, boutdf, 'bout_angle')"
   ]
  },
  {
   "cell_type": "code",
   "execution_count": null,
   "metadata": {},
   "outputs": [],
   "source": [
    "histplot_perconc(data_folder, boutdf, 'bout_duration')"
   ]
  },
  {
   "cell_type": "markdown",
   "metadata": {},
   "source": [
    "## Between concentration data analysis"
   ]
  },
  {
   "cell_type": "code",
   "execution_count": null,
   "metadata": {},
   "outputs": [],
   "source": [
    "create_alldf(data_folder)"
   ]
  },
  {
   "cell_type": "code",
   "execution_count": null,
   "metadata": {},
   "outputs": [],
   "source": [
    "alldf = pd.read_hdf(os.path.join(data_folder, 'alldf.h5'))"
   ]
  },
  {
   "cell_type": "code",
   "execution_count": null,
   "metadata": {},
   "outputs": [],
   "source": [
    "alldf"
   ]
  },
  {
   "cell_type": "code",
   "execution_count": null,
   "metadata": {},
   "outputs": [],
   "source": [
    "plot_all_distovertime(data_folder, alldf)"
   ]
  },
  {
   "cell_type": "code",
   "execution_count": null,
   "metadata": {},
   "outputs": [],
   "source": [
    "bin_sums = plot_all_distovertime_normalized(data_folder, alldf)"
   ]
  },
  {
   "cell_type": "code",
   "execution_count": null,
   "metadata": {},
   "outputs": [],
   "source": [
    "labels = [int(i) for i in alldf.concentration.unique()]\n",
    "labels.sort()\n",
    "bin_anova(bin_sums, labels)"
   ]
  },
  {
   "cell_type": "code",
   "execution_count": null,
   "metadata": {},
   "outputs": [],
   "source": [
    "plt_avgperconc(data_folder, alldf, 'dist')"
   ]
  },
  {
   "cell_type": "code",
   "execution_count": null,
   "metadata": {},
   "outputs": [],
   "source": [
    "plt_avgperconc(data_folder, alldf, 'boutcount')"
   ]
  },
  {
   "cell_type": "code",
   "execution_count": null,
   "metadata": {},
   "outputs": [],
   "source": [
    "plt_avgperconc(data_folder, alldf, 'thigmotaxis_dist')"
   ]
  },
  {
   "cell_type": "code",
   "execution_count": null,
   "metadata": {},
   "outputs": [],
   "source": [
    "plt_avgperconc(data_folder, alldf, 'thigmotaxis_time')"
   ]
  },
  {
   "cell_type": "code",
   "execution_count": null,
   "metadata": {},
   "outputs": [],
   "source": []
  },
  {
   "cell_type": "code",
   "execution_count": null,
   "metadata": {},
   "outputs": [],
   "source": []
  },
  {
   "cell_type": "code",
   "execution_count": null,
   "metadata": {},
   "outputs": [],
   "source": [
    "stimulus = 'left'\n",
    "stimdf = dataframe[dataframe.stim_name==stimulus]\n",
    "hist, std, bins = Hist(dataframe, boutframe, stims=[stimulus])\n",
    "\n",
    "fig, ax = plt.subplots(1,4, figsize=(16,6))\n",
    "\n",
    "ax[0].set_title(f'Cumulative Theta {stimulus}')\n",
    "ax[1].set_title(f'Cumulative Theta {stimulus}')\n",
    "\n",
    "for stim_ind in stimdf.stim_index.unique():\n",
    "    ind_df = stimdf[stimdf.stim_index==stim_ind]\n",
    "    try:\n",
    "        ax[0].plot(ind_df.stim_time.values, ind_df.cum_theta.values)\n",
    "    except:\n",
    "        pass\n",
    "\n",
    "try:\n",
    "    ax[1].plot(bins[1:], gaussian_filter(hist, sigma=1))\n",
    "except:\n",
    "    pass\n",
    "\n",
    "stimulus = 'right'\n",
    "stimdf = dataframe[dataframe.stim_name==stimulus]\n",
    "hist, std, bins = Hist(dataframe, boutframe, stims=[stimulus])\n",
    "\n",
    "for stim_ind in stimdf.stim_index.unique():\n",
    "    ind_df = stimdf[stimdf.stim_index==stim_ind]\n",
    "    try:\n",
    "        ax[2].plot(ind_df.stim_time.values, ind_df.cum_theta.values)\n",
    "    except:\n",
    "        pass\n",
    "\n",
    "try:\n",
    "    ax[3].plot(bins[1:], gaussian_filter(hist, sigma=1))\n",
    "except:\n",
    "    pass\n",
    "\n",
    "ax[2].set_title(f'Bout Frequency {stimulus}')\n",
    "ax[3].set_title(f'Bout Frequency {stimulus}')\n",
    "\n",
    "ax[0].set_xlim(0,15)\n",
    "ax[0].set_ylim(-10,10)\n",
    "ax[2].set_xlim(0,15)\n",
    "ax[2].set_ylim(-10,10)\n",
    "\n",
    "ax[1].set_ylim(-5,100)\n",
    "ax[3].set_ylim(-5,100)\n",
    "\n",
    "fig.suptitle(f'fish: {3},  rig: {5}')\n",
    "plt.show()"
   ]
  },
  {
   "cell_type": "code",
   "execution_count": null,
   "metadata": {},
   "outputs": [],
   "source": []
  }
 ],
 "metadata": {
  "kernelspec": {
   "display_name": "Python 3",
   "language": "python",
   "name": "python3"
  },
  "language_info": {
   "codemirror_mode": {
    "name": "ipython",
    "version": 3
   },
   "file_extension": ".py",
   "mimetype": "text/x-python",
   "name": "python",
   "nbconvert_exporter": "python",
   "pygments_lexer": "ipython3",
   "version": "3.7.4"
  }
 },
 "nbformat": 4,
 "nbformat_minor": 4
}
