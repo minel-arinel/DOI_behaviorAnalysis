{
 "cells": [
  {
   "cell_type": "code",
   "execution_count": 1,
   "metadata": {},
   "outputs": [
    {
     "name": "stdout",
     "output_type": "stream",
     "text": [
      "no caiman available\n",
      "no pandastim available\n"
     ]
    }
   ],
   "source": [
    "%reload_ext autoreload\n",
    "%autoreload 2\n",
    "from DOI_analysis_functions import *"
   ]
  },
  {
   "cell_type": "code",
   "execution_count": 2,
   "metadata": {},
   "outputs": [],
   "source": [
    "pd.set_option('display.max_columns', None)"
   ]
  },
  {
   "cell_type": "code",
   "execution_count": 3,
   "metadata": {},
   "outputs": [],
   "source": [
    "data_folder = r\"D:\\behavior\\data\"\n",
    "exp_folder = \"EK_8dpf_DOI_0ugml_20230201\""
   ]
  },
  {
   "cell_type": "markdown",
   "metadata": {},
   "source": [
    "## For new experiments"
   ]
  },
  {
   "cell_type": "code",
   "execution_count": null,
   "metadata": {},
   "outputs": [],
   "source": [
    "# Set the folder directory to where the rig files are located\n",
    "parent_folder = os.path.join(data_folder, exp_folder)"
   ]
  },
  {
   "cell_type": "code",
   "execution_count": null,
   "metadata": {
    "scrolled": false
   },
   "outputs": [],
   "source": [
    "create_newdf(parent_folder)"
   ]
  },
  {
   "cell_type": "code",
   "execution_count": null,
   "metadata": {
    "scrolled": true
   },
   "outputs": [],
   "source": [
    "create_newboutdf(parent_folder)"
   ]
  },
  {
   "cell_type": "code",
   "execution_count": 14,
   "metadata": {},
   "outputs": [
    {
     "name": "stdout",
     "output_type": "stream",
     "text": [
      "Bouts done for fish 441, condition baseline\n",
      "Bouts done for fish 441, condition drugtreated\n",
      "Bout dataframe is saved\n",
      "Bouts done for fish 438, condition baseline\n",
      "Bouts done for fish 438, condition drugtreated\n",
      "Bouts done for fish 440, condition baseline\n",
      "Bouts done for fish 440, condition drugtreated\n",
      "Bout dataframe is saved\n"
     ]
    }
   ],
   "source": [
    "# Re-run the OMR experiments\n",
    "\n",
    "exps = [\"EK_8dpf_DOI_50ugml_20230201\", \"EK_8dpf_DOI_0ugml_20230201\"]\n",
    "for exp in exps:\n",
    "    parent_folder = os.path.join(data_folder, exp)\n",
    "#     create_newdf(parent_folder)\n",
    "    create_newboutdf(parent_folder)"
   ]
  },
  {
   "cell_type": "code",
   "execution_count": null,
   "metadata": {
    "scrolled": true
   },
   "outputs": [],
   "source": [
    "# Re-run the locomotor experiments\n",
    "\n",
    "exps = ['EK_6dpf_DOI_0ugml_20211111', 'EK_6dpf_DOI_0ugml_2_20211111', 'EK_7dpf_DOI_10ugml_20211112', \n",
    "        'EK_7dpf_DOI_10ugml_2_20211112', 'EK_9dpf_DOI_50ugml_20211114', 'EK_9dpf_DOI_50ugml_2_20211114', \n",
    "        'EK_10dpf_DOI_75ugml_20211115', 'EK_10dpf_DOI_75ugml_2_20211115', 'EK_11dpf_DOI_100ugml_2_20211116', \n",
    "        'EK_6dpf_DOI_75ugml_20211117', 'EK_6dpf_DOI_75ugml_2_20211117', 'EK_7dpf_DOI_100ugml_20211118', \n",
    "        'EK_7dpf_DOI_100ugml_2_20211118', 'EK_8dpf_DOI_0ugml_20211119', 'EK_8dpf_DOI_0ugml_2_20211119', \n",
    "        'EK_11dpf_DOI_50ugml_2_20211122', 'EK_11dpf_DOI_25ugml_20211122', 'EK_6dpf_DOI_25ugml_20211129', \n",
    "        'EK_6dpf_DOI_25ugml_2_20211129', 'EK_6dpf_DOI_50ugml_20211129', 'EK_7dpf_DOI_50ugml_20211130', \n",
    "        'EK_7dpf_DOI_50ugml_2_20211130', 'EK_8dpf_DOI_25ugml_20211201', 'EK_8dpf_DOI_25ugml_2_20211201', \n",
    "        'EK_8dpf_DOI_75ugml_20211201', 'EK_9dpf_DOI_100ugml_20211202', 'EK_9dpf_DOI_100ugml_2_20211202', \n",
    "        'EK_9dpf_DOI_100ugml_3_20211202', 'EK_10dpf_DOI_25ugml_20211203', 'EK_10dpf_DOI_25ugml_2_20211203', \n",
    "        'EK_6dpf_DOI_50ugml_20211208', 'EK_6dpf_DOI_10ugml_20211208', 'EK_7dpf_DOI_10ugml_20211209', \n",
    "        'EK_7dpf_DOI_10ugml_2_20211209', 'EK_7dpf_DOI_10ugml_3_20211209', 'EK_8dpf_DOI_75ugml_20211210', \n",
    "        'EK_8dpf_DOI_0ugml_20211210', 'EK_6dpf_DOI_10ugml_20211215', 'EK_6dpf_DOI_100ugml_20211215', \n",
    "        'EK_7dpf_DOI_100ugml_20211216', 'EK_8dpf_DOI_25ugml_20211217', 'EK_9dpf_DOI_10ugml_20211218', \n",
    "        'EK_9dpf_DOI_10ugml_2_20211218', 'EK_10dpf_DOI_0ugml_20211219', 'EK_10dpf_DOI_0ugml_2_20211219']\n",
    "for exp in exps:\n",
    "    parent_folder = fr\"C:\\Users\\minel\\iCloudDrive\\Documents\\Duke University\\Naumann Lab\\DOI\\Behavior\\locomotor_behavior\\{exp}\"\n",
    "    create_newdf(parent_folder)\n",
    "    create_newboutdf(parent_folder)"
   ]
  },
  {
   "cell_type": "markdown",
   "metadata": {},
   "source": [
    "## Eliminate bad fish"
   ]
  },
  {
   "cell_type": "code",
   "execution_count": 15,
   "metadata": {
    "scrolled": false
   },
   "outputs": [],
   "source": [
    "try:\n",
    "    selected_fish = pd.read_hdf(os.path.join(data_folder, 'selected_fish.h5'))\n",
    "    selected_dict = selected_fish.to_dict()\n",
    "    selected_dict\n",
    "except FileNotFoundError:\n",
    "    selected_dict = {\n",
    "        \"0ugml\" : {8:[]},\n",
    "        \"50ugml\" : {8 :[]},\n",
    "        \"100ugml\" : {8:[]}\n",
    "    }"
   ]
  },
  {
   "cell_type": "code",
   "execution_count": null,
   "metadata": {},
   "outputs": [],
   "source": [
    "parent_folder = os.path.join(data_folder, exp_folder)"
   ]
  },
  {
   "cell_type": "code",
   "execution_count": 8,
   "metadata": {},
   "outputs": [],
   "source": [
    "# Read the exp dataframes\n",
    "lvl = 'exp'\n",
    "conc = parent_folder[parent_folder.rfind('DOI')+4 : parent_folder.rfind('ugml')+4]\n",
    "age = int(parent_folder[:parent_folder.rfind('dpf')][parent_folder[:parent_folder.rfind('dpf')].rfind('_')+1:])\n",
    "df_path = os.path.join(parent_folder, parent_folder[parent_folder.rfind('\\\\')+1:] + '_finaldf.h5')\n",
    "df = pd.read_hdf(df_path)\n",
    "bout_path = os.path.join(parent_folder, parent_folder[parent_folder.rfind('\\\\')+1:] + '_finalboutdf.h5')\n",
    "boutdf = pd.read_hdf(bout_path)"
   ]
  },
  {
   "cell_type": "code",
   "execution_count": 9,
   "metadata": {},
   "outputs": [
    {
     "data": {
      "text/html": [
       "<div>\n",
       "<style scoped>\n",
       "    .dataframe tbody tr th:only-of-type {\n",
       "        vertical-align: middle;\n",
       "    }\n",
       "\n",
       "    .dataframe tbody tr th {\n",
       "        vertical-align: top;\n",
       "    }\n",
       "\n",
       "    .dataframe thead th {\n",
       "        text-align: right;\n",
       "    }\n",
       "</style>\n",
       "<table border=\"1\" class=\"dataframe\">\n",
       "  <thead>\n",
       "    <tr style=\"text-align: right;\">\n",
       "      <th></th>\n",
       "      <th>f0_x</th>\n",
       "      <th>f0_vx</th>\n",
       "      <th>f0_y</th>\n",
       "      <th>f0_vy</th>\n",
       "      <th>f0_theta</th>\n",
       "      <th>f0_vtheta</th>\n",
       "      <th>f0_theta_00</th>\n",
       "      <th>f0_theta_01</th>\n",
       "      <th>f0_theta_02</th>\n",
       "      <th>f0_theta_03</th>\n",
       "      <th>biggest_area</th>\n",
       "      <th>t</th>\n",
       "      <th>stim_index</th>\n",
       "      <th>motion</th>\n",
       "      <th>stim_type</th>\n",
       "      <th>angle</th>\n",
       "      <th>stim_name</th>\n",
       "      <th>stat_time</th>\n",
       "      <th>duration</th>\n",
       "      <th>fish_id</th>\n",
       "      <th>bout</th>\n",
       "      <th>stim_time</th>\n",
       "      <th>condition</th>\n",
       "    </tr>\n",
       "  </thead>\n",
       "  <tbody>\n",
       "    <tr>\n",
       "      <th>0</th>\n",
       "      <td>722.092712</td>\n",
       "      <td>0.019092</td>\n",
       "      <td>563.928467</td>\n",
       "      <td>-0.023238</td>\n",
       "      <td>1.670739</td>\n",
       "      <td>0.001007</td>\n",
       "      <td>-0.007920</td>\n",
       "      <td>-0.027874</td>\n",
       "      <td>-0.034980</td>\n",
       "      <td>-0.048099</td>\n",
       "      <td>1300.0</td>\n",
       "      <td>0.004987</td>\n",
       "      <td>0.0</td>\n",
       "      <td>1.0</td>\n",
       "      <td>s</td>\n",
       "      <td>0</td>\n",
       "      <td>habituation</td>\n",
       "      <td>0</td>\n",
       "      <td>300.0</td>\n",
       "      <td>438</td>\n",
       "      <td>NaN</td>\n",
       "      <td>0.000000</td>\n",
       "      <td>baseline</td>\n",
       "    </tr>\n",
       "    <tr>\n",
       "      <th>1</th>\n",
       "      <td>722.093018</td>\n",
       "      <td>0.010037</td>\n",
       "      <td>563.924316</td>\n",
       "      <td>-0.014060</td>\n",
       "      <td>1.671346</td>\n",
       "      <td>0.000814</td>\n",
       "      <td>-0.006226</td>\n",
       "      <td>-0.028747</td>\n",
       "      <td>-0.034146</td>\n",
       "      <td>-0.045938</td>\n",
       "      <td>950.0</td>\n",
       "      <td>0.010971</td>\n",
       "      <td>0.0</td>\n",
       "      <td>1.0</td>\n",
       "      <td>s</td>\n",
       "      <td>0</td>\n",
       "      <td>habituation</td>\n",
       "      <td>0</td>\n",
       "      <td>300.0</td>\n",
       "      <td>438</td>\n",
       "      <td>NaN</td>\n",
       "      <td>0.006671</td>\n",
       "      <td>baseline</td>\n",
       "    </tr>\n",
       "    <tr>\n",
       "      <th>2</th>\n",
       "      <td>722.160095</td>\n",
       "      <td>0.037514</td>\n",
       "      <td>563.983643</td>\n",
       "      <td>0.021303</td>\n",
       "      <td>1.674821</td>\n",
       "      <td>0.002096</td>\n",
       "      <td>-0.010545</td>\n",
       "      <td>-0.030743</td>\n",
       "      <td>-0.036283</td>\n",
       "      <td>-0.058475</td>\n",
       "      <td>1075.0</td>\n",
       "      <td>0.020945</td>\n",
       "      <td>0.0</td>\n",
       "      <td>1.0</td>\n",
       "      <td>s</td>\n",
       "      <td>0</td>\n",
       "      <td>habituation</td>\n",
       "      <td>0</td>\n",
       "      <td>300.0</td>\n",
       "      <td>438</td>\n",
       "      <td>NaN</td>\n",
       "      <td>0.013343</td>\n",
       "      <td>baseline</td>\n",
       "    </tr>\n",
       "    <tr>\n",
       "      <th>3</th>\n",
       "      <td>722.182739</td>\n",
       "      <td>0.030369</td>\n",
       "      <td>564.000366</td>\n",
       "      <td>0.019115</td>\n",
       "      <td>1.676052</td>\n",
       "      <td>0.001679</td>\n",
       "      <td>-0.012092</td>\n",
       "      <td>-0.032665</td>\n",
       "      <td>-0.037686</td>\n",
       "      <td>-0.048980</td>\n",
       "      <td>1075.0</td>\n",
       "      <td>0.029920</td>\n",
       "      <td>0.0</td>\n",
       "      <td>1.0</td>\n",
       "      <td>s</td>\n",
       "      <td>0</td>\n",
       "      <td>habituation</td>\n",
       "      <td>0</td>\n",
       "      <td>300.0</td>\n",
       "      <td>438</td>\n",
       "      <td>NaN</td>\n",
       "      <td>0.020014</td>\n",
       "      <td>baseline</td>\n",
       "    </tr>\n",
       "    <tr>\n",
       "      <th>4</th>\n",
       "      <td>722.201721</td>\n",
       "      <td>0.024862</td>\n",
       "      <td>563.974792</td>\n",
       "      <td>-0.002431</td>\n",
       "      <td>1.676962</td>\n",
       "      <td>0.001309</td>\n",
       "      <td>-0.012988</td>\n",
       "      <td>-0.032522</td>\n",
       "      <td>-0.044104</td>\n",
       "      <td>-0.045416</td>\n",
       "      <td>900.0</td>\n",
       "      <td>0.035904</td>\n",
       "      <td>0.0</td>\n",
       "      <td>1.0</td>\n",
       "      <td>s</td>\n",
       "      <td>0</td>\n",
       "      <td>habituation</td>\n",
       "      <td>0</td>\n",
       "      <td>300.0</td>\n",
       "      <td>438</td>\n",
       "      <td>NaN</td>\n",
       "      <td>0.026686</td>\n",
       "      <td>baseline</td>\n",
       "    </tr>\n",
       "    <tr>\n",
       "      <th>...</th>\n",
       "      <td>...</td>\n",
       "      <td>...</td>\n",
       "      <td>...</td>\n",
       "      <td>...</td>\n",
       "      <td>...</td>\n",
       "      <td>...</td>\n",
       "      <td>...</td>\n",
       "      <td>...</td>\n",
       "      <td>...</td>\n",
       "      <td>...</td>\n",
       "      <td>...</td>\n",
       "      <td>...</td>\n",
       "      <td>...</td>\n",
       "      <td>...</td>\n",
       "      <td>...</td>\n",
       "      <td>...</td>\n",
       "      <td>...</td>\n",
       "      <td>...</td>\n",
       "      <td>...</td>\n",
       "      <td>...</td>\n",
       "      <td>...</td>\n",
       "      <td>...</td>\n",
       "      <td>...</td>\n",
       "    </tr>\n",
       "    <tr>\n",
       "      <th>1211639</th>\n",
       "      <td>51.716667</td>\n",
       "      <td>0.000923</td>\n",
       "      <td>563.066711</td>\n",
       "      <td>0.101166</td>\n",
       "      <td>1.658391</td>\n",
       "      <td>-0.000040</td>\n",
       "      <td>-0.046559</td>\n",
       "      <td>-0.072259</td>\n",
       "      <td>-0.088618</td>\n",
       "      <td>-0.111673</td>\n",
       "      <td>78200.0</td>\n",
       "      <td>3965.217773</td>\n",
       "      <td>120.0</td>\n",
       "      <td>1.0</td>\n",
       "      <td>s</td>\n",
       "      <td>0</td>\n",
       "      <td>backward</td>\n",
       "      <td>3</td>\n",
       "      <td>33.0</td>\n",
       "      <td>440</td>\n",
       "      <td>NaN</td>\n",
       "      <td>32.963299</td>\n",
       "      <td>drugtreated</td>\n",
       "    </tr>\n",
       "    <tr>\n",
       "      <th>1211640</th>\n",
       "      <td>51.717297</td>\n",
       "      <td>0.000781</td>\n",
       "      <td>562.996094</td>\n",
       "      <td>0.018383</td>\n",
       "      <td>1.658592</td>\n",
       "      <td>0.000076</td>\n",
       "      <td>-0.043873</td>\n",
       "      <td>-0.073998</td>\n",
       "      <td>-0.088356</td>\n",
       "      <td>-0.109988</td>\n",
       "      <td>77500.0</td>\n",
       "      <td>3965.223877</td>\n",
       "      <td>120.0</td>\n",
       "      <td>1.0</td>\n",
       "      <td>s</td>\n",
       "      <td>0</td>\n",
       "      <td>backward</td>\n",
       "      <td>3</td>\n",
       "      <td>33.0</td>\n",
       "      <td>440</td>\n",
       "      <td>NaN</td>\n",
       "      <td>32.969972</td>\n",
       "      <td>drugtreated</td>\n",
       "    </tr>\n",
       "    <tr>\n",
       "      <th>1211641</th>\n",
       "      <td>51.708710</td>\n",
       "      <td>-0.003731</td>\n",
       "      <td>562.969910</td>\n",
       "      <td>-0.003108</td>\n",
       "      <td>1.658460</td>\n",
       "      <td>-0.000024</td>\n",
       "      <td>-0.043366</td>\n",
       "      <td>-0.071752</td>\n",
       "      <td>-0.090802</td>\n",
       "      <td>-0.109293</td>\n",
       "      <td>77750.0</td>\n",
       "      <td>3965.230713</td>\n",
       "      <td>120.0</td>\n",
       "      <td>1.0</td>\n",
       "      <td>s</td>\n",
       "      <td>0</td>\n",
       "      <td>backward</td>\n",
       "      <td>3</td>\n",
       "      <td>33.0</td>\n",
       "      <td>440</td>\n",
       "      <td>NaN</td>\n",
       "      <td>32.976645</td>\n",
       "      <td>drugtreated</td>\n",
       "    </tr>\n",
       "    <tr>\n",
       "      <th>1211642</th>\n",
       "      <td>51.731136</td>\n",
       "      <td>0.008867</td>\n",
       "      <td>562.865295</td>\n",
       "      <td>-0.052001</td>\n",
       "      <td>1.658005</td>\n",
       "      <td>-0.000232</td>\n",
       "      <td>-0.043199</td>\n",
       "      <td>-0.071811</td>\n",
       "      <td>-0.088763</td>\n",
       "      <td>-0.108366</td>\n",
       "      <td>75900.0</td>\n",
       "      <td>3965.236816</td>\n",
       "      <td>120.0</td>\n",
       "      <td>1.0</td>\n",
       "      <td>s</td>\n",
       "      <td>0</td>\n",
       "      <td>backward</td>\n",
       "      <td>3</td>\n",
       "      <td>33.0</td>\n",
       "      <td>440</td>\n",
       "      <td>NaN</td>\n",
       "      <td>32.983318</td>\n",
       "      <td>drugtreated</td>\n",
       "    </tr>\n",
       "    <tr>\n",
       "      <th>1211643</th>\n",
       "      <td>51.712250</td>\n",
       "      <td>-0.004499</td>\n",
       "      <td>562.989258</td>\n",
       "      <td>0.032793</td>\n",
       "      <td>1.659059</td>\n",
       "      <td>0.000388</td>\n",
       "      <td>-0.045373</td>\n",
       "      <td>-0.074942</td>\n",
       "      <td>-0.091062</td>\n",
       "      <td>-0.113468</td>\n",
       "      <td>77850.0</td>\n",
       "      <td>3965.243896</td>\n",
       "      <td>120.0</td>\n",
       "      <td>1.0</td>\n",
       "      <td>s</td>\n",
       "      <td>0</td>\n",
       "      <td>backward</td>\n",
       "      <td>3</td>\n",
       "      <td>33.0</td>\n",
       "      <td>440</td>\n",
       "      <td>NaN</td>\n",
       "      <td>32.989990</td>\n",
       "      <td>drugtreated</td>\n",
       "    </tr>\n",
       "  </tbody>\n",
       "</table>\n",
       "<p>1211644 rows × 23 columns</p>\n",
       "</div>"
      ],
      "text/plain": [
       "               f0_x     f0_vx        f0_y     f0_vy  f0_theta  f0_vtheta  \\\n",
       "0        722.092712  0.019092  563.928467 -0.023238  1.670739   0.001007   \n",
       "1        722.093018  0.010037  563.924316 -0.014060  1.671346   0.000814   \n",
       "2        722.160095  0.037514  563.983643  0.021303  1.674821   0.002096   \n",
       "3        722.182739  0.030369  564.000366  0.019115  1.676052   0.001679   \n",
       "4        722.201721  0.024862  563.974792 -0.002431  1.676962   0.001309   \n",
       "...             ...       ...         ...       ...       ...        ...   \n",
       "1211639   51.716667  0.000923  563.066711  0.101166  1.658391  -0.000040   \n",
       "1211640   51.717297  0.000781  562.996094  0.018383  1.658592   0.000076   \n",
       "1211641   51.708710 -0.003731  562.969910 -0.003108  1.658460  -0.000024   \n",
       "1211642   51.731136  0.008867  562.865295 -0.052001  1.658005  -0.000232   \n",
       "1211643   51.712250 -0.004499  562.989258  0.032793  1.659059   0.000388   \n",
       "\n",
       "         f0_theta_00  f0_theta_01  f0_theta_02  f0_theta_03  biggest_area  \\\n",
       "0          -0.007920    -0.027874    -0.034980    -0.048099        1300.0   \n",
       "1          -0.006226    -0.028747    -0.034146    -0.045938         950.0   \n",
       "2          -0.010545    -0.030743    -0.036283    -0.058475        1075.0   \n",
       "3          -0.012092    -0.032665    -0.037686    -0.048980        1075.0   \n",
       "4          -0.012988    -0.032522    -0.044104    -0.045416         900.0   \n",
       "...              ...          ...          ...          ...           ...   \n",
       "1211639    -0.046559    -0.072259    -0.088618    -0.111673       78200.0   \n",
       "1211640    -0.043873    -0.073998    -0.088356    -0.109988       77500.0   \n",
       "1211641    -0.043366    -0.071752    -0.090802    -0.109293       77750.0   \n",
       "1211642    -0.043199    -0.071811    -0.088763    -0.108366       75900.0   \n",
       "1211643    -0.045373    -0.074942    -0.091062    -0.113468       77850.0   \n",
       "\n",
       "                   t  stim_index  motion stim_type  angle    stim_name  \\\n",
       "0           0.004987         0.0     1.0         s      0  habituation   \n",
       "1           0.010971         0.0     1.0         s      0  habituation   \n",
       "2           0.020945         0.0     1.0         s      0  habituation   \n",
       "3           0.029920         0.0     1.0         s      0  habituation   \n",
       "4           0.035904         0.0     1.0         s      0  habituation   \n",
       "...              ...         ...     ...       ...    ...          ...   \n",
       "1211639  3965.217773       120.0     1.0         s      0     backward   \n",
       "1211640  3965.223877       120.0     1.0         s      0     backward   \n",
       "1211641  3965.230713       120.0     1.0         s      0     backward   \n",
       "1211642  3965.236816       120.0     1.0         s      0     backward   \n",
       "1211643  3965.243896       120.0     1.0         s      0     backward   \n",
       "\n",
       "         stat_time  duration  fish_id  bout  stim_time    condition  \n",
       "0                0     300.0      438   NaN   0.000000     baseline  \n",
       "1                0     300.0      438   NaN   0.006671     baseline  \n",
       "2                0     300.0      438   NaN   0.013343     baseline  \n",
       "3                0     300.0      438   NaN   0.020014     baseline  \n",
       "4                0     300.0      438   NaN   0.026686     baseline  \n",
       "...            ...       ...      ...   ...        ...          ...  \n",
       "1211639          3      33.0      440   NaN  32.963299  drugtreated  \n",
       "1211640          3      33.0      440   NaN  32.969972  drugtreated  \n",
       "1211641          3      33.0      440   NaN  32.976645  drugtreated  \n",
       "1211642          3      33.0      440   NaN  32.983318  drugtreated  \n",
       "1211643          3      33.0      440   NaN  32.989990  drugtreated  \n",
       "\n",
       "[1211644 rows x 23 columns]"
      ]
     },
     "execution_count": 9,
     "metadata": {},
     "output_type": "execute_result"
    }
   ],
   "source": [
    "df"
   ]
  },
  {
   "cell_type": "code",
   "execution_count": null,
   "metadata": {},
   "outputs": [],
   "source": [
    "boutcount_df = measurepertime(boutdf, measure='boutcount', time='min')\n",
    "boutcount_df"
   ]
  },
  {
   "cell_type": "code",
   "execution_count": null,
   "metadata": {},
   "outputs": [],
   "source": [
    "good_fish = barplot_perfish(parent_folder, boutcount_df, level=lvl)\n",
    "if len(good_fish) > 0:\n",
    "    if age not in selected_dict[conc].keys():\n",
    "        selected_dict[conc][age] = []\n",
    "    try:\n",
    "        if np.isnan(selected_dict[conc][age]):\n",
    "            selected_dict[conc][age] = []\n",
    "            \n",
    "    except ValueError:\n",
    "        pass\n",
    "    [selected_dict[conc][age].append(fish) for fish in good_fish if fish not in selected_dict[conc][age]]\n",
    "    pd.DataFrame(selected_dict).to_hdf(os.path.join(data_folder, 'selected_fish.h5'), key='selected_fish', mode='w')"
   ]
  },
  {
   "cell_type": "code",
   "execution_count": 19,
   "metadata": {},
   "outputs": [
    {
     "data": {
      "text/plain": [
       "{'0ugml': {'8dpf': [], 8: [438]},\n",
       " '50ugml': {'8dpf': [], 8: [441]},\n",
       " '100ugml': {'8dpf': [], 8: nan}}"
      ]
     },
     "execution_count": 19,
     "metadata": {},
     "output_type": "execute_result"
    }
   ],
   "source": [
    "selected_dict"
   ]
  },
  {
   "cell_type": "code",
   "execution_count": 20,
   "metadata": {},
   "outputs": [
    {
     "data": {
      "image/png": "[encoded data removed]",
      "text/plain": [
       "<Figure size 1440x360 with 1 Axes>"
      ]
     },
     "metadata": {
      "needs_background": "light"
     },
     "output_type": "display_data"
    }
   ],
   "source": [
    "lineplot_perfish(parent_folder, boutdf, level=lvl, measure='distance')"
   ]
  },
  {
   "cell_type": "code",
   "execution_count": null,
   "metadata": {},
   "outputs": [],
   "source": [
    "lineplot_perfish(parent_folder, boutdf, level=lvl, measure='dist_from_center')"
   ]
  },
  {
   "cell_type": "code",
   "execution_count": null,
   "metadata": {},
   "outputs": [],
   "source": [
    "histplot(parent_folder, boutdf, level=lvl, measure='bout_duration')"
   ]
  },
  {
   "cell_type": "code",
   "execution_count": null,
   "metadata": {
    "scrolled": false
   },
   "outputs": [],
   "source": [
    "histplot_perfish(parent_folder, boutdf, level=lvl, measure='bout_angle')"
   ]
  },
  {
   "cell_type": "code",
   "execution_count": null,
   "metadata": {},
   "outputs": [],
   "source": [
    "scatterplot_perfish(parent_folder, df, level=lvl, stim_name='right')"
   ]
  },
  {
   "cell_type": "code",
   "execution_count": null,
   "metadata": {},
   "outputs": [],
   "source": [
    "scatterplot_perfish(parent_folder, df, level=lvl, stim_name='left')"
   ]
  },
  {
   "cell_type": "code",
   "execution_count": 10,
   "metadata": {},
   "outputs": [
    {
     "ename": "AttributeError",
     "evalue": "'Figure' object has no attribute 'supylabel'",
     "output_type": "error",
     "traceback": [
      "\u001b[1;31m---------------------------------------------------------------------------\u001b[0m",
      "\u001b[1;31mAttributeError\u001b[0m                            Traceback (most recent call last)",
      "\u001b[1;32m~\\AppData\\Local\\Temp/ipykernel_10596/459798694.py\u001b[0m in \u001b[0;36m<module>\u001b[1;34m\u001b[0m\n\u001b[0;32m      4\u001b[0m \u001b[1;32mfor\u001b[0m \u001b[0mexp\u001b[0m \u001b[1;32min\u001b[0m \u001b[0mexps\u001b[0m\u001b[1;33m:\u001b[0m\u001b[1;33m\u001b[0m\u001b[1;33m\u001b[0m\u001b[0m\n\u001b[0;32m      5\u001b[0m     \u001b[0mparent_folder\u001b[0m \u001b[1;33m=\u001b[0m \u001b[0mos\u001b[0m\u001b[1;33m.\u001b[0m\u001b[0mpath\u001b[0m\u001b[1;33m.\u001b[0m\u001b[0mjoin\u001b[0m\u001b[1;33m(\u001b[0m\u001b[0mdata_folder\u001b[0m\u001b[1;33m,\u001b[0m \u001b[0mexp_folder\u001b[0m\u001b[1;33m)\u001b[0m\u001b[1;33m\u001b[0m\u001b[1;33m\u001b[0m\u001b[0m\n\u001b[1;32m----> 6\u001b[1;33m     \u001b[0mscatterplot_perfish\u001b[0m\u001b[1;33m(\u001b[0m\u001b[0mparent_folder\u001b[0m\u001b[1;33m,\u001b[0m \u001b[0mdf\u001b[0m\u001b[1;33m,\u001b[0m \u001b[0mlevel\u001b[0m\u001b[1;33m=\u001b[0m\u001b[0mlvl\u001b[0m\u001b[1;33m,\u001b[0m \u001b[0mstim_name\u001b[0m\u001b[1;33m=\u001b[0m\u001b[1;34m'right'\u001b[0m\u001b[1;33m)\u001b[0m\u001b[1;33m\u001b[0m\u001b[1;33m\u001b[0m\u001b[0m\n\u001b[0m\u001b[0;32m      7\u001b[0m     \u001b[0mscatterplot_perfish\u001b[0m\u001b[1;33m(\u001b[0m\u001b[0mparent_folder\u001b[0m\u001b[1;33m,\u001b[0m \u001b[0mdf\u001b[0m\u001b[1;33m,\u001b[0m \u001b[0mlevel\u001b[0m\u001b[1;33m=\u001b[0m\u001b[0mlvl\u001b[0m\u001b[1;33m,\u001b[0m \u001b[0mstim_name\u001b[0m\u001b[1;33m=\u001b[0m\u001b[1;34m'left'\u001b[0m\u001b[1;33m)\u001b[0m\u001b[1;33m\u001b[0m\u001b[1;33m\u001b[0m\u001b[0m\n",
      "\u001b[1;32m~\\DOI_behaviorAnalysis\\DOI_analysis_functions.py\u001b[0m in \u001b[0;36mscatterplot_perfish\u001b[1;34m(folder, df, level, stim_name)\u001b[0m\n\u001b[0;32m    571\u001b[0m                 \u001b[0maxs\u001b[0m\u001b[1;33m[\u001b[0m\u001b[0mi\u001b[0m\u001b[1;33m,\u001b[0m \u001b[0mj\u001b[0m\u001b[1;33m]\u001b[0m\u001b[1;33m.\u001b[0m\u001b[0mset_title\u001b[0m\u001b[1;33m(\u001b[0m\u001b[0m_id\u001b[0m\u001b[1;33m,\u001b[0m \u001b[0mfontsize\u001b[0m\u001b[1;33m=\u001b[0m\u001b[1;34m'x-large'\u001b[0m\u001b[1;33m)\u001b[0m\u001b[1;33m\u001b[0m\u001b[1;33m\u001b[0m\u001b[0m\n\u001b[0;32m    572\u001b[0m \u001b[1;33m\u001b[0m\u001b[0m\n\u001b[1;32m--> 573\u001b[1;33m     \u001b[0mfig\u001b[0m\u001b[1;33m.\u001b[0m\u001b[0msupylabel\u001b[0m\u001b[1;33m(\u001b[0m\u001b[1;34m'Condition'\u001b[0m\u001b[1;33m,\u001b[0m \u001b[0mfontsize\u001b[0m\u001b[1;33m=\u001b[0m\u001b[1;34m'xx-large'\u001b[0m\u001b[1;33m)\u001b[0m\u001b[1;33m\u001b[0m\u001b[1;33m\u001b[0m\u001b[0m\n\u001b[0m\u001b[0;32m    574\u001b[0m     \u001b[0mfig\u001b[0m\u001b[1;33m.\u001b[0m\u001b[0msupxlabel\u001b[0m\u001b[1;33m(\u001b[0m\u001b[1;34m'Fish ID'\u001b[0m\u001b[1;33m,\u001b[0m \u001b[0mfontsize\u001b[0m\u001b[1;33m=\u001b[0m\u001b[1;34m'xx-large'\u001b[0m\u001b[1;33m)\u001b[0m\u001b[1;33m\u001b[0m\u001b[1;33m\u001b[0m\u001b[0m\n\u001b[0;32m    575\u001b[0m     \u001b[1;32mif\u001b[0m \u001b[0mlevel\u001b[0m \u001b[1;33m==\u001b[0m \u001b[1;34m'exp'\u001b[0m\u001b[1;33m:\u001b[0m\u001b[1;33m\u001b[0m\u001b[1;33m\u001b[0m\u001b[0m\n",
      "\u001b[1;31mAttributeError\u001b[0m: 'Figure' object has no attribute 'supylabel'"
     ]
    },
    {
     "data": {
      "image/png": "[encoded data removed]",
      "text/plain": [
       "<Figure size 1440x1440 with 5 Axes>"
      ]
     },
     "metadata": {
      "needs_background": "light"
     },
     "output_type": "display_data"
    }
   ],
   "source": [
    "# Re-run the OMR experiments\n",
    "\n",
    "exps = ['EK_8dpf_DOI_50ugml_20230201']\n",
    "for exp in exps:\n",
    "    parent_folder = os.path.join(data_folder, exp_folder)\n",
    "    scatterplot_perfish(parent_folder, df, level=lvl, stim_name='right')\n",
    "    scatterplot_perfish(parent_folder, df, level=lvl, stim_name='left')"
   ]
  },
  {
   "cell_type": "code",
   "execution_count": null,
   "metadata": {},
   "outputs": [],
   "source": [
    "# Re-run the locomotor experiments\n",
    "DOI_concs = ['0ugml', '10ugml', '25ugml', '50ugml', '75ugml', '100ugml']\n",
    "lvl = 'exp'\n",
    "selected_dict = {_conc: {} for _conc in DOI_concs}\n",
    "exps = ['EK_6dpf_DOI_0ugml_20211111', 'EK_6dpf_DOI_0ugml_2_20211111', 'EK_7dpf_DOI_10ugml_20211112', \n",
    "        'EK_7dpf_DOI_10ugml_2_20211112', 'EK_9dpf_DOI_50ugml_20211114', 'EK_9dpf_DOI_50ugml_2_20211114', \n",
    "        'EK_10dpf_DOI_75ugml_20211115', 'EK_10dpf_DOI_75ugml_2_20211115', 'EK_11dpf_DOI_100ugml_2_20211116', \n",
    "        'EK_6dpf_DOI_75ugml_20211117', 'EK_6dpf_DOI_75ugml_2_20211117', 'EK_7dpf_DOI_100ugml_20211118', \n",
    "        'EK_7dpf_DOI_100ugml_2_20211118', 'EK_8dpf_DOI_0ugml_20211119', 'EK_8dpf_DOI_0ugml_2_20211119', \n",
    "        'EK_11dpf_DOI_50ugml_2_20211122', 'EK_11dpf_DOI_25ugml_20211122', 'EK_6dpf_DOI_25ugml_20211129', \n",
    "        'EK_6dpf_DOI_25ugml_2_20211129', 'EK_6dpf_DOI_50ugml_20211129', 'EK_7dpf_DOI_50ugml_20211130', \n",
    "        'EK_7dpf_DOI_50ugml_2_20211130', 'EK_8dpf_DOI_25ugml_20211201', 'EK_8dpf_DOI_25ugml_2_20211201', \n",
    "        'EK_8dpf_DOI_75ugml_20211201', 'EK_9dpf_DOI_100ugml_20211202', 'EK_9dpf_DOI_100ugml_2_20211202', \n",
    "        'EK_9dpf_DOI_100ugml_3_20211202', 'EK_10dpf_DOI_25ugml_20211203', 'EK_10dpf_DOI_25ugml_2_20211203', \n",
    "        'EK_6dpf_DOI_50ugml_20211208', 'EK_6dpf_DOI_10ugml_20211208', 'EK_7dpf_DOI_10ugml_20211209', \n",
    "        'EK_7dpf_DOI_10ugml_2_20211209', 'EK_7dpf_DOI_10ugml_3_20211209', 'EK_8dpf_DOI_75ugml_20211210', \n",
    "        'EK_8dpf_DOI_0ugml_20211210', 'EK_6dpf_DOI_10ugml_20211215', 'EK_6dpf_DOI_100ugml_20211215', \n",
    "        'EK_7dpf_DOI_100ugml_20211216', 'EK_8dpf_DOI_25ugml_20211217', 'EK_9dpf_DOI_10ugml_20211218', \n",
    "        'EK_9dpf_DOI_10ugml_2_20211218', 'EK_10dpf_DOI_0ugml_20211219', 'EK_10dpf_DOI_0ugml_2_20211219']\n",
    "for exp in exps:\n",
    "    parent_folder = fr\"C:\\Users\\minel\\iCloudDrive\\Documents\\Duke University\\Naumann Lab\\DOI\\Behavior\\locomotor_behavior\\{exp}\"\n",
    "    conc = parent_folder[parent_folder.rfind('DOI')+4 : parent_folder.rfind('ugml')+4]\n",
    "    age = int(parent_folder[:parent_folder.rfind('dpf')][parent_folder[:parent_folder.rfind('dpf')].rfind('_')+1:])\n",
    "#     df_path = os.path.join(parent_folder, parent_folder[parent_folder.rfind('\\\\')+1:] + '_finaldf.h5')\n",
    "#     df = pd.read_hdf(df_path)\n",
    "    bout_path = os.path.join(parent_folder, parent_folder[parent_folder.rfind('\\\\')+1:] + '_finalboutdf.h5')\n",
    "    boutdf = pd.read_hdf(bout_path)\n",
    "    boutcount_df = measurepertime(boutdf, measure='boutcount', time='min')\n",
    "    good_fish = barplot_perfish(parent_folder, boutcount_df, level=lvl)\n",
    "    if len(good_fish) > 0:\n",
    "        if age not in selected_dict[conc].keys():\n",
    "            selected_dict[conc][age] = []\n",
    "        [selected_dict[conc][age].append(fish) for fish in good_fish if fish not in selected_dict[conc][age]]\n",
    "        pd.DataFrame(selected_dict).to_hdf(os.path.join(data_folder, 'selected_fish.h5'), key='selected_fish', mode='w')\n",
    "#     lineplot_perfish(parent_folder, boutdf, level=lvl, measure='distance')\n",
    "#     lineplot_perfish(parent_folder, boutdf, level=lvl, measure='dist_from_center')\n",
    "#     histplot(parent_folder, boutdf, level=lvl, measure='bout_duration')\n",
    "#     histplot_perfish(parent_folder, boutdf, level=lvl, measure='bout_angle')\n",
    "#     scatterplot_perfish(parent_folder, df, level=lvl, stim_name='right')\n",
    "#     scatterplot_perfish(parent_folder, df, level=lvl, stim_name='left')"
   ]
  },
  {
   "cell_type": "markdown",
   "metadata": {},
   "source": [
    "## For combining selected fish with previous experiments"
   ]
  },
  {
   "cell_type": "code",
   "execution_count": 18,
   "metadata": {},
   "outputs": [
    {
     "data": {
      "text/html": [
       "<div>\n",
       "<style scoped>\n",
       "    .dataframe tbody tr th:only-of-type {\n",
       "        vertical-align: middle;\n",
       "    }\n",
       "\n",
       "    .dataframe tbody tr th {\n",
       "        vertical-align: top;\n",
       "    }\n",
       "\n",
       "    .dataframe thead th {\n",
       "        text-align: right;\n",
       "    }\n",
       "</style>\n",
       "<table border=\"1\" class=\"dataframe\">\n",
       "  <thead>\n",
       "    <tr style=\"text-align: right;\">\n",
       "      <th></th>\n",
       "      <th>0ugml</th>\n",
       "      <th>50ugml</th>\n",
       "      <th>100ugml</th>\n",
       "    </tr>\n",
       "  </thead>\n",
       "  <tbody>\n",
       "    <tr>\n",
       "      <th>8dpf</th>\n",
       "      <td>[]</td>\n",
       "      <td>[]</td>\n",
       "      <td>[]</td>\n",
       "    </tr>\n",
       "    <tr>\n",
       "      <th>8</th>\n",
       "      <td>[438]</td>\n",
       "      <td>[441]</td>\n",
       "      <td>NaN</td>\n",
       "    </tr>\n",
       "  </tbody>\n",
       "</table>\n",
       "</div>"
      ],
      "text/plain": [
       "      0ugml 50ugml 100ugml\n",
       "8dpf     []     []      []\n",
       "8     [438]  [441]     NaN"
      ]
     },
     "execution_count": 18,
     "metadata": {},
     "output_type": "execute_result"
    }
   ],
   "source": [
    "selected_fish"
   ]
  },
  {
   "cell_type": "code",
   "execution_count": 16,
   "metadata": {
    "scrolled": true
   },
   "outputs": [
    {
     "data": {
      "text/plain": [
       "{'0ugml': {'8dpf': [], 8: [438]},\n",
       " '50ugml': {'8dpf': [], 8: [441]},\n",
       " '100ugml': {'8dpf': [], 8: nan}}"
      ]
     },
     "execution_count": 16,
     "metadata": {},
     "output_type": "execute_result"
    }
   ],
   "source": [
    "# DOI_concs = ['0ugml', '10ugml', '25ugml', '50ugml', '75ugml', '100ugml']\n",
    "DOI_concs = ['0ugml','50ugml', '100ugml']\n",
    "# selected_dict = {_conc: {} for _conc in DOI_concs}\n",
    "selected_fish = pd.read_hdf(os.path.join(data_folder, 'selected_fish.h5'))\n",
    "selected_dict = selected_fish.to_dict()\n",
    "selected_dict"
   ]
  },
  {
   "cell_type": "code",
   "execution_count": 17,
   "metadata": {},
   "outputs": [
    {
     "name": "stdout",
     "output_type": "stream",
     "text": [
      "concdf created for 0ugml\n"
     ]
    },
    {
     "ename": "OSError",
     "evalue": "HDF5 error back trace\n\n  File \"..\\src\\H5F.c\", line 509, in H5Fopen\n    unable to open file\n  File \"..\\src\\H5Fint.c\", line 1652, in H5F_open\n    unable to read superblock\n  File \"..\\src\\H5Fsuper.c\", line 411, in H5F__super_read\n    file signature not found\n\nEnd of HDF5 error back trace\n\nUnable to open/create file 'D:\\behavior\\data\\EK_8dpf_DOI_50ugml_20230201\\._EK_8dpf_DOI_50ugml_20230201_finalboutdf.h5'",
     "output_type": "error",
     "traceback": [
      "\u001b[1;31m---------------------------------------------------------------------------\u001b[0m",
      "\u001b[1;31mTypeError\u001b[0m                                 Traceback (most recent call last)",
      "\u001b[1;32m~\\AppData\\Local\\Temp/ipykernel_10596/1246435774.py\u001b[0m in \u001b[0;36m<module>\u001b[1;34m\u001b[0m\n\u001b[0;32m      2\u001b[0m     \u001b[1;32mtry\u001b[0m\u001b[1;33m:\u001b[0m\u001b[1;33m\u001b[0m\u001b[1;33m\u001b[0m\u001b[0m\n\u001b[1;32m----> 3\u001b[1;33m         \u001b[1;32mif\u001b[0m \u001b[0mall\u001b[0m\u001b[1;33m(\u001b[0m\u001b[0mnp\u001b[0m\u001b[1;33m.\u001b[0m\u001b[0misnan\u001b[0m\u001b[1;33m(\u001b[0m\u001b[0mlist\u001b[0m\u001b[1;33m(\u001b[0m\u001b[0mselected_dict\u001b[0m\u001b[1;33m[\u001b[0m\u001b[0m_conc\u001b[0m\u001b[1;33m]\u001b[0m\u001b[1;33m.\u001b[0m\u001b[0mvalues\u001b[0m\u001b[1;33m(\u001b[0m\u001b[1;33m)\u001b[0m\u001b[1;33m)\u001b[0m\u001b[1;33m)\u001b[0m\u001b[1;33m)\u001b[0m\u001b[1;33m:\u001b[0m\u001b[1;33m\u001b[0m\u001b[1;33m\u001b[0m\u001b[0m\n\u001b[0m\u001b[0;32m      4\u001b[0m             \u001b[0mprint\u001b[0m\u001b[1;33m(\u001b[0m\u001b[1;34m'No fish for '\u001b[0m \u001b[1;33m+\u001b[0m \u001b[0m_conc\u001b[0m\u001b[1;33m)\u001b[0m\u001b[1;33m\u001b[0m\u001b[1;33m\u001b[0m\u001b[0m\n",
      "\u001b[1;31mTypeError\u001b[0m: ufunc 'isnan' not supported for the input types, and the inputs could not be safely coerced to any supported types according to the casting rule ''safe''",
      "\nDuring handling of the above exception, another exception occurred:\n",
      "\u001b[1;31mHDF5ExtError\u001b[0m                              Traceback (most recent call last)",
      "\u001b[1;32mc:\\users\\naumann3\\.conda\\envs\\stytra_env\\lib\\site-packages\\pandas\\io\\pytables.py\u001b[0m in \u001b[0;36mopen\u001b[1;34m(self, mode, **kwargs)\u001b[0m\n\u001b[0;32m    626\u001b[0m         \u001b[1;32mtry\u001b[0m\u001b[1;33m:\u001b[0m\u001b[1;33m\u001b[0m\u001b[1;33m\u001b[0m\u001b[0m\n\u001b[1;32m--> 627\u001b[1;33m             \u001b[0mself\u001b[0m\u001b[1;33m.\u001b[0m\u001b[0m_handle\u001b[0m \u001b[1;33m=\u001b[0m \u001b[0mtables\u001b[0m\u001b[1;33m.\u001b[0m\u001b[0mopen_file\u001b[0m\u001b[1;33m(\u001b[0m\u001b[0mself\u001b[0m\u001b[1;33m.\u001b[0m\u001b[0m_path\u001b[0m\u001b[1;33m,\u001b[0m \u001b[0mself\u001b[0m\u001b[1;33m.\u001b[0m\u001b[0m_mode\u001b[0m\u001b[1;33m,\u001b[0m \u001b[1;33m**\u001b[0m\u001b[0mkwargs\u001b[0m\u001b[1;33m)\u001b[0m\u001b[1;33m\u001b[0m\u001b[1;33m\u001b[0m\u001b[0m\n\u001b[0m\u001b[0;32m    628\u001b[0m         \u001b[1;32mexcept\u001b[0m \u001b[1;33m(\u001b[0m\u001b[0mIOError\u001b[0m\u001b[1;33m)\u001b[0m \u001b[1;32mas\u001b[0m \u001b[0me\u001b[0m\u001b[1;33m:\u001b[0m  \u001b[1;31m# pragma: no cover\u001b[0m\u001b[1;33m\u001b[0m\u001b[1;33m\u001b[0m\u001b[0m\n",
      "\u001b[1;32mc:\\users\\naumann3\\.conda\\envs\\stytra_env\\lib\\site-packages\\tables\\file.py\u001b[0m in \u001b[0;36mopen_file\u001b[1;34m(filename, mode, title, root_uep, filters, **kwargs)\u001b[0m\n\u001b[0;32m    314\u001b[0m     \u001b[1;31m# Finally, create the File instance, and return it\u001b[0m\u001b[1;33m\u001b[0m\u001b[1;33m\u001b[0m\u001b[1;33m\u001b[0m\u001b[0m\n\u001b[1;32m--> 315\u001b[1;33m     \u001b[1;32mreturn\u001b[0m \u001b[0mFile\u001b[0m\u001b[1;33m(\u001b[0m\u001b[0mfilename\u001b[0m\u001b[1;33m,\u001b[0m \u001b[0mmode\u001b[0m\u001b[1;33m,\u001b[0m \u001b[0mtitle\u001b[0m\u001b[1;33m,\u001b[0m \u001b[0mroot_uep\u001b[0m\u001b[1;33m,\u001b[0m \u001b[0mfilters\u001b[0m\u001b[1;33m,\u001b[0m \u001b[1;33m**\u001b[0m\u001b[0mkwargs\u001b[0m\u001b[1;33m)\u001b[0m\u001b[1;33m\u001b[0m\u001b[1;33m\u001b[0m\u001b[0m\n\u001b[0m\u001b[0;32m    316\u001b[0m \u001b[1;33m\u001b[0m\u001b[0m\n",
      "\u001b[1;32mc:\\users\\naumann3\\.conda\\envs\\stytra_env\\lib\\site-packages\\tables\\file.py\u001b[0m in \u001b[0;36m__init__\u001b[1;34m(self, filename, mode, title, root_uep, filters, **kwargs)\u001b[0m\n\u001b[0;32m    777\u001b[0m         \u001b[1;31m# Now, it is time to initialize the File extension\u001b[0m\u001b[1;33m\u001b[0m\u001b[1;33m\u001b[0m\u001b[1;33m\u001b[0m\u001b[0m\n\u001b[1;32m--> 778\u001b[1;33m         \u001b[0mself\u001b[0m\u001b[1;33m.\u001b[0m\u001b[0m_g_new\u001b[0m\u001b[1;33m(\u001b[0m\u001b[0mfilename\u001b[0m\u001b[1;33m,\u001b[0m \u001b[0mmode\u001b[0m\u001b[1;33m,\u001b[0m \u001b[1;33m**\u001b[0m\u001b[0mparams\u001b[0m\u001b[1;33m)\u001b[0m\u001b[1;33m\u001b[0m\u001b[1;33m\u001b[0m\u001b[0m\n\u001b[0m\u001b[0;32m    779\u001b[0m \u001b[1;33m\u001b[0m\u001b[0m\n",
      "\u001b[1;32mtables/hdf5extension.pyx\u001b[0m in \u001b[0;36mtables.hdf5extension.File._g_new\u001b[1;34m()\u001b[0m\n",
      "\u001b[1;31mHDF5ExtError\u001b[0m: HDF5 error back trace\n\n  File \"..\\src\\H5F.c\", line 509, in H5Fopen\n    unable to open file\n  File \"..\\src\\H5Fint.c\", line 1652, in H5F_open\n    unable to read superblock\n  File \"..\\src\\H5Fsuper.c\", line 411, in H5F__super_read\n    file signature not found\n\nEnd of HDF5 error back trace\n\nUnable to open/create file 'D:\\behavior\\data\\EK_8dpf_DOI_50ugml_20230201\\._EK_8dpf_DOI_50ugml_20230201_finalboutdf.h5'",
      "\nDuring handling of the above exception, another exception occurred:\n",
      "\u001b[1;31mOSError\u001b[0m                                   Traceback (most recent call last)",
      "\u001b[1;32m~\\AppData\\Local\\Temp/ipykernel_10596/1246435774.py\u001b[0m in \u001b[0;36m<module>\u001b[1;34m\u001b[0m\n\u001b[0;32m      7\u001b[0m \u001b[1;33m\u001b[0m\u001b[0m\n\u001b[0;32m      8\u001b[0m         \u001b[0mgood_fish\u001b[0m \u001b[1;33m=\u001b[0m \u001b[1;33m[\u001b[0m\u001b[0m_fish\u001b[0m \u001b[1;32mfor\u001b[0m \u001b[0m_list\u001b[0m \u001b[1;32min\u001b[0m \u001b[0mlist\u001b[0m\u001b[1;33m(\u001b[0m\u001b[0mselected_dict\u001b[0m\u001b[1;33m[\u001b[0m\u001b[0m_conc\u001b[0m\u001b[1;33m]\u001b[0m\u001b[1;33m.\u001b[0m\u001b[0mvalues\u001b[0m\u001b[1;33m(\u001b[0m\u001b[1;33m)\u001b[0m\u001b[1;33m)\u001b[0m \u001b[1;32mif\u001b[0m \u001b[0mtype\u001b[0m\u001b[1;33m(\u001b[0m\u001b[0m_list\u001b[0m\u001b[1;33m)\u001b[0m \u001b[1;33m==\u001b[0m \u001b[0mlist\u001b[0m \u001b[1;32mfor\u001b[0m \u001b[0m_fish\u001b[0m \u001b[1;32min\u001b[0m \u001b[0m_list\u001b[0m\u001b[1;33m]\u001b[0m\u001b[1;33m\u001b[0m\u001b[1;33m\u001b[0m\u001b[0m\n\u001b[1;32m----> 9\u001b[1;33m         \u001b[0mcreate_concdf\u001b[0m\u001b[1;33m(\u001b[0m\u001b[0mdata_folder\u001b[0m\u001b[1;33m,\u001b[0m \u001b[0m_conc\u001b[0m\u001b[1;33m,\u001b[0m \u001b[0mgood_fish\u001b[0m\u001b[1;33m)\u001b[0m\u001b[1;33m\u001b[0m\u001b[1;33m\u001b[0m\u001b[0m\n\u001b[0m\u001b[0;32m     10\u001b[0m         \u001b[0mprint\u001b[0m\u001b[1;33m(\u001b[0m\u001b[1;34m'concdf created for '\u001b[0m \u001b[1;33m+\u001b[0m \u001b[0m_conc\u001b[0m\u001b[1;33m)\u001b[0m\u001b[1;33m\u001b[0m\u001b[1;33m\u001b[0m\u001b[0m\n",
      "\u001b[1;32m~\\DOI_behaviorAnalysis\\DOI_analysis_functions.py\u001b[0m in \u001b[0;36mcreate_concdf\u001b[1;34m(data_folder, DOI_conc, good_fish)\u001b[0m\n\u001b[0;32m    211\u001b[0m     \u001b[0mgood_df\u001b[0m \u001b[1;33m=\u001b[0m \u001b[0mgood_df\u001b[0m\u001b[1;33m[\u001b[0m\u001b[0mgood_df\u001b[0m\u001b[1;33m.\u001b[0m\u001b[0mfish_id\u001b[0m\u001b[1;33m.\u001b[0m\u001b[0misin\u001b[0m\u001b[1;33m(\u001b[0m\u001b[0mgood_fish\u001b[0m\u001b[1;33m)\u001b[0m\u001b[1;33m]\u001b[0m\u001b[1;33m\u001b[0m\u001b[1;33m\u001b[0m\u001b[0m\n\u001b[0;32m    212\u001b[0m     \u001b[0mgood_df\u001b[0m\u001b[1;33m.\u001b[0m\u001b[0mto_hdf\u001b[0m\u001b[1;33m(\u001b[0m\u001b[0mos\u001b[0m\u001b[1;33m.\u001b[0m\u001b[0mpath\u001b[0m\u001b[1;33m.\u001b[0m\u001b[0mjoin\u001b[0m\u001b[1;33m(\u001b[0m\u001b[0mdata_folder\u001b[0m\u001b[1;33m,\u001b[0m \u001b[1;34mf'{DOI_conc}_DOI_selected_finaldf.h5'\u001b[0m\u001b[1;33m)\u001b[0m\u001b[1;33m,\u001b[0m \u001b[1;34m'finaldf'\u001b[0m\u001b[1;33m,\u001b[0m \u001b[0mformat\u001b[0m\u001b[1;33m=\u001b[0m\u001b[1;34m'table'\u001b[0m\u001b[1;33m,\u001b[0m \u001b[0mmode\u001b[0m\u001b[1;33m=\u001b[0m\u001b[1;34m'w'\u001b[0m\u001b[1;33m)\u001b[0m\u001b[1;33m\u001b[0m\u001b[1;33m\u001b[0m\u001b[0m\n\u001b[1;32m--> 213\u001b[1;33m     \u001b[0mgood_boutdf\u001b[0m \u001b[1;33m=\u001b[0m \u001b[0mpd\u001b[0m\u001b[1;33m.\u001b[0m\u001b[0mconcat\u001b[0m\u001b[1;33m(\u001b[0m\u001b[1;33m[\u001b[0m\u001b[0mpd\u001b[0m\u001b[1;33m.\u001b[0m\u001b[0mread_hdf\u001b[0m\u001b[1;33m(\u001b[0m\u001b[0mboutdf\u001b[0m\u001b[1;33m)\u001b[0m \u001b[1;32mfor\u001b[0m \u001b[0mboutdf\u001b[0m \u001b[1;32min\u001b[0m \u001b[0mgood_boutdfs\u001b[0m\u001b[1;33m]\u001b[0m\u001b[1;33m,\u001b[0m \u001b[0mignore_index\u001b[0m\u001b[1;33m=\u001b[0m\u001b[1;32mTrue\u001b[0m\u001b[1;33m)\u001b[0m\u001b[1;33m\u001b[0m\u001b[1;33m\u001b[0m\u001b[0m\n\u001b[0m\u001b[0;32m    214\u001b[0m     \u001b[0mgood_boutdf\u001b[0m \u001b[1;33m=\u001b[0m \u001b[0mgood_boutdf\u001b[0m\u001b[1;33m[\u001b[0m\u001b[0mgood_boutdf\u001b[0m\u001b[1;33m.\u001b[0m\u001b[0mfish_id\u001b[0m\u001b[1;33m.\u001b[0m\u001b[0misin\u001b[0m\u001b[1;33m(\u001b[0m\u001b[0mgood_fish\u001b[0m\u001b[1;33m)\u001b[0m\u001b[1;33m]\u001b[0m\u001b[1;33m\u001b[0m\u001b[1;33m\u001b[0m\u001b[0m\n\u001b[0;32m    215\u001b[0m     \u001b[0mgood_boutdf\u001b[0m\u001b[1;33m.\u001b[0m\u001b[0mto_hdf\u001b[0m\u001b[1;33m(\u001b[0m\u001b[0mos\u001b[0m\u001b[1;33m.\u001b[0m\u001b[0mpath\u001b[0m\u001b[1;33m.\u001b[0m\u001b[0mjoin\u001b[0m\u001b[1;33m(\u001b[0m\u001b[0mdata_folder\u001b[0m\u001b[1;33m,\u001b[0m \u001b[1;34mf'{DOI_conc}_DOI_selected_finalboutdf.h5'\u001b[0m\u001b[1;33m)\u001b[0m\u001b[1;33m,\u001b[0m \u001b[1;34m'finalboutdf'\u001b[0m\u001b[1;33m,\u001b[0m \u001b[0mformat\u001b[0m\u001b[1;33m=\u001b[0m\u001b[1;34m'table'\u001b[0m\u001b[1;33m,\u001b[0m \u001b[0mmode\u001b[0m\u001b[1;33m=\u001b[0m\u001b[1;34m'w'\u001b[0m\u001b[1;33m)\u001b[0m\u001b[1;33m\u001b[0m\u001b[1;33m\u001b[0m\u001b[0m\n",
      "\u001b[1;32m~\\DOI_behaviorAnalysis\\DOI_analysis_functions.py\u001b[0m in \u001b[0;36m<listcomp>\u001b[1;34m(.0)\u001b[0m\n\u001b[0;32m    211\u001b[0m     \u001b[0mgood_df\u001b[0m \u001b[1;33m=\u001b[0m \u001b[0mgood_df\u001b[0m\u001b[1;33m[\u001b[0m\u001b[0mgood_df\u001b[0m\u001b[1;33m.\u001b[0m\u001b[0mfish_id\u001b[0m\u001b[1;33m.\u001b[0m\u001b[0misin\u001b[0m\u001b[1;33m(\u001b[0m\u001b[0mgood_fish\u001b[0m\u001b[1;33m)\u001b[0m\u001b[1;33m]\u001b[0m\u001b[1;33m\u001b[0m\u001b[1;33m\u001b[0m\u001b[0m\n\u001b[0;32m    212\u001b[0m     \u001b[0mgood_df\u001b[0m\u001b[1;33m.\u001b[0m\u001b[0mto_hdf\u001b[0m\u001b[1;33m(\u001b[0m\u001b[0mos\u001b[0m\u001b[1;33m.\u001b[0m\u001b[0mpath\u001b[0m\u001b[1;33m.\u001b[0m\u001b[0mjoin\u001b[0m\u001b[1;33m(\u001b[0m\u001b[0mdata_folder\u001b[0m\u001b[1;33m,\u001b[0m \u001b[1;34mf'{DOI_conc}_DOI_selected_finaldf.h5'\u001b[0m\u001b[1;33m)\u001b[0m\u001b[1;33m,\u001b[0m \u001b[1;34m'finaldf'\u001b[0m\u001b[1;33m,\u001b[0m \u001b[0mformat\u001b[0m\u001b[1;33m=\u001b[0m\u001b[1;34m'table'\u001b[0m\u001b[1;33m,\u001b[0m \u001b[0mmode\u001b[0m\u001b[1;33m=\u001b[0m\u001b[1;34m'w'\u001b[0m\u001b[1;33m)\u001b[0m\u001b[1;33m\u001b[0m\u001b[1;33m\u001b[0m\u001b[0m\n\u001b[1;32m--> 213\u001b[1;33m     \u001b[0mgood_boutdf\u001b[0m \u001b[1;33m=\u001b[0m \u001b[0mpd\u001b[0m\u001b[1;33m.\u001b[0m\u001b[0mconcat\u001b[0m\u001b[1;33m(\u001b[0m\u001b[1;33m[\u001b[0m\u001b[0mpd\u001b[0m\u001b[1;33m.\u001b[0m\u001b[0mread_hdf\u001b[0m\u001b[1;33m(\u001b[0m\u001b[0mboutdf\u001b[0m\u001b[1;33m)\u001b[0m \u001b[1;32mfor\u001b[0m \u001b[0mboutdf\u001b[0m \u001b[1;32min\u001b[0m \u001b[0mgood_boutdfs\u001b[0m\u001b[1;33m]\u001b[0m\u001b[1;33m,\u001b[0m \u001b[0mignore_index\u001b[0m\u001b[1;33m=\u001b[0m\u001b[1;32mTrue\u001b[0m\u001b[1;33m)\u001b[0m\u001b[1;33m\u001b[0m\u001b[1;33m\u001b[0m\u001b[0m\n\u001b[0m\u001b[0;32m    214\u001b[0m     \u001b[0mgood_boutdf\u001b[0m \u001b[1;33m=\u001b[0m \u001b[0mgood_boutdf\u001b[0m\u001b[1;33m[\u001b[0m\u001b[0mgood_boutdf\u001b[0m\u001b[1;33m.\u001b[0m\u001b[0mfish_id\u001b[0m\u001b[1;33m.\u001b[0m\u001b[0misin\u001b[0m\u001b[1;33m(\u001b[0m\u001b[0mgood_fish\u001b[0m\u001b[1;33m)\u001b[0m\u001b[1;33m]\u001b[0m\u001b[1;33m\u001b[0m\u001b[1;33m\u001b[0m\u001b[0m\n\u001b[0;32m    215\u001b[0m     \u001b[0mgood_boutdf\u001b[0m\u001b[1;33m.\u001b[0m\u001b[0mto_hdf\u001b[0m\u001b[1;33m(\u001b[0m\u001b[0mos\u001b[0m\u001b[1;33m.\u001b[0m\u001b[0mpath\u001b[0m\u001b[1;33m.\u001b[0m\u001b[0mjoin\u001b[0m\u001b[1;33m(\u001b[0m\u001b[0mdata_folder\u001b[0m\u001b[1;33m,\u001b[0m \u001b[1;34mf'{DOI_conc}_DOI_selected_finalboutdf.h5'\u001b[0m\u001b[1;33m)\u001b[0m\u001b[1;33m,\u001b[0m \u001b[1;34m'finalboutdf'\u001b[0m\u001b[1;33m,\u001b[0m \u001b[0mformat\u001b[0m\u001b[1;33m=\u001b[0m\u001b[1;34m'table'\u001b[0m\u001b[1;33m,\u001b[0m \u001b[0mmode\u001b[0m\u001b[1;33m=\u001b[0m\u001b[1;34m'w'\u001b[0m\u001b[1;33m)\u001b[0m\u001b[1;33m\u001b[0m\u001b[1;33m\u001b[0m\u001b[0m\n",
      "\u001b[1;32mc:\\users\\naumann3\\.conda\\envs\\stytra_env\\lib\\site-packages\\pandas\\io\\pytables.py\u001b[0m in \u001b[0;36mread_hdf\u001b[1;34m(path_or_buf, key, mode, **kwargs)\u001b[0m\n\u001b[0;32m    382\u001b[0m             )\n\u001b[0;32m    383\u001b[0m \u001b[1;33m\u001b[0m\u001b[0m\n\u001b[1;32m--> 384\u001b[1;33m         \u001b[0mstore\u001b[0m \u001b[1;33m=\u001b[0m \u001b[0mHDFStore\u001b[0m\u001b[1;33m(\u001b[0m\u001b[0mpath_or_buf\u001b[0m\u001b[1;33m,\u001b[0m \u001b[0mmode\u001b[0m\u001b[1;33m=\u001b[0m\u001b[0mmode\u001b[0m\u001b[1;33m,\u001b[0m \u001b[1;33m**\u001b[0m\u001b[0mkwargs\u001b[0m\u001b[1;33m)\u001b[0m\u001b[1;33m\u001b[0m\u001b[1;33m\u001b[0m\u001b[0m\n\u001b[0m\u001b[0;32m    385\u001b[0m         \u001b[1;31m# can't auto open/close if we are using an iterator\u001b[0m\u001b[1;33m\u001b[0m\u001b[1;33m\u001b[0m\u001b[1;33m\u001b[0m\u001b[0m\n\u001b[0;32m    386\u001b[0m         \u001b[1;31m# so delegate to the iterator\u001b[0m\u001b[1;33m\u001b[0m\u001b[1;33m\u001b[0m\u001b[1;33m\u001b[0m\u001b[0m\n",
      "\u001b[1;32mc:\\users\\naumann3\\.conda\\envs\\stytra_env\\lib\\site-packages\\pandas\\io\\pytables.py\u001b[0m in \u001b[0;36m__init__\u001b[1;34m(self, path, mode, complevel, complib, fletcher32, **kwargs)\u001b[0m\n\u001b[0;32m    503\u001b[0m         \u001b[0mself\u001b[0m\u001b[1;33m.\u001b[0m\u001b[0m_fletcher32\u001b[0m \u001b[1;33m=\u001b[0m \u001b[0mfletcher32\u001b[0m\u001b[1;33m\u001b[0m\u001b[1;33m\u001b[0m\u001b[0m\n\u001b[0;32m    504\u001b[0m         \u001b[0mself\u001b[0m\u001b[1;33m.\u001b[0m\u001b[0m_filters\u001b[0m \u001b[1;33m=\u001b[0m \u001b[1;32mNone\u001b[0m\u001b[1;33m\u001b[0m\u001b[1;33m\u001b[0m\u001b[0m\n\u001b[1;32m--> 505\u001b[1;33m         \u001b[0mself\u001b[0m\u001b[1;33m.\u001b[0m\u001b[0mopen\u001b[0m\u001b[1;33m(\u001b[0m\u001b[0mmode\u001b[0m\u001b[1;33m=\u001b[0m\u001b[0mmode\u001b[0m\u001b[1;33m,\u001b[0m \u001b[1;33m**\u001b[0m\u001b[0mkwargs\u001b[0m\u001b[1;33m)\u001b[0m\u001b[1;33m\u001b[0m\u001b[1;33m\u001b[0m\u001b[0m\n\u001b[0m\u001b[0;32m    506\u001b[0m \u001b[1;33m\u001b[0m\u001b[0m\n\u001b[0;32m    507\u001b[0m     \u001b[1;32mdef\u001b[0m \u001b[0m__fspath__\u001b[0m\u001b[1;33m(\u001b[0m\u001b[0mself\u001b[0m\u001b[1;33m)\u001b[0m\u001b[1;33m:\u001b[0m\u001b[1;33m\u001b[0m\u001b[1;33m\u001b[0m\u001b[0m\n",
      "\u001b[1;32mc:\\users\\naumann3\\.conda\\envs\\stytra_env\\lib\\site-packages\\pandas\\io\\pytables.py\u001b[0m in \u001b[0;36mopen\u001b[1;34m(self, mode, **kwargs)\u001b[0m\n\u001b[0;32m    659\u001b[0m             \u001b[1;31m# is not part of IOError, make it one\u001b[0m\u001b[1;33m\u001b[0m\u001b[1;33m\u001b[0m\u001b[1;33m\u001b[0m\u001b[0m\n\u001b[0;32m    660\u001b[0m             \u001b[1;32mif\u001b[0m \u001b[0mself\u001b[0m\u001b[1;33m.\u001b[0m\u001b[0m_mode\u001b[0m \u001b[1;33m==\u001b[0m \u001b[1;34m\"r\"\u001b[0m \u001b[1;32mand\u001b[0m \u001b[1;34m\"Unable to open/create file\"\u001b[0m \u001b[1;32min\u001b[0m \u001b[0mstr\u001b[0m\u001b[1;33m(\u001b[0m\u001b[0me\u001b[0m\u001b[1;33m)\u001b[0m\u001b[1;33m:\u001b[0m\u001b[1;33m\u001b[0m\u001b[1;33m\u001b[0m\u001b[0m\n\u001b[1;32m--> 661\u001b[1;33m                 \u001b[1;32mraise\u001b[0m \u001b[0mIOError\u001b[0m\u001b[1;33m(\u001b[0m\u001b[0mstr\u001b[0m\u001b[1;33m(\u001b[0m\u001b[0me\u001b[0m\u001b[1;33m)\u001b[0m\u001b[1;33m)\u001b[0m\u001b[1;33m\u001b[0m\u001b[1;33m\u001b[0m\u001b[0m\n\u001b[0m\u001b[0;32m    662\u001b[0m             \u001b[1;32mraise\u001b[0m\u001b[1;33m\u001b[0m\u001b[1;33m\u001b[0m\u001b[0m\n\u001b[0;32m    663\u001b[0m \u001b[1;33m\u001b[0m\u001b[0m\n",
      "\u001b[1;31mOSError\u001b[0m: HDF5 error back trace\n\n  File \"..\\src\\H5F.c\", line 509, in H5Fopen\n    unable to open file\n  File \"..\\src\\H5Fint.c\", line 1652, in H5F_open\n    unable to read superblock\n  File \"..\\src\\H5Fsuper.c\", line 411, in H5F__super_read\n    file signature not found\n\nEnd of HDF5 error back trace\n\nUnable to open/create file 'D:\\behavior\\data\\EK_8dpf_DOI_50ugml_20230201\\._EK_8dpf_DOI_50ugml_20230201_finalboutdf.h5'"
     ]
    }
   ],
   "source": [
    "for _conc in DOI_concs:\n",
    "    try:\n",
    "        if all(np.isnan(list(selected_dict[_conc].values()))):\n",
    "            print('No fish for ' + _conc)\n",
    "            continue\n",
    "    except:\n",
    "        \n",
    "        good_fish = [_fish for _list in list(selected_dict[_conc].values()) if type(_list) == list for _fish in _list]\n",
    "        create_concdf(data_folder, _conc, good_fish)\n",
    "        print('concdf created for ' + _conc)"
   ]
  },
  {
   "cell_type": "code",
   "execution_count": null,
   "metadata": {},
   "outputs": [],
   "source": [
    "'''DOI_conc = '100ugml'\n",
    "good_fish = [114, 115, 116, 117, 119, 120, 185, 186, 188, 189, 190, 192, 193, 194, 195, 196, 237, 238, 239, 240, 241, 242, 243, \n",
    "             244] # for 100 ug/ml\n",
    "create_concdf(data_folder, DOI_conc, good_fish)\n",
    "\n",
    "DOI_conc = '75ugml'\n",
    "good_fish = [89, 90, 92, 93, 94, 95, 96, 105, 107, 108, 109, 111, 112, 181, 182, 183, 184, 225, 226, 227, 228] # for 75 ug/ml\n",
    "create_concdf(data_folder, DOI_conc, good_fish)\n",
    "\n",
    "DOI_conc = '50ugml'\n",
    "good_fish = [81, 82, 83, 85, 86, 87, 88, 161, 162, 163, 164, 165, 167, 168, 169, 170, 171, 172, 205, 206, 207] # for 50 ug/ml\n",
    "create_concdf(data_folder, DOI_conc, good_fish)\n",
    "\n",
    "DOI_conc = '25ugml'\n",
    "good_fish = [153, 155, 156, 157, 158, 159, 160, 173, 174, 175, 176, 178, 179, 180, 197, 198, 199, 200, 201, 203, 204, 245, 246, \n",
    "             247, 248] # for 25 ug/ml\n",
    "create_concdf(data_folder, DOI_conc, good_fish)\n",
    "\n",
    "DOI_conc = '10ugml'\n",
    "good_fish = [73, 74, 75, 77, 78, 79, 210, 211, 217, 218, 219, 220, 221, 222, 223, 224, 233, 234, 235, 252, 253, 254, 255, 256] # for 10 ug/ml\n",
    "create_concdf(data_folder, DOI_conc, good_fish)\n",
    "\n",
    "DOI_conc = '0ugml'\n",
    "good_fish = [66, 67, 68, 69, 70, 71, 72, 122, 123, 124, 125, 126, 127, 128, 229, 230, 231, 232, 257, 258, 259, 261, 262, 264] # for 0 ug/ml (egg water)\n",
    "create_concdf(data_folder, DOI_conc, good_fish)'''"
   ]
  },
  {
   "cell_type": "markdown",
   "metadata": {},
   "source": [
    "## Within concentration data analysis"
   ]
  },
  {
   "cell_type": "code",
   "execution_count": null,
   "metadata": {},
   "outputs": [],
   "source": [
    "DOI_conc = '50ugml'"
   ]
  },
  {
   "cell_type": "code",
   "execution_count": null,
   "metadata": {},
   "outputs": [],
   "source": [
    "# df_path = os.path.join(data_folder, f'{DOI_conc}_DOI_selected_finaldf.h5')\n",
    "# df = pd.read_hdf(df_path)\n",
    "bout_path = os.path.join(data_folder, f'{DOI_conc}_DOI_selected_finalboutdf.h5')\n",
    "boutdf = pd.read_hdf(bout_path)"
   ]
  },
  {
   "cell_type": "code",
   "execution_count": null,
   "metadata": {},
   "outputs": [],
   "source": [
    "lineplot_perconc(data_folder, boutdf, measure='distance')"
   ]
  },
  {
   "cell_type": "code",
   "execution_count": null,
   "metadata": {},
   "outputs": [],
   "source": [
    "lineplot_perconc_baselinenorm(data_folder, boutdf, measure='distance')"
   ]
  },
  {
   "cell_type": "code",
   "execution_count": null,
   "metadata": {},
   "outputs": [],
   "source": [
    "lineplot_perconc(data_folder, boutdf, measure='dist_from_center')"
   ]
  },
  {
   "cell_type": "code",
   "execution_count": null,
   "metadata": {},
   "outputs": [],
   "source": [
    "lineplot_perconc_baselinenorm(data_folder, boutdf, measure='dist_from_center')"
   ]
  },
  {
   "cell_type": "code",
   "execution_count": null,
   "metadata": {
    "scrolled": false
   },
   "outputs": [],
   "source": [
    "histplot_perconc(data_folder, boutdf, 'bout_angle')"
   ]
  },
  {
   "cell_type": "code",
   "execution_count": null,
   "metadata": {},
   "outputs": [],
   "source": [
    "histplot_perconc(data_folder, boutdf, 'bout_duration')"
   ]
  },
  {
   "cell_type": "markdown",
   "metadata": {},
   "source": [
    "## Between concentration data analysis"
   ]
  },
  {
   "cell_type": "code",
   "execution_count": null,
   "metadata": {},
   "outputs": [],
   "source": [
    "create_alldf(data_folder)"
   ]
  },
  {
   "cell_type": "code",
   "execution_count": null,
   "metadata": {},
   "outputs": [],
   "source": [
    "alldf = pd.read_hdf(os.path.join(data_folder, 'alldf.h5'))"
   ]
  },
  {
   "cell_type": "code",
   "execution_count": null,
   "metadata": {},
   "outputs": [],
   "source": [
    "alldf"
   ]
  },
  {
   "cell_type": "code",
   "execution_count": null,
   "metadata": {},
   "outputs": [],
   "source": [
    "plot_all_distovertime(data_folder, alldf)"
   ]
  },
  {
   "cell_type": "code",
   "execution_count": null,
   "metadata": {},
   "outputs": [],
   "source": [
    "bin_sums = plot_all_distovertime_normalized(data_folder, alldf)"
   ]
  },
  {
   "cell_type": "code",
   "execution_count": null,
   "metadata": {},
   "outputs": [],
   "source": [
    "labels = [int(i) for i in alldf.concentration.unique()]\n",
    "labels.sort()\n",
    "bin_anova(bin_sums, labels)"
   ]
  },
  {
   "cell_type": "code",
   "execution_count": null,
   "metadata": {},
   "outputs": [],
   "source": [
    "plt_avgperconc(data_folder, alldf, 'dist')"
   ]
  },
  {
   "cell_type": "code",
   "execution_count": null,
   "metadata": {},
   "outputs": [],
   "source": [
    "plt_avgperconc(data_folder, alldf, 'boutcount')"
   ]
  },
  {
   "cell_type": "code",
   "execution_count": null,
   "metadata": {},
   "outputs": [],
   "source": [
    "plt_avgperconc(data_folder, alldf, 'thigmotaxis_dist')"
   ]
  },
  {
   "cell_type": "code",
   "execution_count": null,
   "metadata": {},
   "outputs": [],
   "source": [
    "plt_avgperconc(data_folder, alldf, 'thigmotaxis_time')"
   ]
  },
  {
   "cell_type": "code",
   "execution_count": null,
   "metadata": {},
   "outputs": [],
   "source": []
  },
  {
   "cell_type": "code",
   "execution_count": null,
   "metadata": {},
   "outputs": [],
   "source": []
  },
  {
   "cell_type": "code",
   "execution_count": null,
   "metadata": {},
   "outputs": [],
   "source": [
    "stimulus = 'left'\n",
    "stimdf = dataframe[dataframe.stim_name==stimulus]\n",
    "hist, std, bins = Hist(dataframe, boutframe, stims=[stimulus])\n",
    "\n",
    "fig, ax = plt.subplots(1,4, figsize=(16,6))\n",
    "\n",
    "ax[0].set_title(f'Cumulative Theta {stimulus}')\n",
    "ax[1].set_title(f'Cumulative Theta {stimulus}')\n",
    "\n",
    "for stim_ind in stimdf.stim_index.unique():\n",
    "    ind_df = stimdf[stimdf.stim_index==stim_ind]\n",
    "    try:\n",
    "        ax[0].plot(ind_df.stim_time.values, ind_df.cum_theta.values)\n",
    "    except:\n",
    "        pass\n",
    "\n",
    "try:\n",
    "    ax[1].plot(bins[1:], gaussian_filter(hist, sigma=1))\n",
    "except:\n",
    "    pass\n",
    "\n",
    "stimulus = 'right'\n",
    "stimdf = dataframe[dataframe.stim_name==stimulus]\n",
    "hist, std, bins = Hist(dataframe, boutframe, stims=[stimulus])\n",
    "\n",
    "for stim_ind in stimdf.stim_index.unique():\n",
    "    ind_df = stimdf[stimdf.stim_index==stim_ind]\n",
    "    try:\n",
    "        ax[2].plot(ind_df.stim_time.values, ind_df.cum_theta.values)\n",
    "    except:\n",
    "        pass\n",
    "\n",
    "try:\n",
    "    ax[3].plot(bins[1:], gaussian_filter(hist, sigma=1))\n",
    "except:\n",
    "    pass\n",
    "\n",
    "ax[2].set_title(f'Bout Frequency {stimulus}')\n",
    "ax[3].set_title(f'Bout Frequency {stimulus}')\n",
    "\n",
    "ax[0].set_xlim(0,15)\n",
    "ax[0].set_ylim(-10,10)\n",
    "ax[2].set_xlim(0,15)\n",
    "ax[2].set_ylim(-10,10)\n",
    "\n",
    "ax[1].set_ylim(-5,100)\n",
    "ax[3].set_ylim(-5,100)\n",
    "\n",
    "fig.suptitle(f'fish: {3},  rig: {5}')\n",
    "plt.show()"
   ]
  },
  {
   "cell_type": "code",
   "execution_count": null,
   "metadata": {},
   "outputs": [],
   "source": []
  }
 ],
 "metadata": {
  "kernelspec": {
   "display_name": "Python 3 (ipykernel)",
   "language": "python",
   "name": "python3"
  },
  "language_info": {
   "codemirror_mode": {
    "name": "ipython",
    "version": 3
   },
   "file_extension": ".py",
   "mimetype": "text/x-python",
   "name": "python",
   "nbconvert_exporter": "python",
   "pygments_lexer": "ipython3",
   "version": "3.7.6"
  }
 },
 "nbformat": 4,
 "nbformat_minor": 4
}
