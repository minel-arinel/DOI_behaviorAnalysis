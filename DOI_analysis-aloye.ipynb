{
 "cells": [
  {
   "cell_type": "code",
   "execution_count": 1,
   "metadata": {},
   "outputs": [
    {
     "name": "stdout",
     "output_type": "stream",
     "text": [
      "no caiman available\n",
      "no pandastim available\n"
     ]
    }
   ],
   "source": [
    "%reload_ext autoreload\n",
    "%autoreload 2\n",
    "from DOI_analysis_functions import *\n",
    "from OMR_Fish import omrFish"
   ]
  },
  {
   "cell_type": "code",
   "execution_count": 2,
   "metadata": {},
   "outputs": [],
   "source": [
    "pd.set_option('display.max_columns', None)"
   ]
  },
  {
   "cell_type": "markdown",
   "metadata": {},
   "source": [
    "### Data Folder for Lab Computer"
   ]
  },
  {
   "cell_type": "code",
   "execution_count": null,
   "metadata": {},
   "outputs": [],
   "source": [
    "# data_folder = r\"D:\\behavior\\data\"\n",
    "# exp_folder = \"EK_6dpf_DOI_0ugml_20230206\""
   ]
  },
  {
   "cell_type": "markdown",
   "metadata": {},
   "source": [
    "### Data Folder for Aloye's Personal Computer"
   ]
  },
  {
   "cell_type": "code",
   "execution_count": 55,
   "metadata": {},
   "outputs": [],
   "source": [
    "data_folder = \"/Users/aoshotse/NAUMANN_LAB/data\"\n",
    "exp_folder = \"EK_7dpf_DOI_0ugml_20230214\""
   ]
  },
  {
   "cell_type": "markdown",
   "metadata": {},
   "source": [
    "## For new experiments"
   ]
  },
  {
   "cell_type": "code",
   "execution_count": 28,
   "metadata": {},
   "outputs": [],
   "source": [
    "# Set the folder directory to where the rig files are located\n",
    "parent_folder = os.path.join(data_folder, exp_folder)"
   ]
  },
  {
   "cell_type": "code",
   "execution_count": 5,
   "metadata": {
    "scrolled": false
   },
   "outputs": [
    {
     "name": "stdout",
     "output_type": "stream",
     "text": [
      "/Users/aoshotse/NAUMANN_LAB/data/EK_7dpf_DOI_0ugml_20230207/448/baseline/fish448_7dpf_2023-02-07 14.14.11.169998_main_df.h5\n"
     ]
    },
    {
     "name": "stderr",
     "output_type": "stream",
     "text": [
      "/opt/anaconda3/lib/python3.9/site-packages/tables/file.py:426: UserWarning: a closed node found in the registry: ``/main_df/meta/values_block_1/meta/_i_table``\n",
      "  warnings.warn(\"a closed node found in the registry: \"\n",
      "Fish trials:  34%|███▍      | 14/41 [00:00<00:00, 137.91it/s]"
     ]
    },
    {
     "name": "stdout",
     "output_type": "stream",
     "text": [
      "no caiman available\n",
      "no pandastim available\n"
     ]
    },
    {
     "name": "stderr",
     "output_type": "stream",
     "text": [
      "\r",
      "Fish trials:  85%|████████▌ | 35/41 [00:00<00:00, 152.27it/s]\r",
      "Fish trials: 100%|██████████| 41/41 [00:00<00:00, 108.06it/s]\n"
     ]
    },
    {
     "name": "stdout",
     "output_type": "stream",
     "text": [
      "no caiman available\n",
      "no pandastim available\n",
      "/Users/aoshotse/NAUMANN_LAB/data/EK_7dpf_DOI_0ugml_20230207/448/drugtreated/fish448_7dpf_2023-02-07 14.56.30.928269_main_df.h5\n"
     ]
    },
    {
     "name": "stderr",
     "output_type": "stream",
     "text": [
      "/opt/anaconda3/lib/python3.9/site-packages/tables/file.py:426: UserWarning: a closed node found in the registry: ``/main_df/meta/values_block_1/meta/_i_table``\n",
      "  warnings.warn(\"a closed node found in the registry: \"\n"
     ]
    },
    {
     "name": "stdout",
     "output_type": "stream",
     "text": [
      "no caiman available\n",
      "no pandastim available\n"
     ]
    },
    {
     "name": "stderr",
     "output_type": "stream",
     "text": [
      "Fish trials: 100%|██████████| 121/121 [00:00<00:00, 188.94it/s]\n"
     ]
    },
    {
     "name": "stdout",
     "output_type": "stream",
     "text": [
      "no caiman available\n",
      "no pandastim available\n",
      "/Users/aoshotse/NAUMANN_LAB/data/EK_7dpf_DOI_0ugml_20230207/446/baseline/fish446_7dpf_2023-02-07 14.10.26.185914_main_df.h5\n"
     ]
    },
    {
     "name": "stderr",
     "output_type": "stream",
     "text": [
      "/opt/anaconda3/lib/python3.9/site-packages/tables/file.py:426: UserWarning: a closed node found in the registry: ``/main_df/meta/values_block_1/meta/_i_table``\n",
      "  warnings.warn(\"a closed node found in the registry: \"\n"
     ]
    },
    {
     "name": "stdout",
     "output_type": "stream",
     "text": [
      "no caiman available\n",
      "no pandastim available\n"
     ]
    },
    {
     "name": "stderr",
     "output_type": "stream",
     "text": [
      "Fish trials: 100%|██████████| 41/41 [00:00<00:00, 172.92it/s]\n"
     ]
    },
    {
     "name": "stdout",
     "output_type": "stream",
     "text": [
      "no caiman available\n",
      "no pandastim available\n",
      "/Users/aoshotse/NAUMANN_LAB/data/EK_7dpf_DOI_0ugml_20230207/446/drugtreated/fish446_7dpf_2023-02-07 14.53.34.679166_main_df.h5\n"
     ]
    },
    {
     "name": "stderr",
     "output_type": "stream",
     "text": [
      "/opt/anaconda3/lib/python3.9/site-packages/tables/file.py:426: UserWarning: a closed node found in the registry: ``/main_df/meta/values_block_1/meta/_i_table``\n",
      "  warnings.warn(\"a closed node found in the registry: \"\n",
      "Fish trials:   2%|▏         | 2/121 [00:00<00:08, 14.57it/s]"
     ]
    },
    {
     "name": "stdout",
     "output_type": "stream",
     "text": [
      "no caiman available\n",
      "no pandastim available\n"
     ]
    },
    {
     "name": "stderr",
     "output_type": "stream",
     "text": [
      "Fish trials: 100%|██████████| 121/121 [00:01<00:00, 88.42it/s]\n"
     ]
    },
    {
     "name": "stdout",
     "output_type": "stream",
     "text": [
      "no caiman available\n",
      "no pandastim available\n",
      "/Users/aoshotse/NAUMANN_LAB/data/EK_7dpf_DOI_0ugml_20230207\n"
     ]
    },
    {
     "name": "stderr",
     "output_type": "stream",
     "text": [
      "/opt/anaconda3/lib/python3.9/site-packages/tables/file.py:426: UserWarning: a closed node found in the registry: ``/finaldf/meta/values_block_1/meta/_i_table``\n",
      "  warnings.warn(\"a closed node found in the registry: \"\n"
     ]
    },
    {
     "name": "stdout",
     "output_type": "stream",
     "text": [
      "Experiment dataframe is saved\n"
     ]
    }
   ],
   "source": [
    "create_newdf(parent_folder)"
   ]
  },
  {
   "cell_type": "code",
   "execution_count": 6,
   "metadata": {
    "scrolled": true
   },
   "outputs": [
    {
     "name": "stdout",
     "output_type": "stream",
     "text": [
      "Bouts done for fish 448, condition baseline\n",
      "Bouts done for fish 448, condition drugtreated\n",
      "Bouts done for fish 446, condition baseline\n",
      "Bouts done for fish 446, condition drugtreated\n",
      "Bout dataframe is saved\n"
     ]
    }
   ],
   "source": [
    "create_newboutdf(parent_folder)"
   ]
  },
  {
   "cell_type": "markdown",
   "metadata": {},
   "source": [
    "## Eliminate bad fish"
   ]
  },
  {
   "cell_type": "code",
   "execution_count": 50,
   "metadata": {},
   "outputs": [],
   "source": [
    "parent_folder = os.path.join(data_folder, exp_folder)"
   ]
  },
  {
   "cell_type": "code",
   "execution_count": 51,
   "metadata": {},
   "outputs": [],
   "source": [
    "# Read the exp dataframes\n",
    "\"\"\"rewrite this code to look into experimental folder\"\"\"\n",
    "lvl = 'exp'\n",
    "conc = parent_folder[parent_folder.rfind('DOI')+4 : parent_folder.rfind('ugml')+4]\n",
    "age = int(parent_folder[:parent_folder.rfind('dpf')][parent_folder[:parent_folder.rfind('dpf')].rfind('_')+1:])\n",
    "df_path = os.path.join(parent_folder, parent_folder[parent_folder.rfind('\\\\')+1:] + '_finaldf.h5')\n",
    "df = pd.read_hdf(df_path)\n",
    "bout_path = os.path.join(parent_folder, parent_folder[parent_folder.rfind('\\\\')+1:] + '_finalboutdf.h5')\n",
    "boutdf = pd.read_hdf(bout_path)"
   ]
  },
  {
   "cell_type": "code",
   "execution_count": 52,
   "metadata": {},
   "outputs": [
    {
     "data": {
      "text/html": [
       "<div>\n",
       "<style scoped>\n",
       "    .dataframe tbody tr th:only-of-type {\n",
       "        vertical-align: middle;\n",
       "    }\n",
       "\n",
       "    .dataframe tbody tr th {\n",
       "        vertical-align: top;\n",
       "    }\n",
       "\n",
       "    .dataframe thead th {\n",
       "        text-align: right;\n",
       "    }\n",
       "</style>\n",
       "<table border=\"1\" class=\"dataframe\">\n",
       "  <thead>\n",
       "    <tr style=\"text-align: right;\">\n",
       "      <th></th>\n",
       "      <th>f0_x</th>\n",
       "      <th>f0_vx</th>\n",
       "      <th>f0_y</th>\n",
       "      <th>f0_vy</th>\n",
       "      <th>f0_theta</th>\n",
       "      <th>f0_vtheta</th>\n",
       "      <th>f0_theta_00</th>\n",
       "      <th>f0_theta_01</th>\n",
       "      <th>f0_theta_02</th>\n",
       "      <th>f0_theta_03</th>\n",
       "      <th>biggest_area</th>\n",
       "      <th>t</th>\n",
       "      <th>stim_index</th>\n",
       "      <th>motion</th>\n",
       "      <th>stim_type</th>\n",
       "      <th>angle</th>\n",
       "      <th>stim_name</th>\n",
       "      <th>stat_time</th>\n",
       "      <th>duration</th>\n",
       "      <th>fish_id</th>\n",
       "      <th>bout</th>\n",
       "      <th>stim_time</th>\n",
       "      <th>condition</th>\n",
       "    </tr>\n",
       "  </thead>\n",
       "  <tbody>\n",
       "    <tr>\n",
       "      <th>0</th>\n",
       "      <td>348.290405</td>\n",
       "      <td>0.019015</td>\n",
       "      <td>482.248901</td>\n",
       "      <td>-0.000565</td>\n",
       "      <td>0.155673</td>\n",
       "      <td>0.000361</td>\n",
       "      <td>0.004077</td>\n",
       "      <td>0.005346</td>\n",
       "      <td>-0.023547</td>\n",
       "      <td>-0.042433</td>\n",
       "      <td>1375.0</td>\n",
       "      <td>0.005984</td>\n",
       "      <td>0.0</td>\n",
       "      <td>1.0</td>\n",
       "      <td>s</td>\n",
       "      <td>0</td>\n",
       "      <td>habituation</td>\n",
       "      <td>0</td>\n",
       "      <td>300.0</td>\n",
       "      <td>448</td>\n",
       "      <td>NaN</td>\n",
       "      <td>0.000000</td>\n",
       "      <td>baseline</td>\n",
       "    </tr>\n",
       "    <tr>\n",
       "      <th>1</th>\n",
       "      <td>348.437866</td>\n",
       "      <td>0.080888</td>\n",
       "      <td>482.243713</td>\n",
       "      <td>-0.002798</td>\n",
       "      <td>0.156970</td>\n",
       "      <td>0.000812</td>\n",
       "      <td>0.000351</td>\n",
       "      <td>0.002003</td>\n",
       "      <td>-0.020598</td>\n",
       "      <td>-0.049584</td>\n",
       "      <td>1450.0</td>\n",
       "      <td>0.011966</td>\n",
       "      <td>0.0</td>\n",
       "      <td>1.0</td>\n",
       "      <td>s</td>\n",
       "      <td>0</td>\n",
       "      <td>habituation</td>\n",
       "      <td>0</td>\n",
       "      <td>300.0</td>\n",
       "      <td>448</td>\n",
       "      <td>NaN</td>\n",
       "      <td>0.006670</td>\n",
       "      <td>baseline</td>\n",
       "    </tr>\n",
       "    <tr>\n",
       "      <th>2</th>\n",
       "      <td>348.441040</td>\n",
       "      <td>0.043451</td>\n",
       "      <td>482.224396</td>\n",
       "      <td>-0.010752</td>\n",
       "      <td>0.157614</td>\n",
       "      <td>0.000731</td>\n",
       "      <td>-0.000003</td>\n",
       "      <td>0.004659</td>\n",
       "      <td>-0.021712</td>\n",
       "      <td>-0.051407</td>\n",
       "      <td>1375.0</td>\n",
       "      <td>0.018948</td>\n",
       "      <td>0.0</td>\n",
       "      <td>1.0</td>\n",
       "      <td>s</td>\n",
       "      <td>0</td>\n",
       "      <td>habituation</td>\n",
       "      <td>0</td>\n",
       "      <td>300.0</td>\n",
       "      <td>448</td>\n",
       "      <td>NaN</td>\n",
       "      <td>0.013340</td>\n",
       "      <td>baseline</td>\n",
       "    </tr>\n",
       "    <tr>\n",
       "      <th>3</th>\n",
       "      <td>348.580200</td>\n",
       "      <td>0.089554</td>\n",
       "      <td>482.232300</td>\n",
       "      <td>-0.001763</td>\n",
       "      <td>0.154501</td>\n",
       "      <td>-0.001121</td>\n",
       "      <td>0.010652</td>\n",
       "      <td>0.006868</td>\n",
       "      <td>-0.017831</td>\n",
       "      <td>-0.049585</td>\n",
       "      <td>1450.0</td>\n",
       "      <td>0.024932</td>\n",
       "      <td>0.0</td>\n",
       "      <td>1.0</td>\n",
       "      <td>s</td>\n",
       "      <td>0</td>\n",
       "      <td>habituation</td>\n",
       "      <td>0</td>\n",
       "      <td>300.0</td>\n",
       "      <td>448</td>\n",
       "      <td>NaN</td>\n",
       "      <td>0.020010</td>\n",
       "      <td>baseline</td>\n",
       "    </tr>\n",
       "    <tr>\n",
       "      <th>4</th>\n",
       "      <td>348.493011</td>\n",
       "      <td>0.004416</td>\n",
       "      <td>482.208740</td>\n",
       "      <td>-0.012270</td>\n",
       "      <td>0.158272</td>\n",
       "      <td>0.001236</td>\n",
       "      <td>-0.002898</td>\n",
       "      <td>0.000579</td>\n",
       "      <td>-0.025525</td>\n",
       "      <td>-0.054586</td>\n",
       "      <td>1375.0</td>\n",
       "      <td>0.031914</td>\n",
       "      <td>0.0</td>\n",
       "      <td>1.0</td>\n",
       "      <td>s</td>\n",
       "      <td>0</td>\n",
       "      <td>habituation</td>\n",
       "      <td>0</td>\n",
       "      <td>300.0</td>\n",
       "      <td>448</td>\n",
       "      <td>NaN</td>\n",
       "      <td>0.026680</td>\n",
       "      <td>baseline</td>\n",
       "    </tr>\n",
       "    <tr>\n",
       "      <th>...</th>\n",
       "      <td>...</td>\n",
       "      <td>...</td>\n",
       "      <td>...</td>\n",
       "      <td>...</td>\n",
       "      <td>...</td>\n",
       "      <td>...</td>\n",
       "      <td>...</td>\n",
       "      <td>...</td>\n",
       "      <td>...</td>\n",
       "      <td>...</td>\n",
       "      <td>...</td>\n",
       "      <td>...</td>\n",
       "      <td>...</td>\n",
       "      <td>...</td>\n",
       "      <td>...</td>\n",
       "      <td>...</td>\n",
       "      <td>...</td>\n",
       "      <td>...</td>\n",
       "      <td>...</td>\n",
       "      <td>...</td>\n",
       "      <td>...</td>\n",
       "      <td>...</td>\n",
       "      <td>...</td>\n",
       "    </tr>\n",
       "    <tr>\n",
       "      <th>1011435</th>\n",
       "      <td>581.124756</td>\n",
       "      <td>-0.044476</td>\n",
       "      <td>61.770332</td>\n",
       "      <td>0.005743</td>\n",
       "      <td>-0.021516</td>\n",
       "      <td>-0.000800</td>\n",
       "      <td>0.001323</td>\n",
       "      <td>0.025611</td>\n",
       "      <td>0.056372</td>\n",
       "      <td>0.083125</td>\n",
       "      <td>3275.0</td>\n",
       "      <td>3239.351318</td>\n",
       "      <td>98.0</td>\n",
       "      <td>1.0</td>\n",
       "      <td>s</td>\n",
       "      <td>0</td>\n",
       "      <td>backward</td>\n",
       "      <td>3</td>\n",
       "      <td>33.0</td>\n",
       "      <td>446</td>\n",
       "      <td>NaN</td>\n",
       "      <td>32.971046</td>\n",
       "      <td>drugtreated</td>\n",
       "    </tr>\n",
       "    <tr>\n",
       "      <th>1011436</th>\n",
       "      <td>580.985474</td>\n",
       "      <td>-0.090155</td>\n",
       "      <td>61.777908</td>\n",
       "      <td>0.006628</td>\n",
       "      <td>-0.021573</td>\n",
       "      <td>-0.000442</td>\n",
       "      <td>-0.001114</td>\n",
       "      <td>0.025822</td>\n",
       "      <td>0.054915</td>\n",
       "      <td>0.084463</td>\n",
       "      <td>3275.0</td>\n",
       "      <td>3239.357178</td>\n",
       "      <td>98.0</td>\n",
       "      <td>1.0</td>\n",
       "      <td>s</td>\n",
       "      <td>0</td>\n",
       "      <td>backward</td>\n",
       "      <td>3</td>\n",
       "      <td>33.0</td>\n",
       "      <td>446</td>\n",
       "      <td>NaN</td>\n",
       "      <td>32.977735</td>\n",
       "      <td>drugtreated</td>\n",
       "    </tr>\n",
       "    <tr>\n",
       "      <th>1011437</th>\n",
       "      <td>581.395874</td>\n",
       "      <td>0.150945</td>\n",
       "      <td>61.752377</td>\n",
       "      <td>-0.008870</td>\n",
       "      <td>-0.021783</td>\n",
       "      <td>-0.000330</td>\n",
       "      <td>0.005207</td>\n",
       "      <td>0.027280</td>\n",
       "      <td>0.051578</td>\n",
       "      <td>0.084823</td>\n",
       "      <td>2000.0</td>\n",
       "      <td>3239.364258</td>\n",
       "      <td>98.0</td>\n",
       "      <td>1.0</td>\n",
       "      <td>s</td>\n",
       "      <td>0</td>\n",
       "      <td>backward</td>\n",
       "      <td>3</td>\n",
       "      <td>33.0</td>\n",
       "      <td>446</td>\n",
       "      <td>NaN</td>\n",
       "      <td>32.984424</td>\n",
       "      <td>drugtreated</td>\n",
       "    </tr>\n",
       "    <tr>\n",
       "      <th>1011438</th>\n",
       "      <td>581.546814</td>\n",
       "      <td>0.150945</td>\n",
       "      <td>61.743507</td>\n",
       "      <td>-0.008870</td>\n",
       "      <td>-0.022114</td>\n",
       "      <td>-0.000330</td>\n",
       "      <td>0.005207</td>\n",
       "      <td>0.027280</td>\n",
       "      <td>0.051578</td>\n",
       "      <td>0.084823</td>\n",
       "      <td>1950.0</td>\n",
       "      <td>3239.371338</td>\n",
       "      <td>98.0</td>\n",
       "      <td>1.0</td>\n",
       "      <td>s</td>\n",
       "      <td>0</td>\n",
       "      <td>backward</td>\n",
       "      <td>3</td>\n",
       "      <td>33.0</td>\n",
       "      <td>446</td>\n",
       "      <td>NaN</td>\n",
       "      <td>32.991114</td>\n",
       "      <td>drugtreated</td>\n",
       "    </tr>\n",
       "    <tr>\n",
       "      <th>1011439</th>\n",
       "      <td>581.649841</td>\n",
       "      <td>0.135293</td>\n",
       "      <td>61.735077</td>\n",
       "      <td>-0.008727</td>\n",
       "      <td>-0.022105</td>\n",
       "      <td>-0.000219</td>\n",
       "      <td>0.007924</td>\n",
       "      <td>0.024905</td>\n",
       "      <td>0.053061</td>\n",
       "      <td>0.087180</td>\n",
       "      <td>2050.0</td>\n",
       "      <td>3239.377197</td>\n",
       "      <td>98.0</td>\n",
       "      <td>1.0</td>\n",
       "      <td>s</td>\n",
       "      <td>0</td>\n",
       "      <td>backward</td>\n",
       "      <td>3</td>\n",
       "      <td>33.0</td>\n",
       "      <td>446</td>\n",
       "      <td>NaN</td>\n",
       "      <td>32.997803</td>\n",
       "      <td>drugtreated</td>\n",
       "    </tr>\n",
       "  </tbody>\n",
       "</table>\n",
       "<p>1011440 rows × 23 columns</p>\n",
       "</div>"
      ],
      "text/plain": [
       "               f0_x     f0_vx        f0_y     f0_vy  f0_theta  f0_vtheta  \\\n",
       "0        348.290405  0.019015  482.248901 -0.000565  0.155673   0.000361   \n",
       "1        348.437866  0.080888  482.243713 -0.002798  0.156970   0.000812   \n",
       "2        348.441040  0.043451  482.224396 -0.010752  0.157614   0.000731   \n",
       "3        348.580200  0.089554  482.232300 -0.001763  0.154501  -0.001121   \n",
       "4        348.493011  0.004416  482.208740 -0.012270  0.158272   0.001236   \n",
       "...             ...       ...         ...       ...       ...        ...   \n",
       "1011435  581.124756 -0.044476   61.770332  0.005743 -0.021516  -0.000800   \n",
       "1011436  580.985474 -0.090155   61.777908  0.006628 -0.021573  -0.000442   \n",
       "1011437  581.395874  0.150945   61.752377 -0.008870 -0.021783  -0.000330   \n",
       "1011438  581.546814  0.150945   61.743507 -0.008870 -0.022114  -0.000330   \n",
       "1011439  581.649841  0.135293   61.735077 -0.008727 -0.022105  -0.000219   \n",
       "\n",
       "         f0_theta_00  f0_theta_01  f0_theta_02  f0_theta_03  biggest_area  \\\n",
       "0           0.004077     0.005346    -0.023547    -0.042433        1375.0   \n",
       "1           0.000351     0.002003    -0.020598    -0.049584        1450.0   \n",
       "2          -0.000003     0.004659    -0.021712    -0.051407        1375.0   \n",
       "3           0.010652     0.006868    -0.017831    -0.049585        1450.0   \n",
       "4          -0.002898     0.000579    -0.025525    -0.054586        1375.0   \n",
       "...              ...          ...          ...          ...           ...   \n",
       "1011435     0.001323     0.025611     0.056372     0.083125        3275.0   \n",
       "1011436    -0.001114     0.025822     0.054915     0.084463        3275.0   \n",
       "1011437     0.005207     0.027280     0.051578     0.084823        2000.0   \n",
       "1011438     0.005207     0.027280     0.051578     0.084823        1950.0   \n",
       "1011439     0.007924     0.024905     0.053061     0.087180        2050.0   \n",
       "\n",
       "                   t  stim_index  motion stim_type  angle    stim_name  \\\n",
       "0           0.005984         0.0     1.0         s      0  habituation   \n",
       "1           0.011966         0.0     1.0         s      0  habituation   \n",
       "2           0.018948         0.0     1.0         s      0  habituation   \n",
       "3           0.024932         0.0     1.0         s      0  habituation   \n",
       "4           0.031914         0.0     1.0         s      0  habituation   \n",
       "...              ...         ...     ...       ...    ...          ...   \n",
       "1011435  3239.351318        98.0     1.0         s      0     backward   \n",
       "1011436  3239.357178        98.0     1.0         s      0     backward   \n",
       "1011437  3239.364258        98.0     1.0         s      0     backward   \n",
       "1011438  3239.371338        98.0     1.0         s      0     backward   \n",
       "1011439  3239.377197        98.0     1.0         s      0     backward   \n",
       "\n",
       "         stat_time  duration  fish_id  bout  stim_time    condition  \n",
       "0                0     300.0      448   NaN   0.000000     baseline  \n",
       "1                0     300.0      448   NaN   0.006670     baseline  \n",
       "2                0     300.0      448   NaN   0.013340     baseline  \n",
       "3                0     300.0      448   NaN   0.020010     baseline  \n",
       "4                0     300.0      448   NaN   0.026680     baseline  \n",
       "...            ...       ...      ...   ...        ...          ...  \n",
       "1011435          3      33.0      446   NaN  32.971046  drugtreated  \n",
       "1011436          3      33.0      446   NaN  32.977735  drugtreated  \n",
       "1011437          3      33.0      446   NaN  32.984424  drugtreated  \n",
       "1011438          3      33.0      446   NaN  32.991114  drugtreated  \n",
       "1011439          3      33.0      446   NaN  32.997803  drugtreated  \n",
       "\n",
       "[1011440 rows x 23 columns]"
      ]
     },
     "execution_count": 52,
     "metadata": {},
     "output_type": "execute_result"
    }
   ],
   "source": [
    "df"
   ]
  },
  {
   "cell_type": "code",
   "execution_count": 53,
   "metadata": {},
   "outputs": [
    {
     "data": {
      "text/html": [
       "<div>\n",
       "<style scoped>\n",
       "    .dataframe tbody tr th:only-of-type {\n",
       "        vertical-align: middle;\n",
       "    }\n",
       "\n",
       "    .dataframe tbody tr th {\n",
       "        vertical-align: top;\n",
       "    }\n",
       "\n",
       "    .dataframe thead tr th {\n",
       "        text-align: left;\n",
       "    }\n",
       "</style>\n",
       "<table border=\"1\" class=\"dataframe\">\n",
       "  <thead>\n",
       "    <tr>\n",
       "      <th></th>\n",
       "      <th colspan=\"2\" halign=\"left\">446</th>\n",
       "      <th colspan=\"2\" halign=\"left\">448</th>\n",
       "    </tr>\n",
       "    <tr>\n",
       "      <th></th>\n",
       "      <th>baseline</th>\n",
       "      <th>drugtreated</th>\n",
       "      <th>baseline</th>\n",
       "      <th>drugtreated</th>\n",
       "    </tr>\n",
       "  </thead>\n",
       "  <tbody>\n",
       "    <tr>\n",
       "      <th>habituation</th>\n",
       "      <td>0.0</td>\n",
       "      <td>0.000000</td>\n",
       "      <td>7.800000</td>\n",
       "      <td>0.000000</td>\n",
       "    </tr>\n",
       "    <tr>\n",
       "      <th>forward</th>\n",
       "      <td>0.0</td>\n",
       "      <td>33.766234</td>\n",
       "      <td>20.727273</td>\n",
       "      <td>33.846154</td>\n",
       "    </tr>\n",
       "    <tr>\n",
       "      <th>right</th>\n",
       "      <td>0.0</td>\n",
       "      <td>40.779221</td>\n",
       "      <td>19.090909</td>\n",
       "      <td>45.818182</td>\n",
       "    </tr>\n",
       "    <tr>\n",
       "      <th>left</th>\n",
       "      <td>0.0</td>\n",
       "      <td>66.611570</td>\n",
       "      <td>33.636364</td>\n",
       "      <td>58.930481</td>\n",
       "    </tr>\n",
       "    <tr>\n",
       "      <th>backward</th>\n",
       "      <td>0.0</td>\n",
       "      <td>42.909091</td>\n",
       "      <td>12.727273</td>\n",
       "      <td>29.220779</td>\n",
       "    </tr>\n",
       "  </tbody>\n",
       "</table>\n",
       "</div>"
      ],
      "text/plain": [
       "                 446                    448            \n",
       "            baseline drugtreated   baseline drugtreated\n",
       "habituation      0.0    0.000000   7.800000    0.000000\n",
       "forward          0.0   33.766234  20.727273   33.846154\n",
       "right            0.0   40.779221  19.090909   45.818182\n",
       "left             0.0   66.611570  33.636364   58.930481\n",
       "backward         0.0   42.909091  12.727273   29.220779"
      ]
     },
     "execution_count": 53,
     "metadata": {},
     "output_type": "execute_result"
    }
   ],
   "source": [
    "boutcount_df = measurepertime(boutdf, measure='boutcount', time='min')\n",
    "boutcount_df"
   ]
  },
  {
   "cell_type": "code",
   "execution_count": 54,
   "metadata": {},
   "outputs": [
    {
     "name": "stdout",
     "output_type": "stream",
     "text": [
      "[(448, True)]\n"
     ]
    },
    {
     "data": {
      "image/png": "[encoded data removed]",
      "text/plain": [
       "<Figure size 1080x360 with 1 Axes>"
      ]
     },
     "metadata": {
      "needs_background": "light"
     },
     "output_type": "display_data"
    }
   ],
   "source": [
    "usable_fish = barplot_perfish(parent_folder, boutcount_df, level=lvl)\n",
    "print(usable_fish)\n",
    "\n",
    "if len(usable_fish) > 0:\n",
    "    for fish in usable_fish:\n",
    "        fish_instance = omrFish(exp_folder, fish[0], fish[1])\n",
    "        fish_instance.load_fish_to_dataframe(\"master_fish.csv\")"
   ]
  },
  {
   "cell_type": "code",
   "execution_count": null,
   "metadata": {},
   "outputs": [],
   "source": [
    "lineplot_perfish(parent_folder, boutdf, level=lvl, measure='distance')"
   ]
  },
  {
   "cell_type": "code",
   "execution_count": null,
   "metadata": {},
   "outputs": [],
   "source": [
    "lineplot_perfish(parent_folder, boutdf, level=lvl, measure='dist_from_center')"
   ]
  },
  {
   "cell_type": "code",
   "execution_count": null,
   "metadata": {},
   "outputs": [],
   "source": [
    "histplot(parent_folder, boutdf, level=lvl, measure='bout_duration')"
   ]
  },
  {
   "cell_type": "code",
   "execution_count": null,
   "metadata": {
    "scrolled": false
   },
   "outputs": [],
   "source": [
    "histplot_perfish(parent_folder, boutdf, level=lvl, measure='bout_angle')"
   ]
  },
  {
   "cell_type": "code",
   "execution_count": null,
   "metadata": {},
   "outputs": [],
   "source": [
    "scatterplot_perfish(parent_folder, df, level=lvl, stim_name='right')"
   ]
  },
  {
   "cell_type": "code",
   "execution_count": null,
   "metadata": {},
   "outputs": [],
   "source": [
    "scatterplot_perfish(parent_folder, df, level=lvl, stim_name='left')"
   ]
  },
  {
   "cell_type": "markdown",
   "metadata": {},
   "source": [
    "# DataFrame Analysis"
   ]
  },
  {
   "cell_type": "code",
   "execution_count": null,
   "metadata": {},
   "outputs": [],
   "source": [
    "final_df = pd.read_csv('master_fish.csv')"
   ]
  },
  {
   "cell_type": "markdown",
   "metadata": {},
   "source": [
    "## DOI vs EggH20 (all)"
   ]
  },
  {
   "cell_type": "code",
   "execution_count": null,
   "metadata": {},
   "outputs": [],
   "source": [
    "concentrations = list(set(final_df['concentration'].tolist()))\n",
    "\n",
    "# final_df = final_df[(final_df[\"active\"] == \"TRUE\")]\n",
    "\n",
    "\n",
    "for _conc in concentrations:\n",
    "    fish_list = final_df[final_df['concentration'] == _conc].id.tolist()\n",
    "    create_concdf(data_folder, _conc, fish_list)\n",
    "    print('concdf created for ' + _conc)"
   ]
  },
  {
   "cell_type": "code",
   "execution_count": null,
   "metadata": {},
   "outputs": [],
   "source": [
    "'''DOI_conc = '100ugml'\n",
    "good_fish = [114, 115, 116, 117, 119, 120, 185, 186, 188, 189, 190, 192, 193, 194, 195, 196, 237, 238, 239, 240, 241, 242, 243, \n",
    "             244] # for 100 ug/ml\n",
    "create_concdf(data_folder, DOI_conc, good_fish)\n",
    "\n",
    "DOI_conc = '75ugml'\n",
    "good_fish = [89, 90, 92, 93, 94, 95, 96, 105, 107, 108, 109, 111, 112, 181, 182, 183, 184, 225, 226, 227, 228] # for 75 ug/ml\n",
    "create_concdf(data_folder, DOI_conc, good_fish)\n",
    "\n",
    "DOI_conc = '50ugml'\n",
    "good_fish = [81, 82, 83, 85, 86, 87, 88, 161, 162, 163, 164, 165, 167, 168, 169, 170, 171, 172, 205, 206, 207] # for 50 ug/ml\n",
    "create_concdf(data_folder, DOI_conc, good_fish)\n",
    "\n",
    "DOI_conc = '25ugml'\n",
    "good_fish = [153, 155, 156, 157, 158, 159, 160, 173, 174, 175, 176, 178, 179, 180, 197, 198, 199, 200, 201, 203, 204, 245, 246, \n",
    "             247, 248] # for 25 ug/ml\n",
    "create_concdf(data_folder, DOI_conc, good_fish)\n",
    "\n",
    "DOI_conc = '10ugml'\n",
    "good_fish = [73, 74, 75, 77, 78, 79, 210, 211, 217, 218, 219, 220, 221, 222, 223, 224, 233, 234, 235, 252, 253, 254, 255, 256] # for 10 ug/ml\n",
    "create_concdf(data_folder, DOI_conc, good_fish)\n",
    "\n",
    "DOI_conc = '0ugml'\n",
    "good_fish = [66, 67, 68, 69, 70, 71, 72, 122, 123, 124, 125, 126, 127, 128, 229, 230, 231, 232, 257, 258, 259, 261, 262, 264] # for 0 ug/ml (egg water)\n",
    "create_concdf(data_folder, DOI_conc, good_fish)'''"
   ]
  },
  {
   "cell_type": "markdown",
   "metadata": {},
   "source": [
    "## Within concentration data analysis"
   ]
  },
  {
   "cell_type": "code",
   "execution_count": null,
   "metadata": {},
   "outputs": [],
   "source": [
    "DOI_conc = '50ugml'"
   ]
  },
  {
   "cell_type": "code",
   "execution_count": null,
   "metadata": {},
   "outputs": [],
   "source": [
    "# df_path = os.path.join(data_folder, f'{DOI_conc}_DOI_selected_finaldf.h5')\n",
    "# df = pd.read_hdf(df_path)\n",
    "bout_path = os.path.join(data_folder, f'{DOI_conc}_DOI_selected_finalboutdf.h5')\n",
    "boutdf = pd.read_hdf(bout_path)"
   ]
  },
  {
   "cell_type": "code",
   "execution_count": null,
   "metadata": {},
   "outputs": [],
   "source": [
    "lineplot_perconc(data_folder, boutdf, measure='distance')"
   ]
  },
  {
   "cell_type": "code",
   "execution_count": null,
   "metadata": {},
   "outputs": [],
   "source": [
    "lineplot_perconc_baselinenorm(data_folder, boutdf, measure='distance')"
   ]
  },
  {
   "cell_type": "code",
   "execution_count": null,
   "metadata": {},
   "outputs": [],
   "source": [
    "lineplot_perconc(data_folder, boutdf, measure='dist_from_center')"
   ]
  },
  {
   "cell_type": "code",
   "execution_count": null,
   "metadata": {},
   "outputs": [],
   "source": [
    "lineplot_perconc_baselinenorm(data_folder, boutdf, measure='dist_from_center')"
   ]
  },
  {
   "cell_type": "code",
   "execution_count": null,
   "metadata": {
    "scrolled": false
   },
   "outputs": [],
   "source": [
    "histplot_perconc(data_folder, boutdf, 'bout_angle')"
   ]
  },
  {
   "cell_type": "code",
   "execution_count": null,
   "metadata": {},
   "outputs": [],
   "source": [
    "histplot_perconc(data_folder, boutdf, 'bout_duration')"
   ]
  },
  {
   "cell_type": "markdown",
   "metadata": {},
   "source": [
    "## Between concentration data analysis"
   ]
  },
  {
   "cell_type": "code",
   "execution_count": null,
   "metadata": {},
   "outputs": [],
   "source": [
    "create_alldf(data_folder)"
   ]
  },
  {
   "cell_type": "code",
   "execution_count": null,
   "metadata": {},
   "outputs": [],
   "source": [
    "alldf = pd.read_hdf(os.path.join(data_folder, 'alldf.h5'))"
   ]
  },
  {
   "cell_type": "code",
   "execution_count": null,
   "metadata": {},
   "outputs": [],
   "source": [
    "alldf"
   ]
  },
  {
   "cell_type": "code",
   "execution_count": null,
   "metadata": {},
   "outputs": [],
   "source": [
    "plot_all_distovertime(data_folder, alldf)"
   ]
  },
  {
   "cell_type": "code",
   "execution_count": null,
   "metadata": {},
   "outputs": [],
   "source": [
    "bin_sums = plot_all_distovertime_normalized(data_folder, alldf)"
   ]
  },
  {
   "cell_type": "code",
   "execution_count": null,
   "metadata": {},
   "outputs": [],
   "source": [
    "labels = [int(i) for i in alldf.concentration.unique()]\n",
    "labels.sort()\n",
    "bin_anova(bin_sums, labels)"
   ]
  },
  {
   "cell_type": "code",
   "execution_count": null,
   "metadata": {},
   "outputs": [],
   "source": [
    "plt_avgperconc(data_folder, alldf, 'dist')"
   ]
  },
  {
   "cell_type": "code",
   "execution_count": null,
   "metadata": {},
   "outputs": [],
   "source": [
    "plt_avgperconc(data_folder, alldf, 'boutcount')"
   ]
  },
  {
   "cell_type": "code",
   "execution_count": null,
   "metadata": {},
   "outputs": [],
   "source": [
    "plt_avgperconc(data_folder, alldf, 'thigmotaxis_dist')"
   ]
  },
  {
   "cell_type": "code",
   "execution_count": null,
   "metadata": {},
   "outputs": [],
   "source": [
    "plt_avgperconc(data_folder, alldf, 'thigmotaxis_time')"
   ]
  },
  {
   "cell_type": "code",
   "execution_count": null,
   "metadata": {},
   "outputs": [],
   "source": []
  },
  {
   "cell_type": "code",
   "execution_count": null,
   "metadata": {},
   "outputs": [],
   "source": []
  },
  {
   "cell_type": "code",
   "execution_count": null,
   "metadata": {},
   "outputs": [],
   "source": [
    "stimulus = 'left'\n",
    "stimdf = dataframe[dataframe.stim_name==stimulus]\n",
    "hist, std, bins = Hist(dataframe, boutframe, stims=[stimulus])\n",
    "\n",
    "fig, ax = plt.subplots(1,4, figsize=(16,6))\n",
    "\n",
    "ax[0].set_title(f'Cumulative Theta {stimulus}')\n",
    "ax[1].set_title(f'Cumulative Theta {stimulus}')\n",
    "\n",
    "for stim_ind in stimdf.stim_index.unique():\n",
    "    ind_df = stimdf[stimdf.stim_index==stim_ind]\n",
    "    try:\n",
    "        ax[0].plot(ind_df.stim_time.values, ind_df.cum_theta.values)\n",
    "    except:\n",
    "        pass\n",
    "\n",
    "try:\n",
    "    ax[1].plot(bins[1:], gaussian_filter(hist, sigma=1))\n",
    "except:\n",
    "    pass\n",
    "\n",
    "stimulus = 'right'\n",
    "stimdf = dataframe[dataframe.stim_name==stimulus]\n",
    "hist, std, bins = Hist(dataframe, boutframe, stims=[stimulus])\n",
    "\n",
    "for stim_ind in stimdf.stim_index.unique():\n",
    "    ind_df = stimdf[stimdf.stim_index==stim_ind]\n",
    "    try:\n",
    "        ax[2].plot(ind_df.stim_time.values, ind_df.cum_theta.values)\n",
    "    except:\n",
    "        pass\n",
    "\n",
    "try:\n",
    "    ax[3].plot(bins[1:], gaussian_filter(hist, sigma=1))\n",
    "except:\n",
    "    pass\n",
    "\n",
    "ax[2].set_title(f'Bout Frequency {stimulus}')\n",
    "ax[3].set_title(f'Bout Frequency {stimulus}')\n",
    "\n",
    "ax[0].set_xlim(0,15)\n",
    "ax[0].set_ylim(-10,10)\n",
    "ax[2].set_xlim(0,15)\n",
    "ax[2].set_ylim(-10,10)\n",
    "\n",
    "ax[1].set_ylim(-5,100)\n",
    "ax[3].set_ylim(-5,100)\n",
    "\n",
    "fig.suptitle(f'fish: {3},  rig: {5}')\n",
    "plt.show()"
   ]
  },
  {
   "cell_type": "code",
   "execution_count": null,
   "metadata": {},
   "outputs": [],
   "source": []
  }
 ],
 "metadata": {
  "kernelspec": {
   "display_name": "Python 3 (ipykernel)",
   "language": "python",
   "name": "python3"
  },
  "language_info": {
   "codemirror_mode": {
    "name": "ipython",
    "version": 3
   },
   "file_extension": ".py",
   "mimetype": "text/x-python",
   "name": "python",
   "nbconvert_exporter": "python",
   "pygments_lexer": "ipython3",
   "version": "3.9.12"
  }
 },
 "nbformat": 4,
 "nbformat_minor": 4
}
